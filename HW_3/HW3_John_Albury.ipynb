{
  "nbformat": 4,
  "nbformat_minor": 0,
  "metadata": {
    "colab": {
      "name": "HW3_John_Albury.ipynb",
      "provenance": [],
      "collapsed_sections": [],
      "authorship_tag": "ABX9TyPYmLTZ3ZosMufKOtsTD9Ls",
      "include_colab_link": true
    },
    "kernelspec": {
      "name": "python3",
      "display_name": "Python 3"
    }
  },
  "cells": [
    {
      "cell_type": "markdown",
      "metadata": {
        "id": "view-in-github",
        "colab_type": "text"
      },
      "source": [
        "<a href=\"https://colab.research.google.com/github/jalbury/machine-learning/blob/master/HW_3/HW3_John_Albury.ipynb\" target=\"_parent\"><img src=\"https://colab.research.google.com/assets/colab-badge.svg\" alt=\"Open In Colab\"/></a>"
      ]
    },
    {
      "cell_type": "markdown",
      "metadata": {
        "id": "kSDu8qY6iuap",
        "colab_type": "text"
      },
      "source": [
        "# Imports"
      ]
    },
    {
      "cell_type": "code",
      "metadata": {
        "id": "gZJEij-oikBS",
        "colab_type": "code",
        "colab": {}
      },
      "source": [
        "%tensorflow_version 2.x\n",
        "import numpy as np\n",
        "import matplotlib.pyplot as plt\n",
        "from tensorflow.keras import models\n",
        "from tensorflow.keras import layers"
      ],
      "execution_count": 0,
      "outputs": []
    },
    {
      "cell_type": "markdown",
      "metadata": {
        "id": "-jjiq2HFht1j",
        "colab_type": "text"
      },
      "source": [
        "# Problem 1"
      ]
    },
    {
      "cell_type": "markdown",
      "metadata": {
        "id": "kzAHM5Xxiz75",
        "colab_type": "text"
      },
      "source": [
        "## Generate random data"
      ]
    },
    {
      "cell_type": "markdown",
      "metadata": {
        "id": "O29Xeh__ia6D",
        "colab_type": "text"
      },
      "source": [
        "First, random data is generated for use in the logistic regression implementations using the function `get_random_data()`.\n",
        "\n",
        "The `get_random_data` function has the following parameters: weight (`w`), bias (`b`), mean of normal distribution (`mu`), standard deviation of normal distribution (`sigma`), and number of data points to generate (`m`). The function returns an array representing the `m` data points generated (with two features) and an array with the corresponding labels.\n",
        "\n",
        "The data is generated as follows:\n",
        "- Label $c$ is chosen to be $0$ with probability $1 \\over 2$ and $1$ with probability $1 \\over 2$\n",
        "- Feature $x_1$ is distributed uniformly at random in the interval $[0, 1)$\n",
        "- Feature $x_2 = w x_1 + b + (-1)^c n$\n",
        "    - $n$ is distributed normally at random according to the given mean (`mu`) and standard deviation (`sigma`) parameters"
      ]
    },
    {
      "cell_type": "code",
      "metadata": {
        "id": "V52m8VVTir87",
        "colab_type": "code",
        "colab": {}
      },
      "source": [
        "def get_random_data(w, b, mu, sigma, m):\n",
        "  data = np.empty((m, 2))\n",
        "\n",
        "  # Set first column of data (x_1) to uniform distribution between 0 and 1\n",
        "  data[:,0] = np.random.uniform(size=m)\n",
        "  \n",
        "  # Get array of random, uniformly distributed 0 and 1 values for c\n",
        "  c = np.random.uniform(size=m)\n",
        "  c = [1. if x < 0.5 else 0. for x in c]\n",
        "\n",
        "  # Use entries of c as labels\n",
        "  labels = np.array(c)\n",
        "\n",
        "  # Generate m noise values using normal distribution\n",
        "  noise = np.random.normal(mu, sigma, m)\n",
        "\n",
        "  # Set second column of data (x_2) based on parameters given, with noise added\n",
        "  data[:,1] = w * data[:,0] + b + np.power(-1., c) * noise\n",
        "  \n",
        "  return data, labels"
      ],
      "execution_count": 0,
      "outputs": []
    },
    {
      "cell_type": "markdown",
      "metadata": {
        "id": "i8hfSO_6odhE",
        "colab_type": "text"
      },
      "source": [
        "## Display random data"
      ]
    },
    {
      "cell_type": "markdown",
      "metadata": {
        "id": "aSDCvuZpeIpP",
        "colab_type": "text"
      },
      "source": [
        "Next, the generated data is displayed using a [matplotlib scatter plot](https://matplotlib.org/3.2.0/gallery/lines_bars_and_markers/scatter_with_legend.html#sphx-glr-gallery-lines-bars-and-markers-scatter-with-legend-py). Points generated above the line (labeled 0) are colored blue, and points generated below the line (labeled 1) are colored red.\n",
        "\n",
        "To separate the data points according to their labels, I used [Boolean array indexing](https://numpy.org/devdocs/reference/arrays.indexing.html#boolean-array-indexing). This allowed me to index the `data` array according to the values at those indexes in the `labels` array.\n",
        "\n",
        "\n"
      ]
    },
    {
      "cell_type": "code",
      "metadata": {
        "id": "InTLN-acolV5",
        "colab_type": "code",
        "colab": {}
      },
      "source": [
        "def display_random_data(data, labels):\n",
        "  # Separate data into points generated above the line (labeled 0) and points\n",
        "  # generated below the line (labeled 1)\n",
        "  above_line = data[labels==0]\n",
        "  below_line = data[labels==1]\n",
        "\n",
        "  # Use scatter plot to show data points\n",
        "  plt.scatter(above_line[:,0], above_line[:,1], c='blue')\n",
        "  plt.scatter(below_line[:,0], below_line[:,1], c='red')"
      ],
      "execution_count": 0,
      "outputs": []
    },
    {
      "cell_type": "markdown",
      "metadata": {
        "id": "z6nYpkBR6eP0",
        "colab_type": "text"
      },
      "source": [
        "## Experiment with different values of `mu` and `sigma`"
      ]
    },
    {
      "cell_type": "markdown",
      "metadata": {
        "id": "3_dyS1Mp7RD_",
        "colab_type": "text"
      },
      "source": [
        "First, the `mu` parameter, the mean of the normal distribution that is used to generate the noise for feature $x_2$, will be varied."
      ]
    },
    {
      "cell_type": "code",
      "metadata": {
        "id": "4jsCxH586sIL",
        "colab_type": "code",
        "colab": {
          "base_uri": "https://localhost:8080/",
          "height": 265
        },
        "outputId": "4d84222f-6746-47c9-c200-0a88094e4b64"
      },
      "source": [
        "# Use small value (0.01) for mu\n",
        "small_mu_data, small_mu_labels = get_random_data(2.0, 3.0, 0.01, 0.0, 100)\n",
        "display_random_data(small_mu_data, small_mu_labels)"
      ],
      "execution_count": 96,
      "outputs": [
        {
          "output_type": "display_data",
          "data": {
            "image/png": "[encoded data removed]",
            "text/plain": [
              "<Figure size 432x288 with 1 Axes>"
            ]
          },
          "metadata": {
            "tags": []
          }
        }
      ]
    },
    {
      "cell_type": "code",
      "metadata": {
        "id": "6SgU32gj7_bo",
        "colab_type": "code",
        "colab": {
          "base_uri": "https://localhost:8080/",
          "height": 267
        },
        "outputId": "f6c3e5d3-da4a-4262-84c2-821dad873902"
      },
      "source": [
        "# Use larger value (1.0) for mu, leaving all other parameters constant\n",
        "large_mu_data, large_mu_labels = get_random_data(2.0, 3.0, 1.0, 0.0, 100)\n",
        "display_random_data(large_mu_data, large_mu_labels)"
      ],
      "execution_count": 97,
      "outputs": [
        {
          "output_type": "display_data",
          "data": {
            "image/png": "[encoded data removed]",
            "text/plain": [
              "<Figure size 432x288 with 1 Axes>"
            ]
          },
          "metadata": {
            "tags": []
          }
        }
      ]
    },
    {
      "cell_type": "markdown",
      "metadata": {
        "id": "9rTjWRwF8PXh",
        "colab_type": "text"
      },
      "source": [
        "As can be seen in the plots above, increasing the value of `mu` results in more separation between the points labeled 0 and the points labeled 1.\n",
        "\n",
        "Next, the `sigma` parameter, the standard deviation of the normal distribution that is used to generate the noise for feature $x_2$ will be varied."
      ]
    },
    {
      "cell_type": "code",
      "metadata": {
        "id": "GqVYQlR397O6",
        "colab_type": "code",
        "colab": {
          "base_uri": "https://localhost:8080/",
          "height": 265
        },
        "outputId": "ed7997d2-76ee-485c-b6c0-933a56744bd3"
      },
      "source": [
        "# Use small value (0.01) for sigma\n",
        "small_sigma_data, small_sigma_labels = get_random_data(2.0, 3.0, 0.1, 0.01, 100)\n",
        "display_random_data(small_sigma_data, small_sigma_labels)"
      ],
      "execution_count": 98,
      "outputs": [
        {
          "output_type": "display_data",
          "data": {
            "image/png": "[encoded data removed]",
            "text/plain": [
              "<Figure size 432x288 with 1 Axes>"
            ]
          },
          "metadata": {
            "tags": []
          }
        }
      ]
    },
    {
      "cell_type": "code",
      "metadata": {
        "id": "T40GzbWJ-QXe",
        "colab_type": "code",
        "colab": {
          "base_uri": "https://localhost:8080/",
          "height": 265
        },
        "outputId": "6a06ffee-b97f-4ebf-9820-c1a202238779"
      },
      "source": [
        "# Use larger value (0.5) for sigma, leaving all other parameters constant\n",
        "large_sigma_data, large_sigma_labels = get_random_data(2.0, 3.0, 0.1, 0.5, 100)\n",
        "display_random_data(large_sigma_data, large_sigma_labels)"
      ],
      "execution_count": 99,
      "outputs": [
        {
          "output_type": "display_data",
          "data": {
            "image/png": "[encoded data removed]",
            "text/plain": [
              "<Figure size 432x288 with 1 Axes>"
            ]
          },
          "metadata": {
            "tags": []
          }
        }
      ]
    },
    {
      "cell_type": "markdown",
      "metadata": {
        "id": "IkoBBvH8-cc4",
        "colab_type": "text"
      },
      "source": [
        "As can be seen in the plots above, increasing the value of `sigma` results in more points being on the wrong side of the line. For example, in the charts above, points labeled 0 should be above the line $y = 2x + 3$, and points labeled 1 should be below the line. When `sigma` is large, there are many points where this is not true.\n",
        "\n",
        "For the data I will use in problems 2 and 3, I chose moderate values for `sigma` and `mu`. I chose `mu` to be $0.25$ and `sigma` to be $0.2$."
      ]
    },
    {
      "cell_type": "code",
      "metadata": {
        "id": "WfTfxRb6AEIT",
        "colab_type": "code",
        "colab": {
          "base_uri": "https://localhost:8080/",
          "height": 265
        },
        "outputId": "1dd8a1ff-440e-4198-efb8-362901300881"
      },
      "source": [
        "actual_w = 2.0\n",
        "actual_b = 3.0\n",
        "small_m_data, small_m_labels = get_random_data(actual_w, actual_b, 0.25, 0.2,\n",
        "                                               100)\n",
        "display_random_data(small_m_data, small_m_labels)"
      ],
      "execution_count": 100,
      "outputs": [
        {
          "output_type": "display_data",
          "data": {
            "image/png": "[encoded data removed]",
            "text/plain": [
              "<Figure size 432x288 with 1 Axes>"
            ]
          },
          "metadata": {
            "tags": []
          }
        }
      ]
    },
    {
      "cell_type": "markdown",
      "metadata": {
        "id": "stArva16Amc5",
        "colab_type": "text"
      },
      "source": [
        "However, for my models to learn the pattern of the data, they may need more data points. I will use 10,000 data points to ensure that the models have enough data to learn from."
      ]
    },
    {
      "cell_type": "code",
      "metadata": {
        "id": "Rc_dj6zAAlxB",
        "colab_type": "code",
        "colab": {
          "base_uri": "https://localhost:8080/",
          "height": 265
        },
        "outputId": "df298019-b363-4e39-de8b-653e82a220ec"
      },
      "source": [
        "data, labels = get_random_data(actual_w, actual_b, 0.25, 0.2, 10000)\n",
        "display_random_data(data, labels)"
      ],
      "execution_count": 105,
      "outputs": [
        {
          "output_type": "display_data",
          "data": {
            "image/png": "[encoded data removed]",
            "text/plain": [
              "<Figure size 432x288 with 1 Axes>"
            ]
          },
          "metadata": {
            "tags": []
          }
        }
      ]
    },
    {
      "cell_type": "markdown",
      "metadata": {
        "id": "pbR5bj6Khexb",
        "colab_type": "text"
      },
      "source": [
        "## Split data into training set and test set"
      ]
    },
    {
      "cell_type": "markdown",
      "metadata": {
        "id": "Ow1jnvMkmaHi",
        "colab_type": "text"
      },
      "source": [
        "Next, the data and labels are split into a training set (80%) and a test set (20%)."
      ]
    },
    {
      "cell_type": "code",
      "metadata": {
        "id": "rcWCCFJqjYlq",
        "colab_type": "code",
        "colab": {}
      },
      "source": [
        "# Get number of elements in the training set (80% of data set)\n",
        "train_size = int(0.8 * labels.shape[0])\n",
        "\n",
        "# Split data and labels into training set and test set\n",
        "train_data = data[:train_size]\n",
        "train_labels = labels[:train_size]\n",
        "test_data = data[train_size:]\n",
        "test_labels = labels[train_size:]"
      ],
      "execution_count": 0,
      "outputs": []
    },
    {
      "cell_type": "markdown",
      "metadata": {
        "id": "1WqC5Llnhwk-",
        "colab_type": "text"
      },
      "source": [
        "# Problem 2"
      ]
    },
    {
      "cell_type": "markdown",
      "metadata": {
        "id": "ohBF4L-Rh24f",
        "colab_type": "text"
      },
      "source": [
        "## Implement logistic regression using Keras\n"
      ]
    },
    {
      "cell_type": "markdown",
      "metadata": {
        "id": "sN7diPsGagRs",
        "colab_type": "text"
      },
      "source": [
        "Since logistic regression is being performed, sigmoid is used as the activation function for the final (and only) layer, and binary crossentropy is used as the loss function. RMSprop is used as the optimizer.\n",
        "\n",
        "The model is trained on the training set for 20 epochs using a batch size of 512, then the model is evaluated on the test set."
      ]
    },
    {
      "cell_type": "code",
      "metadata": {
        "id": "GNEvNz95nXTm",
        "colab_type": "code",
        "outputId": "9da2301e-6356-48cf-dc64-ce8ae29c3880",
        "colab": {
          "base_uri": "https://localhost:8080/",
          "height": 731
        }
      },
      "source": [
        "# Create model\n",
        "model = models.Sequential()\n",
        "model.add(layers.Dense(1, activation='sigmoid'))\n",
        "model.compile(optimizer='rmsprop', loss='binary_crossentropy',\n",
        "              metrics=['accuracy'])\n",
        "\n",
        "# Train model\n",
        "model.fit(train_data, train_labels, epochs=20, batch_size=512)\n",
        "\n",
        "# Evaluate model\n",
        "results = model.evaluate(test_data, test_labels)"
      ],
      "execution_count": 107,
      "outputs": [
        {
          "output_type": "stream",
          "text": [
            "Train on 8000 samples\n",
            "Epoch 1/20\n",
            "8000/8000 [==============================] - 0s 38us/sample - loss: 0.7353 - accuracy: 0.4950\n",
            "Epoch 2/20\n",
            "8000/8000 [==============================] - 0s 3us/sample - loss: 0.7207 - accuracy: 0.5036\n",
            "Epoch 3/20\n",
            "8000/8000 [==============================] - 0s 3us/sample - loss: 0.7104 - accuracy: 0.5090\n",
            "Epoch 4/20\n",
            "8000/8000 [==============================] - 0s 3us/sample - loss: 0.7020 - accuracy: 0.5123\n",
            "Epoch 5/20\n",
            "8000/8000 [==============================] - 0s 3us/sample - loss: 0.6952 - accuracy: 0.5251\n",
            "Epoch 6/20\n",
            "8000/8000 [==============================] - 0s 3us/sample - loss: 0.6902 - accuracy: 0.5321\n",
            "Epoch 7/20\n",
            "8000/8000 [==============================] - 0s 3us/sample - loss: 0.6864 - accuracy: 0.5375\n",
            "Epoch 8/20\n",
            "8000/8000 [==============================] - 0s 3us/sample - loss: 0.6840 - accuracy: 0.5487\n",
            "Epoch 9/20\n",
            "8000/8000 [==============================] - 0s 3us/sample - loss: 0.6824 - accuracy: 0.5520\n",
            "Epoch 10/20\n",
            "8000/8000 [==============================] - 0s 3us/sample - loss: 0.6814 - accuracy: 0.5573\n",
            "Epoch 11/20\n",
            "8000/8000 [==============================] - 0s 3us/sample - loss: 0.6808 - accuracy: 0.5623\n",
            "Epoch 12/20\n",
            "8000/8000 [==============================] - 0s 3us/sample - loss: 0.6802 - accuracy: 0.5646\n",
            "Epoch 13/20\n",
            "8000/8000 [==============================] - 0s 3us/sample - loss: 0.6796 - accuracy: 0.5660\n",
            "Epoch 14/20\n",
            "8000/8000 [==============================] - 0s 3us/sample - loss: 0.6791 - accuracy: 0.5701\n",
            "Epoch 15/20\n",
            "8000/8000 [==============================] - 0s 3us/sample - loss: 0.6786 - accuracy: 0.5705\n",
            "Epoch 16/20\n",
            "8000/8000 [==============================] - 0s 3us/sample - loss: 0.6781 - accuracy: 0.5717\n",
            "Epoch 17/20\n",
            "8000/8000 [==============================] - 0s 3us/sample - loss: 0.6776 - accuracy: 0.5755\n",
            "Epoch 18/20\n",
            "8000/8000 [==============================] - 0s 3us/sample - loss: 0.6771 - accuracy: 0.5764\n",
            "Epoch 19/20\n",
            "8000/8000 [==============================] - 0s 3us/sample - loss: 0.6766 - accuracy: 0.5779\n",
            "Epoch 20/20\n",
            "8000/8000 [==============================] - 0s 3us/sample - loss: 0.6761 - accuracy: 0.5790\n",
            "2000/2000 [==============================] - 0s 63us/sample - loss: 0.6813 - accuracy: 0.5615\n"
          ],
          "name": "stdout"
        }
      ]
    },
    {
      "cell_type": "code",
      "metadata": {
        "id": "YkLrMdAeRXJS",
        "colab_type": "code",
        "outputId": "92c65a79-56d2-4282-db11-9d5e1b1f635d",
        "colab": {
          "base_uri": "https://localhost:8080/",
          "height": 102
        }
      },
      "source": [
        "print(\"\\nResults on Test Set\")\n",
        "print(\"===================\")\n",
        "print(\"Loss:\", results[0])\n",
        "print(\"Accuracy:\", results[1])"
      ],
      "execution_count": 108,
      "outputs": [
        {
          "output_type": "stream",
          "text": [
            "\n",
            "Results on Test Set\n",
            "===================\n",
            "Loss: 0.6812658534049988\n",
            "Accuracy: 0.5615\n"
          ],
          "name": "stdout"
        }
      ]
    },
    {
      "cell_type": "markdown",
      "metadata": {
        "id": "gO2kRR97h9mb",
        "colab_type": "text"
      },
      "source": [
        "## Display results"
      ]
    },
    {
      "cell_type": "markdown",
      "metadata": {
        "id": "8cCWykL1RtT_",
        "colab_type": "text"
      },
      "source": [
        "### Heatmap visualization"
      ]
    },
    {
      "cell_type": "markdown",
      "metadata": {
        "id": "17NC2cJvW7Sm",
        "colab_type": "text"
      },
      "source": [
        "The heatmap below visualizes the function $f: \\mathbb{R}^2 \\rightarrow \\mathbb{R}$ that the trained model realizes.\n"
      ]
    },
    {
      "cell_type": "code",
      "metadata": {
        "id": "iIi05_RlX5a1",
        "colab_type": "code",
        "outputId": "9014ccaa-7ea1-4440-b806-5b1982297b96",
        "colab": {
          "base_uri": "https://localhost:8080/",
          "height": 269
        }
      },
      "source": [
        "x = np.linspace(0, 1, 50)\n",
        "y = np.linspace(0, 7, 50)\n",
        "X, Y = np.meshgrid(x, y)\n",
        "X = X.flatten()\n",
        "Y = Y.flatten()\n",
        "Z = model.predict(np.column_stack((X, Y)))\n",
        "Z = Z.flatten()\n",
        "plt.tricontourf(X, Y, Z, 50, cmap='RdGy')\n",
        "plt.colorbar();"
      ],
      "execution_count": 109,
      "outputs": [
        {
          "output_type": "display_data",
          "data": {
            "image/png": "[encoded data removed]",
            "text/plain": [
              "<Figure size 432x288 with 2 Axes>"
            ]
          },
          "metadata": {
            "tags": []
          }
        }
      ]
    },
    {
      "cell_type": "markdown",
      "metadata": {
        "id": "sQJQBkgnRyxr",
        "colab_type": "text"
      },
      "source": [
        "### Separating line of trained model"
      ]
    },
    {
      "cell_type": "markdown",
      "metadata": {
        "id": "2zlwAGAhfpWp",
        "colab_type": "text"
      },
      "source": [
        "The separating line for the data is when the output of the model is $1 \\over 2$. This is because $0.5$ is used as the threshold for classifying whether a point is label 0 or label 1. For example, if the output of the model is above $0.5$ for a given example, the model will predict that the example belongs to class 0; if the output of the model is below $0.5$, the model will predict that the example belongs to class 1.\n",
        "\n",
        "The output of the model is computed from the given input features $x_1$ and $x_2$ as follows: $a =$ $1 \\over 1 + e^{-z}$, where $z = w_1 x_1 + w_2 x_2 + b$. Thus, we are interested in the line of points where $1 \\over 1 + e^{-(w_1 x_1 + w_2 x_2 + b)}$ $=$ $1 \\over 2$. A property of the sigmoid activation function $\\sigma$ is that $\\sigma(0) =$ $1 \\over 2$. That means we are interested in the line of points where $z = w_1 x_1 + w_2 x_2 + b = 0$.\n",
        "\n",
        "Since $x_2$ is dependent on $x_1$, we will find a formula $x_2 = w_{line} x_1 + b_{line}$ to get the separating line of the trained model. $w_1 x_1 + w_2 x_2 + b = 0$ can be rewritten as $x_2 =$ $-w_1 x_1 - b \\over w_2$ $=$ $-w_1 \\over w_2$ $x$ + $-b \\over w_2$. This shows that $w_{line} =$ $-w_1 \\over w_2$ and $b_{line} =$ $-b \\over w_2$.\n",
        "\n",
        "The code below outputs the values for $w_{line}$ and $b_{line}$, along with the actual weight and bias from the trained model."
      ]
    },
    {
      "cell_type": "code",
      "metadata": {
        "id": "OqdgZHE3WTqy",
        "colab_type": "code",
        "outputId": "943d0da8-52bd-4dc8-b7a2-7cf2f8b55027",
        "colab": {
          "base_uri": "https://localhost:8080/",
          "height": 85
        }
      },
      "source": [
        "weights = model.get_weights()\n",
        "w_1 = weights[0][0][0]\n",
        "w_2 = weights[0][1][0]\n",
        "b = weights[1][0]\n",
        "w_line = -w_1 / w_2\n",
        "b_line = -b / w_2\n",
        "\n",
        "print(\"Separating Line\")\n",
        "print(\"===============\")\n",
        "print(\"Predicted Weight: {0:.2f}, Actual Weight: {1:.2f}\".format(w_line,\n",
        "                                                                 actual_w))\n",
        "print(\"Predicted Bias: {0:.2f}, Actual Bias: {1:.2f}\".format(b_line, actual_b))"
      ],
      "execution_count": 110,
      "outputs": [
        {
          "output_type": "stream",
          "text": [
            "Separating Line\n",
            "===============\n",
            "Predicted Weight: 5.71, Actual Weight: 2.00\n",
            "Predicted Bias: 0.30, Actual Bias: 3.00\n"
          ],
          "name": "stdout"
        }
      ]
    },
    {
      "cell_type": "markdown",
      "metadata": {
        "id": "OShgmi_Aedua",
        "colab_type": "text"
      },
      "source": [
        "The data generated in Problem 1, the actual separating line of the data, and the separating line predicted by the trained model are shown below."
      ]
    },
    {
      "cell_type": "code",
      "metadata": {
        "id": "yveRhAFtZ2MV",
        "colab_type": "code",
        "outputId": "6caab3c4-2b21-4f98-8947-e26f7b4a0e9a",
        "colab": {
          "base_uri": "https://localhost:8080/",
          "height": 265
        }
      },
      "source": [
        "display_random_data(data, labels)\n",
        "x_1 = np.linspace(0.0, 1.0)\n",
        "x_2_actual = x_1 * actual_w + actual_b\n",
        "x_2_pred = x_1 * w_line + b_line\n",
        "plt.plot(x_1, x_2_actual, color='black', label='Actual Separating Line');\n",
        "plt.plot(x_1, x_2_pred, color='green', label='Model Separating Line');\n",
        "plt.legend();"
      ],
      "execution_count": 111,
      "outputs": [
        {
          "output_type": "display_data",
          "data": {
            "image/png": "[encoded data removed]",
            "text/plain": [
              "<Figure size 432x288 with 1 Axes>"
            ]
          },
          "metadata": {
            "tags": []
          }
        }
      ]
    },
    {
      "cell_type": "markdown",
      "metadata": {
        "id": "AW_FnN8HiEZl",
        "colab_type": "text"
      },
      "source": [
        "# Problem 3"
      ]
    },
    {
      "cell_type": "markdown",
      "metadata": {
        "id": "ji-lMgUNiFoO",
        "colab_type": "text"
      },
      "source": [
        "## Implement logistic regression using NumPy"
      ]
    },
    {
      "cell_type": "markdown",
      "metadata": {
        "id": "_UhidiM4SQ1b",
        "colab_type": "text"
      },
      "source": [
        "### Train model"
      ]
    },
    {
      "cell_type": "markdown",
      "metadata": {
        "id": "bD1PEK-5IC2w",
        "colab_type": "text"
      },
      "source": [
        "The code below implements logistic regression using numpy. Much of the code is based on [Dr. Wocjan's NumPy implementation of linear regression](https://github.com/schneider128k/machine_learning_course/blob/master/linear_regression_gradient_descent.ipynb).\n",
        "\n",
        "The main differences between this code and Dr. Wocjan's linear regression implementation are that this code uses the sigmoid function as the activation function and binary crossentropy as the loss function. The sigmoid activation function is implemented simply as $\\sigma (z) =$ $1 \\over 1 + e^{-z}$. The use of binary crossentropy loss changes how the gradient of the loss is calculated. From [Dr. Wocjan's logistic regression notes](https://github.com/schneider128k/machine_learning_course/blob/master/slides/logistic_regression.pdf), the partial derivative of the loss with respect to a weight $w_j$ is $(a-y) x_j$, and the partial derivative of the loss with respect to bias $b$ is $a-y$."
      ]
    },
    {
      "cell_type": "code",
      "metadata": {
        "id": "FSnF7aBPCNZi",
        "colab_type": "code",
        "colab": {}
      },
      "source": [
        "# Train for 20 epochs\n",
        "epochs = 20\n",
        "# Use learning rate of 0.01\n",
        "lr = 0.01\n",
        "weight = np.random.randn(3,)\n",
        "m = train_labels.shape[0]\n",
        "X_b = np.column_stack([np.ones((m, 1)), train_data])\n",
        "y = train_labels\n",
        "\n",
        "for epoch in range(epochs):\n",
        "  # Shuffle data points\n",
        "  shuffled_indices = np.random.permutation(m)\n",
        "  X_b_shuffled = X_b[shuffled_indices]\n",
        "  y_shuffled = y[shuffled_indices]\n",
        "  \n",
        "  for i in range(m):\n",
        "    xi = X_b_shuffled[i]\n",
        "    yi = y_shuffled[i]\n",
        "    # Compute output of neuron before going through activation function\n",
        "    z = xi.dot(weight)\n",
        "    # Apply sigmoid activation function\n",
        "    a = 1.0 / (1.0 + np.exp(-z))\n",
        "    # Update weights and bias\n",
        "    gradient = (a - yi) * xi\n",
        "    weight -= lr * gradient"
      ],
      "execution_count": 0,
      "outputs": []
    },
    {
      "cell_type": "markdown",
      "metadata": {
        "id": "iqrleRFGSUfP",
        "colab_type": "text"
      },
      "source": [
        "### Evaluate Model"
      ]
    },
    {
      "cell_type": "markdown",
      "metadata": {
        "id": "ciYssXGue6rw",
        "colab_type": "text"
      },
      "source": [
        "The code below outputs the binary crossentropy loss and the accuracy of the trained model on the test set. The formula used for computing the binary crossentropy loss, $\\mathcal{L} = -y \\log(a) - (1-y) \\log(1-a)$, is from [Dr. Wocjan's logistic regression notes](https://github.com/schneider128k/machine_learning_course/blob/master/slides/logistic_regression.pdf)."
      ]
    },
    {
      "cell_type": "code",
      "metadata": {
        "id": "M97xpvKpSZpc",
        "colab_type": "code",
        "outputId": "568643bd-f6df-44bd-c763-379555720cad",
        "colab": {
          "base_uri": "https://localhost:8080/",
          "height": 102
        }
      },
      "source": [
        "accuracy = 0.0\n",
        "loss = 0.0\n",
        "m = test_labels.shape[0]\n",
        "X_b = np.column_stack([np.ones((m, 1)), test_data])\n",
        "y = test_labels\n",
        "\n",
        "for i in range(m):\n",
        "  # Get output of model\n",
        "  xi = X_b[i]\n",
        "  yi = y[i]\n",
        "  z = xi.dot(weight)\n",
        "  a = 1.0 / (1.0 + np.exp(-z))\n",
        "\n",
        "  # Compute binary crossentropy loss for this data point\n",
        "  loss += -yi*np.log(a) - (1-yi)*np.log(1-a)\n",
        "\n",
        "  # Determine prediction (label 0 or label 1) based on model output\n",
        "  prediction = 1.0 if a >= 0.5 else 0.0\n",
        "  if prediction == yi:\n",
        "    accuracy += 1\n",
        "\n",
        "accuracy /= m\n",
        "loss /= m\n",
        "\n",
        "print(\"\\nResults on Test Set\")\n",
        "print(\"===================\")\n",
        "print(\"Loss:\", loss)\n",
        "print(\"Accuracy:\", accuracy)"
      ],
      "execution_count": 113,
      "outputs": [
        {
          "output_type": "stream",
          "text": [
            "\n",
            "Results on Test Set\n",
            "===================\n",
            "Loss: 0.30733908026863666\n",
            "Accuracy: 0.8965\n"
          ],
          "name": "stdout"
        }
      ]
    },
    {
      "cell_type": "markdown",
      "metadata": {
        "id": "Wj2i5KH9iQnI",
        "colab_type": "text"
      },
      "source": [
        "## Display results"
      ]
    },
    {
      "cell_type": "markdown",
      "metadata": {
        "colab_type": "text",
        "id": "Hc8CTkdfaVOh"
      },
      "source": [
        "### Heatmap visualization"
      ]
    },
    {
      "cell_type": "markdown",
      "metadata": {
        "colab_type": "text",
        "id": "IF7j3-iHaSa2"
      },
      "source": [
        "The heatmap below visualizes the function $f: \\mathbb{R}^2 \\rightarrow \\mathbb{R}$ that the trained model realizes.\n"
      ]
    },
    {
      "cell_type": "code",
      "metadata": {
        "id": "QHD5veJjbMrH",
        "colab_type": "code",
        "colab": {
          "base_uri": "https://localhost:8080/",
          "height": 269
        },
        "outputId": "59edde02-75cb-4fc0-e243-54f67c7c9190"
      },
      "source": [
        "x = np.linspace(0, 1, 50)\n",
        "y = np.linspace(0, 7, 50)\n",
        "X, Y = np.meshgrid(x, y)\n",
        "X = X.flatten()\n",
        "Y = Y.flatten()\n",
        "\n",
        "# Get predictions of model as Z\n",
        "m = X.shape[0]\n",
        "X_b = np.column_stack([np.ones((m, 1)), X, Y])\n",
        "Z = []\n",
        "for i in range(m):\n",
        "  z = X_b[i].dot(weight)\n",
        "  a = 1.0 / (1.0 + np.exp(-z))\n",
        "  Z.append(a)\n",
        "\n",
        "plt.tricontourf(X, Y, Z, 50, cmap='RdGy')\n",
        "plt.colorbar();"
      ],
      "execution_count": 114,
      "outputs": [
        {
          "output_type": "display_data",
          "data": {
            "image/png": "[encoded data removed]",
            "text/plain": [
              "<Figure size 432x288 with 2 Axes>"
            ]
          },
          "metadata": {
            "tags": []
          }
        }
      ]
    },
    {
      "cell_type": "markdown",
      "metadata": {
        "colab_type": "text",
        "id": "o7D_EHQbc8Ko"
      },
      "source": [
        "### Separating line of trained model"
      ]
    },
    {
      "cell_type": "markdown",
      "metadata": {
        "colab_type": "text",
        "id": "1EyzPErWiSvr"
      },
      "source": [
        "The separating line for the data is when the output of the model is $1 \\over 2$. This is because $0.5$ is used as the threshold for classifying whether a point is label 0 or label 1. For example, if the output of the model is above $0.5$ for a given example, the model will predict that the example belongs to class 0; if the output of the model is below $0.5$, the model will predict that the example belongs to class 1.\n",
        "\n",
        "The output of the model is computed from the given input features $x_1$ and $x_2$ as follows: $a =$ $1 \\over 1 + e^{-z}$, where $z = w_1 x_1 + w_2 x_2 + b$. Thus, we are interested in the line of points where $1 \\over 1 + e^{-(w_1 x_1 + w_2 x_2 + b)}$ $=$ $1 \\over 2$. A property of the sigmoid activation function $\\sigma$ is that $\\sigma(0) =$ $1 \\over 2$. That means we are interested in the line of points where $z = w_1 x_1 + w_2 x_2 + b = 0$.\n",
        "\n",
        "Since $x_2$ is dependent on $x_1$, we will find a formula $x_2 = w_{line} x_1 + b_{line}$ to get the separating line of the trained model. $w_1 x_1 + w_2 x_2 + b = 0$ can be rewritten as $x_2 =$ $-w_1 x_1 - b \\over w_2$ $=$ $-w_1 \\over w_2$ $x$ + $-b \\over w_2$. This shows that $w_{line} =$ $-w_1 \\over w_2$ and $b_{line} =$ $-b \\over w_2$.\n",
        "\n",
        "The code below outputs the values for $w_{line}$ and $b_{line}$, along with the actual weight and bias from the trained model."
      ]
    },
    {
      "cell_type": "code",
      "metadata": {
        "colab_type": "code",
        "outputId": "91053b52-8704-419c-9b13-d7d5f080686b",
        "id": "iiVAIOYYc_2Q",
        "colab": {
          "base_uri": "https://localhost:8080/",
          "height": 85
        }
      },
      "source": [
        "w_1 = weight[1]\n",
        "w_2 = weight[2]\n",
        "b = weight[0]\n",
        "w_line = -w_1 / w_2\n",
        "b_line = -b / w_2\n",
        "\n",
        "print(\"Separating Line\")\n",
        "print(\"===============\")\n",
        "print(\"Predicted Weight: {0:.2f}, Actual Weight: {1:.2f}\".format(w_line,\n",
        "                                                                 actual_w))\n",
        "print(\"Predicted Bias: {0:.2f}, Actual Bias: {1:.2f}\".format(b_line, actual_b))"
      ],
      "execution_count": 115,
      "outputs": [
        {
          "output_type": "stream",
          "text": [
            "Separating Line\n",
            "===============\n",
            "Predicted Weight: 2.01, Actual Weight: 2.00\n",
            "Predicted Bias: 2.99, Actual Bias: 3.00\n"
          ],
          "name": "stdout"
        }
      ]
    },
    {
      "cell_type": "markdown",
      "metadata": {
        "colab_type": "text",
        "id": "BpMM6Aq0esj-"
      },
      "source": [
        "The data generated in Problem 1, the actual separating line of the data, and the separating line predicted by the trained model are shown below."
      ]
    },
    {
      "cell_type": "code",
      "metadata": {
        "colab_type": "code",
        "outputId": "03fec968-e7f4-4f64-c944-5a582372f6a9",
        "id": "YyoG4ajhdSPV",
        "colab": {
          "base_uri": "https://localhost:8080/",
          "height": 265
        }
      },
      "source": [
        "display_random_data(data, labels)\n",
        "x_1 = np.linspace(0.0, 1.0)\n",
        "x_2_actual = x_1 * actual_w + actual_b\n",
        "x_2_pred = x_1 * w_line + b_line\n",
        "plt.plot(x_1, x_2_actual, color='black', label='Actual Separating Line');\n",
        "plt.plot(x_1, x_2_pred, color='green', label='Model Separating Line');\n",
        "plt.legend();"
      ],
      "execution_count": 116,
      "outputs": [
        {
          "output_type": "display_data",
          "data": {
            "image/png": "[encoded data removed]",
            "text/plain": [
              "<Figure size 432x288 with 1 Axes>"
            ]
          },
          "metadata": {
            "tags": []
          }
        }
      ]
    }
  ]
}