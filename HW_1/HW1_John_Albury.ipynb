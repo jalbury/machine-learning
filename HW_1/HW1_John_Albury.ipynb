{
  "nbformat": 4,
  "nbformat_minor": 0,
  "metadata": {
    "colab": {
      "name": "HW1_John_Albury.ipynb",
      "provenance": [],
      "collapsed_sections": [],
      "authorship_tag": "ABX9TyNq4sjh3YXW0adFf7gVmSan",
      "include_colab_link": true
    },
    "kernelspec": {
      "name": "python3",
      "display_name": "Python 3"
    },
    "accelerator": "GPU"
  },
  "cells": [
    {
      "cell_type": "markdown",
      "metadata": {
        "id": "view-in-github",
        "colab_type": "text"
      },
      "source": [
        "<a href=\"https://colab.research.google.com/github/jalbury/machine-learning/blob/master/HW_1/HW1_John_Albury.ipynb\" target=\"_parent\"><img src=\"https://colab.research.google.com/assets/colab-badge.svg\" alt=\"Open In Colab\"/></a>"
      ]
    },
    {
      "cell_type": "markdown",
      "metadata": {
        "id": "9WJWU-g18Cpr",
        "colab_type": "text"
      },
      "source": [
        "# CAP 4630 Homework 1"
      ]
    },
    {
      "cell_type": "markdown",
      "metadata": {
        "id": "Dd-I-9_i8KKe",
        "colab_type": "text"
      },
      "source": [
        "## Problem Description"
      ]
    },
    {
      "cell_type": "markdown",
      "metadata": {
        "id": "dl--L8pV80go",
        "colab_type": "text"
      },
      "source": [
        "For this assignment, we are asked write a `multiply_matrices` function, which takes in a list of numpy arrays and outputs their product.\n",
        "\n",
        "Matrix multiplication works by multiplying the elements of the columns of one matrix with the elements of the rows of the other matrix to produce a new matrix. Here, order matters, so for two arbitrary matrices $M_1$ and $M_2$, $M_1M_2$ is not necessarily the same as $M_2M_1$.\n",
        "\n",
        "In order for two matrices to be multiplied, the matrix on the left side must have the same number of columns as the the matrix on the right side has rows. As a general example, let $M_1 \\in \\mathbb{R}^{m \\cdot n}$ ($m$ rows and $n$ columns) and $M_2 \\in \\mathbb{R}^{p \\cdot q}$ ($p$ rows and $q$ columns). For $M_1M_2$ to be computable, $n$ must equal $p$. If $n=p$, then $M_1M_2 \\in \\mathbb{R}^{m \\cdot q}$.\n",
        "\n",
        "For this problem, we are assuming that the matrices given are meant to be multiplied sequentially. That is, given a list of matrices [$M_1$, $M_2$, ..., $M_n$], we will output $M_1M_2 \\cdot\\cdot\\cdot M_n$."
      ]
    },
    {
      "cell_type": "markdown",
      "metadata": {
        "id": "NFtMvtgz8Yyg",
        "colab_type": "text"
      },
      "source": [
        "## Solution"
      ]
    },
    {
      "cell_type": "markdown",
      "metadata": {
        "id": "ULNb3lSq8Dt7",
        "colab_type": "text"
      },
      "source": [
        "To solve this problem, I used the numpy `dot()` function, which computes the dot product of two given arrays. For two-dimensional arrays, it is equivalent to matrix multiplication. The `dot()` function is vectorized, meaning it is able to compute the results of the operation in parallel, producing the result much faster than if I sequentially looped through the rows and columns of the matrices to perform the computation. \n",
        "\n",
        "After checking to make sure that the list is not `None` and is not empty, I initalize the `product` matrix to be the first matrix in the list. Then, I update `product` by multiplying it by the second matrix in the list. This is repeated for the rest of the matrices in the list to compute the final product of the matrix multiplication. A custom exception is thrown if any of the given matrices cannot be multiplied, telling the user which matrices were the problem and what their dimensions were."
      ]
    },
    {
      "cell_type": "code",
      "metadata": {
        "id": "07SgCdAr8CZ_",
        "colab_type": "code",
        "colab": {}
      },
      "source": [
        "import numpy as np\n",
        "\n",
        "# custom exception to handle empty list or no list being given\n",
        "class EmptyMatricesListError(Exception):\n",
        "  def __str__(self):\n",
        "    return (\"multiply_matrices() requires the given list has at least one \"\n",
        "            \"matrix.\")\n",
        "\n",
        "# custom exception to handle incompatible matrices being given\n",
        "class IncompatibleMatricesError(Exception):\n",
        "  def __init__(self, index, matrix1_shape, matrix2_shape):\n",
        "    self.index = index\n",
        "    self.matrix1_shape = matrix1_shape\n",
        "    self.matrix2_shape = matrix2_shape\n",
        "  \n",
        "  def __str__(self):\n",
        "    msg = \"Cannot multiply the given list of matrices. \"\n",
        "    if self.index <= 1:\n",
        "      msg += (\"Matrix 1 has dimensions {}, while matrix 2 has dimensions \"\n",
        "              \"{}.\".format(self.matrix1_shape, self.matrix2_shape))\n",
        "    else:\n",
        "      msg += (\"The product of matrices 1 through {} has dimensions {}, while \"\n",
        "              \"matrix {} has dimensions {}\".format(self.index,\n",
        "                                                   self.matrix1_shape,\n",
        "                                                   self.index+1,\n",
        "                                                   self.matrix2_shape))\n",
        "    return msg\n",
        "\n",
        "def multiply_matrices(matrices):\n",
        "  # make sure we're given at least 1 matrix\n",
        "  if matrices is None or len(matrices) == 0:\n",
        "    raise EmptyMatricesListError\n",
        "  \n",
        "  # initialize resulting product with the first matrix in the list\n",
        "  product = matrices[0]\n",
        "\n",
        "  for i in np.arange(1, len(matrices)):\n",
        "    # make sure the matrices are compatible\n",
        "    if product.shape[1] != matrices[i].shape[0]:\n",
        "      raise IncompatibleMatricesError(i, product.shape, matrices[i].shape)\n",
        "\n",
        "    # multiply current product by the next matrix in the list\n",
        "    product = product.dot(matrices[i])\n",
        "\n",
        "  return product"
      ],
      "execution_count": 0,
      "outputs": []
    },
    {
      "cell_type": "markdown",
      "metadata": {
        "id": "BODCxL5G8ftw",
        "colab_type": "text"
      },
      "source": [
        "## Examples"
      ]
    },
    {
      "cell_type": "markdown",
      "metadata": {
        "id": "YfIEW9qk9L05",
        "colab_type": "text"
      },
      "source": [
        "Below are some examples of the output when a valid list of matrices is given."
      ]
    },
    {
      "cell_type": "code",
      "metadata": {
        "id": "xhF-MEts8sIb",
        "colab_type": "code",
        "outputId": "a0237d26-3435-436b-eacb-03b29ad103a1",
        "colab": {
          "base_uri": "https://localhost:8080/",
          "height": 204
        }
      },
      "source": [
        "a = np.array([[1, 2, 0], \n",
        "              [3, 4, 4]])\n",
        "b = np.array([[2, 4], \n",
        "              [1, 5],\n",
        "              [6, 8]])\n",
        "c = np.array([[4, 2, 7],\n",
        "              [7, 2, 1],\n",
        "              [2, 0, 3]])\n",
        "d = np.array([[2, 1, 0, 4],\n",
        "              [3, 4, 7, 1]])\n",
        "\n",
        "print(\"Example 1:\")\n",
        "print(multiply_matrices([a, b]))\n",
        "\n",
        "print(\"\\nExample 2:\")\n",
        "print(multiply_matrices([a, c, b]))\n",
        "\n",
        "print(\"\\nExample 2:\")\n",
        "print(multiply_matrices([a, c, b, d]))"
      ],
      "execution_count": 35,
      "outputs": [
        {
          "output_type": "stream",
          "text": [
            "Example 1:\n",
            "[[ 4 14]\n",
            " [34 64]]\n",
            "\n",
            "Example 2:\n",
            "[[ 96 174]\n",
            " [332 558]]\n",
            "\n",
            "Example 2:\n",
            "[[ 714  792 1218  558]\n",
            " [2338 2564 3906 1886]]\n"
          ],
          "name": "stdout"
        }
      ]
    },
    {
      "cell_type": "markdown",
      "metadata": {
        "id": "jf876Izf9adq",
        "colab_type": "text"
      },
      "source": [
        "The example below shows the result of an empty list being given."
      ]
    },
    {
      "cell_type": "code",
      "metadata": {
        "id": "V3x5fqvr9oLn",
        "colab_type": "code",
        "colab": {
          "base_uri": "https://localhost:8080/",
          "height": 283
        },
        "outputId": "95e9069f-b9e1-4288-c03f-40e6a06e701e"
      },
      "source": [
        "multiply_matrices([])"
      ],
      "execution_count": 36,
      "outputs": [
        {
          "output_type": "error",
          "ename": "EmptyMatricesListError",
          "evalue": "ignored",
          "traceback": [
            "\u001b[0;31m---------------------------------------------------------------------------\u001b[0m",
            "\u001b[0;31mEmptyMatricesListError\u001b[0m                    Traceback (most recent call last)",
            "\u001b[0;32m<ipython-input-36-f37d7a2b3e6b>\u001b[0m in \u001b[0;36m<module>\u001b[0;34m()\u001b[0m\n\u001b[0;32m----> 1\u001b[0;31m \u001b[0mmultiply_matrices\u001b[0m\u001b[0;34m(\u001b[0m\u001b[0;34m[\u001b[0m\u001b[0;34m]\u001b[0m\u001b[0;34m)\u001b[0m\u001b[0;34m\u001b[0m\u001b[0;34m\u001b[0m\u001b[0m\n\u001b[0m",
            "\u001b[0;32m<ipython-input-34-c2ce1d3910dc>\u001b[0m in \u001b[0;36mmultiply_matrices\u001b[0;34m(matrices)\u001b[0m\n\u001b[1;32m     30\u001b[0m   \u001b[0;31m# make sure we're given at least 1 matrix\u001b[0m\u001b[0;34m\u001b[0m\u001b[0;34m\u001b[0m\u001b[0;34m\u001b[0m\u001b[0m\n\u001b[1;32m     31\u001b[0m   \u001b[0;32mif\u001b[0m \u001b[0mmatrices\u001b[0m \u001b[0;32mis\u001b[0m \u001b[0;32mNone\u001b[0m \u001b[0;32mor\u001b[0m \u001b[0mlen\u001b[0m\u001b[0;34m(\u001b[0m\u001b[0mmatrices\u001b[0m\u001b[0;34m)\u001b[0m \u001b[0;34m==\u001b[0m \u001b[0;36m0\u001b[0m\u001b[0;34m:\u001b[0m\u001b[0;34m\u001b[0m\u001b[0;34m\u001b[0m\u001b[0m\n\u001b[0;32m---> 32\u001b[0;31m     \u001b[0;32mraise\u001b[0m \u001b[0mEmptyMatricesListError\u001b[0m\u001b[0;34m\u001b[0m\u001b[0;34m\u001b[0m\u001b[0m\n\u001b[0m\u001b[1;32m     33\u001b[0m \u001b[0;34m\u001b[0m\u001b[0m\n\u001b[1;32m     34\u001b[0m   \u001b[0;31m# initialize resulting product with the first matrix in the list\u001b[0m\u001b[0;34m\u001b[0m\u001b[0;34m\u001b[0m\u001b[0;34m\u001b[0m\u001b[0m\n",
            "\u001b[0;31mEmptyMatricesListError\u001b[0m: multiply_matrices() requires the given list has at least one matrix."
          ]
        }
      ]
    },
    {
      "cell_type": "markdown",
      "metadata": {
        "id": "OrCT2RPQ9o4v",
        "colab_type": "text"
      },
      "source": [
        "The example below shows the result of some of the matrices in the list being incompatible."
      ]
    },
    {
      "cell_type": "code",
      "metadata": {
        "id": "Dnm_8Z_4928J",
        "colab_type": "code",
        "colab": {
          "base_uri": "https://localhost:8080/",
          "height": 317
        },
        "outputId": "35de6a4d-e48b-43e4-d07b-cdd08f550e59"
      },
      "source": [
        "a = np.array([[1, 2, 0], \n",
        "              [3, 4, 4]])\n",
        "b = np.array([[2, 4], \n",
        "              [1, 5],\n",
        "              [6, 8]])\n",
        "c = np.array([[4, 2, 7],\n",
        "              [7, 2, 1],\n",
        "              [2, 0, 3]])\n",
        "\n",
        "multiply_matrices([a, b, c])"
      ],
      "execution_count": 37,
      "outputs": [
        {
          "output_type": "error",
          "ename": "IncompatibleMatricesError",
          "evalue": "ignored",
          "traceback": [
            "\u001b[0;31m---------------------------------------------------------------------------\u001b[0m",
            "\u001b[0;31mIncompatibleMatricesError\u001b[0m                 Traceback (most recent call last)",
            "\u001b[0;32m<ipython-input-37-8215da4e2044>\u001b[0m in \u001b[0;36m<module>\u001b[0;34m()\u001b[0m\n\u001b[1;32m      8\u001b[0m               [2, 0, 3]])\n\u001b[1;32m      9\u001b[0m \u001b[0;34m\u001b[0m\u001b[0m\n\u001b[0;32m---> 10\u001b[0;31m \u001b[0mmultiply_matrices\u001b[0m\u001b[0;34m(\u001b[0m\u001b[0;34m[\u001b[0m\u001b[0ma\u001b[0m\u001b[0;34m,\u001b[0m \u001b[0mb\u001b[0m\u001b[0;34m,\u001b[0m \u001b[0mc\u001b[0m\u001b[0;34m]\u001b[0m\u001b[0;34m)\u001b[0m\u001b[0;34m\u001b[0m\u001b[0;34m\u001b[0m\u001b[0m\n\u001b[0m",
            "\u001b[0;32m<ipython-input-34-c2ce1d3910dc>\u001b[0m in \u001b[0;36mmultiply_matrices\u001b[0;34m(matrices)\u001b[0m\n\u001b[1;32m     38\u001b[0m     \u001b[0;31m# make sure the matrices are compatible\u001b[0m\u001b[0;34m\u001b[0m\u001b[0;34m\u001b[0m\u001b[0;34m\u001b[0m\u001b[0m\n\u001b[1;32m     39\u001b[0m     \u001b[0;32mif\u001b[0m \u001b[0mproduct\u001b[0m\u001b[0;34m.\u001b[0m\u001b[0mshape\u001b[0m\u001b[0;34m[\u001b[0m\u001b[0;36m1\u001b[0m\u001b[0;34m]\u001b[0m \u001b[0;34m!=\u001b[0m \u001b[0mmatrices\u001b[0m\u001b[0;34m[\u001b[0m\u001b[0mi\u001b[0m\u001b[0;34m]\u001b[0m\u001b[0;34m.\u001b[0m\u001b[0mshape\u001b[0m\u001b[0;34m[\u001b[0m\u001b[0;36m0\u001b[0m\u001b[0;34m]\u001b[0m\u001b[0;34m:\u001b[0m\u001b[0;34m\u001b[0m\u001b[0;34m\u001b[0m\u001b[0m\n\u001b[0;32m---> 40\u001b[0;31m       \u001b[0;32mraise\u001b[0m \u001b[0mIncompatibleMatricesError\u001b[0m\u001b[0;34m(\u001b[0m\u001b[0mi\u001b[0m\u001b[0;34m,\u001b[0m \u001b[0mproduct\u001b[0m\u001b[0;34m.\u001b[0m\u001b[0mshape\u001b[0m\u001b[0;34m,\u001b[0m \u001b[0mmatrices\u001b[0m\u001b[0;34m[\u001b[0m\u001b[0mi\u001b[0m\u001b[0;34m]\u001b[0m\u001b[0;34m.\u001b[0m\u001b[0mshape\u001b[0m\u001b[0;34m)\u001b[0m\u001b[0;34m\u001b[0m\u001b[0;34m\u001b[0m\u001b[0m\n\u001b[0m\u001b[1;32m     41\u001b[0m \u001b[0;34m\u001b[0m\u001b[0m\n\u001b[1;32m     42\u001b[0m     \u001b[0;31m# multiply current product by the next matrix in the list\u001b[0m\u001b[0;34m\u001b[0m\u001b[0;34m\u001b[0m\u001b[0;34m\u001b[0m\u001b[0m\n",
            "\u001b[0;31mIncompatibleMatricesError\u001b[0m: Cannot multiply the given list of matrices. The product of matrices 1 through 2 has dimensions (2, 2), while matrix 3 has dimensions (3, 3)"
          ]
        }
      ]
    }
  ]
}