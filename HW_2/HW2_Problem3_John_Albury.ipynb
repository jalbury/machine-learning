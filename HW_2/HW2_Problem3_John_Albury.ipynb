{
  "nbformat": 4,
  "nbformat_minor": 0,
  "metadata": {
    "colab": {
      "name": "HW2_Problem3_John_Albury.ipynb",
      "provenance": [],
      "authorship_tag": "ABX9TyOrCIRy8sgC9dWNwd0bGSFq",
      "include_colab_link": true
    },
    "kernelspec": {
      "name": "python3",
      "display_name": "Python 3"
    }
  },
  "cells": [
    {
      "cell_type": "markdown",
      "metadata": {
        "id": "view-in-github",
        "colab_type": "text"
      },
      "source": [
        "<a href=\"https://colab.research.google.com/github/jalbury/machine-learning/blob/master/HW_2/HW2_Problem3_John_Albury.ipynb\" target=\"_parent\"><img src=\"https://colab.research.google.com/assets/colab-badge.svg\" alt=\"Open In Colab\"/></a>"
      ]
    },
    {
      "cell_type": "markdown",
      "metadata": {
        "id": "TXGTta-sxT3d",
        "colab_type": "text"
      },
      "source": [
        "# Homework 2, Problem 3"
      ]
    },
    {
      "cell_type": "markdown",
      "metadata": {
        "id": "zdSQwwxoxdQe",
        "colab_type": "text"
      },
      "source": [
        "## Description"
      ]
    },
    {
      "cell_type": "markdown",
      "metadata": {
        "id": "DLk709eyF5SZ",
        "colab_type": "text"
      },
      "source": [
        "In this problem, we are asked to calculate and display the average of each MNIST digit. That is, for each digit $i$ (where $i=0, 1, ..., 9$), we calculate and display the pixel-wise average of all images that are labled as digit $i$.\n",
        "\n",
        "To solve this problem, I used the `mean` method from the `numpy` library. By default, this method will compute the average value of all elements in a flattened version of the given array, resulting in a scalar. However, for this problem, we want to obtain a pixel-wise (more generally, element-wise) average of groups of images in the MNIST data set. Obtaining an element-wise average can be done by specifying the axis along which to compute the average (source: [SciPy.org](https://docs.scipy.org/doc/numpy/reference/generated/numpy.mean.html)). Specifying `axis=0` tells the `mean` method to compute the average along the first axis of the array, which in our case contains the images.\n",
        "\n",
        "My approach to this problem was as follows: group the images in the MNIST data set by the digit they represent, then use `np.mean` (specifying `axis=0` to get the pixel-wise average) on each group of images to get the average image of that group of images.\n",
        "\n",
        "To display the average digits, I used the `matplotlib` library. The code used to display the digits is based on the code in [Dr. Wocjan's notebook about the MNIST digits data set](https://github.com/schneider128k/machine_learning_course/blob/master/mnist_digits_data_set.ipynb)."
      ]
    },
    {
      "cell_type": "markdown",
      "metadata": {
        "id": "Gd45tIl8xmdt",
        "colab_type": "text"
      },
      "source": [
        "## Solution"
      ]
    },
    {
      "cell_type": "markdown",
      "metadata": {
        "id": "gcLrdm4BVV1u",
        "colab_type": "text"
      },
      "source": [
        "### Imports"
      ]
    },
    {
      "cell_type": "code",
      "metadata": {
        "id": "pL0j80QM__4Q",
        "colab_type": "code",
        "colab": {}
      },
      "source": [
        "%tensorflow_version 2.x\n",
        "import tensorflow as tf\n",
        "import numpy as np\n",
        "%matplotlib inline\n",
        "import matplotlib.pyplot as plt"
      ],
      "execution_count": 0,
      "outputs": []
    },
    {
      "cell_type": "markdown",
      "metadata": {
        "id": "BuCY1duTVf1B",
        "colab_type": "text"
      },
      "source": [
        "### Load MNIST data set"
      ]
    },
    {
      "cell_type": "code",
      "metadata": {
        "id": "gTn0SLIUVlIm",
        "colab_type": "code",
        "colab": {}
      },
      "source": [
        "(train_images, train_labels), (test_images, test_labels) = tf.keras.datasets.mnist.load_data()"
      ],
      "execution_count": 0,
      "outputs": []
    },
    {
      "cell_type": "markdown",
      "metadata": {
        "id": "I7_MtxFTVmmC",
        "colab_type": "text"
      },
      "source": [
        "### Calculate average MNIST digits"
      ]
    },
    {
      "cell_type": "code",
      "metadata": {
        "id": "GZI1W1hjBOIK",
        "colab_type": "code",
        "colab": {}
      },
      "source": [
        "# loops through all images/labels given and adds each image\n",
        "# to the list at the index of the digit it represents\n",
        "def group_images_by_digit(images, labels, digits):\n",
        "  for image, label in zip(images, labels):\n",
        "    if digits[label] is None:\n",
        "      digits[label] = [image]\n",
        "    else:\n",
        "      digits[label].append(image)\n",
        "\n",
        "# digits is a list where each index contains a list containing\n",
        "# all images that represent that digit (for example, index 0\n",
        "# contains a list of all images that represent the digit 0)\n",
        "digits = [None] * 10\n",
        "\n",
        "# put training images into digits list\n",
        "group_images_by_digit(train_images, train_labels, digits)\n",
        "# put testing images into digits list\n",
        "group_images_by_digit(test_images, test_labels, digits)\n",
        "\n",
        "# compute the pixel-wise average image for each digit\n",
        "for i in range(10):\n",
        "  digits[i] = np.mean(np.array(digits[i]), axis=0).astype(np.uint8)"
      ],
      "execution_count": 0,
      "outputs": []
    },
    {
      "cell_type": "markdown",
      "metadata": {
        "id": "z58J7WsSWW_i",
        "colab_type": "text"
      },
      "source": [
        "### Display average MNIST digits"
      ]
    },
    {
      "cell_type": "code",
      "metadata": {
        "id": "gjJFCvFVDiMY",
        "colab_type": "code",
        "outputId": "54236293-1df0-49f2-ed58-6c55670815ba",
        "colab": {
          "base_uri": "https://localhost:8080/",
          "height": 690
        }
      },
      "source": [
        "plt.figure(figsize=(16, 16))\n",
        "for i in range(10):\n",
        "    ax = plt.subplot(4, 4, i+1)\n",
        "    plt.imshow(digits[i])\n",
        "    plt.title(i)\n",
        "    plt.axis('off')"
      ],
      "execution_count": 10,
      "outputs": [
        {
          "output_type": "display_data",
          "data": {
            "image/png": "[encoded data removed]",
            "text/plain": [
              "<Figure size 1152x1152 with 10 Axes>"
            ]
          },
          "metadata": {
            "tags": []
          }
        }
      ]
    }
  ]
}