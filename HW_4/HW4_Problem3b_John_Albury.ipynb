{
  "nbformat": 4,
  "nbformat_minor": 0,
  "metadata": {
    "colab": {
      "name": "HW4_Problem3b_John_Albury.ipynb",
      "provenance": [],
      "include_colab_link": true
    },
    "kernelspec": {
      "name": "python3",
      "display_name": "Python 3"
    },
    "accelerator": "GPU"
  },
  "cells": [
    {
      "cell_type": "markdown",
      "metadata": {
        "id": "view-in-github",
        "colab_type": "text"
      },
      "source": [
        "<a href=\"https://colab.research.google.com/github/jalbury/machine-learning/blob/master/HW_4/HW4_Problem3b_John_Albury.ipynb\" target=\"_parent\"><img src=\"https://colab.research.google.com/assets/colab-badge.svg\" alt=\"Open In Colab\"/></a>"
      ]
    },
    {
      "cell_type": "markdown",
      "metadata": {
        "id": "JoHqzW0Y5LsM",
        "colab_type": "text"
      },
      "source": [
        "# Description of changes"
      ]
    },
    {
      "cell_type": "markdown",
      "metadata": {
        "id": "daNZpCVO5Pps",
        "colab_type": "text"
      },
      "source": [
        "This is the second of two notebooks that will modify Dr. Wocjan's code to use a different convolution base for feature extraction. Specifically, I changed the convolutional base of the model from [VGG16](https://keras.io/applications/#vgg16) to [InceptionV3](https://keras.io/applications/#inceptionv3).\n",
        "\n",
        "For this second notebook, I used a classifier with a single `Dense` layer with 256 neurons. The results were a validation loss of 0.15 and a validation accuracy of 0.89. Although my changes reduced the validation loss by about $1\\over2$, the validation accuracy was nearly the same."
      ]
    },
    {
      "cell_type": "markdown",
      "metadata": {
        "id": "KSrgMJ5vKFzQ",
        "colab_type": "text"
      },
      "source": [
        "# Fine-tuning InceptionV3 "
      ]
    },
    {
      "cell_type": "markdown",
      "metadata": {
        "id": "TIW7bZaAK-Hf",
        "colab_type": "text"
      },
      "source": [
        "This is based on section 5.3 *Using a pretrained convnet* of the book *Deep learning with Python* by Francois Chollet. I have made several changes to the code. I use the data that is already provided by Google. I don't download the data from Kaggle as in the deep learning book."
      ]
    },
    {
      "cell_type": "markdown",
      "metadata": {
        "id": "nsBq__dVo2pj",
        "colab_type": "text"
      },
      "source": [
        "## Feature extraction"
      ]
    },
    {
      "cell_type": "markdown",
      "metadata": {
        "id": "0g6ETAM9o54M",
        "colab_type": "text"
      },
      "source": [
        "Feature extraction consists of using the representations learned by a previous network to extract interesting features from new samples. These features are then run through a new classifier, which is trained from scratch.\n",
        "\n",
        "We will use here the convolutional base of the InceptionV3 model to extract the features. We will feed these features to a densely connected classifier with dropout. We will fine-tune some layers."
      ]
    },
    {
      "cell_type": "markdown",
      "metadata": {
        "id": "BqIG8QHMLNOn",
        "colab_type": "text"
      },
      "source": [
        "## Download the data"
      ]
    },
    {
      "cell_type": "markdown",
      "metadata": {
        "id": "t3I1jd7cKV6_",
        "colab_type": "text"
      },
      "source": [
        "Download the example data, a zip. of 2,000 JPG pictures of cats and dogs and extract it locally in ```/tmp```.\n",
        "\n"
      ]
    },
    {
      "cell_type": "code",
      "metadata": {
        "id": "JWjprHEXJ5Qi",
        "colab_type": "code",
        "outputId": "17ed95d6-6aa5-4e19-ed0d-57ccada557c7",
        "colab": {
          "base_uri": "https://localhost:8080/",
          "height": 204
        }
      },
      "source": [
        "!wget --no-check-certificate \\\n",
        "    https://storage.googleapis.com/mledu-datasets/cats_and_dogs_filtered.zip \\\n",
        "    -O /tmp/cats_and_dogs_filtered.zip"
      ],
      "execution_count": 2,
      "outputs": [
        {
          "output_type": "stream",
          "text": [
            "--2020-04-18 19:21:19--  https://storage.googleapis.com/mledu-datasets/cats_and_dogs_filtered.zip\n",
            "Resolving storage.googleapis.com (storage.googleapis.com)... 74.125.31.128, 2607:f8b0:400c:c07::80\n",
            "Connecting to storage.googleapis.com (storage.googleapis.com)|74.125.31.128|:443... connected.\n",
            "HTTP request sent, awaiting response... 200 OK\n",
            "Length: 68606236 (65M) [application/zip]\n",
            "Saving to: ‘/tmp/cats_and_dogs_filtered.zip’\n",
            "\n",
            "\r          /tmp/cats   0%[                    ]       0  --.-KB/s               \r         /tmp/cats_  25%[====>               ]  16.91M  84.5MB/s               \r        /tmp/cats_a  58%[==========>         ]  38.57M  96.4MB/s               \r/tmp/cats_and_dogs_ 100%[===================>]  65.43M   117MB/s    in 0.6s    \n",
            "\n",
            "2020-04-18 19:21:20 (117 MB/s) - ‘/tmp/cats_and_dogs_filtered.zip’ saved [68606236/68606236]\n",
            "\n"
          ],
          "name": "stdout"
        }
      ]
    },
    {
      "cell_type": "code",
      "metadata": {
        "id": "WvoHtdA-K6Rw",
        "colab_type": "code",
        "colab": {}
      },
      "source": [
        "import os\n",
        "import zipfile\n",
        "\n",
        "local_zip = '/tmp/cats_and_dogs_filtered.zip'\n",
        "zip_ref = zipfile.ZipFile(local_zip, 'r')\n",
        "zip_ref.extractall('/tmp')\n",
        "zip_ref.close()"
      ],
      "execution_count": 0,
      "outputs": []
    },
    {
      "cell_type": "markdown",
      "metadata": {
        "id": "shZiOBnJMyy_",
        "colab_type": "text"
      },
      "source": [
        "Note that the data provided by Google does not have a test set."
      ]
    },
    {
      "cell_type": "code",
      "metadata": {
        "id": "dL8ikM89LlsH",
        "colab_type": "code",
        "colab": {}
      },
      "source": [
        "base_dir = '/tmp/cats_and_dogs_filtered'\n",
        "train_dir = os.path.join(base_dir, 'train')\n",
        "validation_dir = os.path.join(base_dir, 'validation')\n",
        "\n",
        "# Directory with our training cat pictures\n",
        "train_cats_dir = os.path.join(train_dir, 'cats')\n",
        "\n",
        "# Directory with our training dog pictures\n",
        "train_dogs_dir = os.path.join(train_dir, 'dogs')\n",
        "\n",
        "# Directory with our validation cat pictures\n",
        "validation_cats_dir = os.path.join(validation_dir, 'cats')\n",
        "\n",
        "# Directory with our validation dog pictures\n",
        "validation_dogs_dir = os.path.join(validation_dir, 'dogs')"
      ],
      "execution_count": 0,
      "outputs": []
    },
    {
      "cell_type": "markdown",
      "metadata": {
        "id": "inyP8bcdXnn-",
        "colab_type": "text"
      },
      "source": [
        "## Build network with InceptionV3 convolution base and custom densely connected layers"
      ]
    },
    {
      "cell_type": "markdown",
      "metadata": {
        "id": "kQ48W5T9rHWu",
        "colab_type": "text"
      },
      "source": [
        "### Load the convolutional base"
      ]
    },
    {
      "cell_type": "code",
      "metadata": {
        "id": "Y0FgtANCXm_H",
        "colab_type": "code",
        "outputId": "e6069fab-3e00-4553-8436-150dbc04151f",
        "colab": {
          "base_uri": "https://localhost:8080/",
          "height": 68
        }
      },
      "source": [
        "from keras.applications import InceptionV3\n",
        "\n",
        "conv_base = InceptionV3(\n",
        "    weights='imagenet', \n",
        "    include_top=False, \n",
        "    input_shape=(150, 150, 3))"
      ],
      "execution_count": 5,
      "outputs": [
        {
          "output_type": "stream",
          "text": [
            "Using TensorFlow backend.\n"
          ],
          "name": "stderr"
        },
        {
          "output_type": "stream",
          "text": [
            "Downloading data from https://github.com/fchollet/deep-learning-models/releases/download/v0.5/inception_v3_weights_tf_dim_ordering_tf_kernels_notop.h5\n",
            "87916544/87910968 [==============================] - 1s 0us/step\n"
          ],
          "name": "stdout"
        }
      ]
    },
    {
      "cell_type": "markdown",
      "metadata": {
        "id": "D6OBHOO9q1ou",
        "colab_type": "text"
      },
      "source": [
        "### Freeze the convolutional base"
      ]
    },
    {
      "cell_type": "code",
      "metadata": {
        "id": "UleRo4Dpq6Ld",
        "colab_type": "code",
        "colab": {}
      },
      "source": [
        "conv_base.trainable = False"
      ],
      "execution_count": 0,
      "outputs": []
    },
    {
      "cell_type": "markdown",
      "metadata": {
        "id": "Qfx6PqhPrb7Q",
        "colab_type": "text"
      },
      "source": [
        "### Concatenate the convolutional base and densely connected layers"
      ]
    },
    {
      "cell_type": "code",
      "metadata": {
        "id": "qUpmocDAO3xm",
        "colab_type": "code",
        "colab": {}
      },
      "source": [
        "from keras import layers\n",
        "from keras import models\n",
        "from keras import optimizers\n",
        "\n",
        "model = models.Sequential()\n",
        "model.add(conv_base)\n",
        "model.add(layers.Flatten())\n",
        "model.add(layers.Dense(256, activation='relu'))\n",
        "model.add(layers.Dense(1, activation='sigmoid'))"
      ],
      "execution_count": 0,
      "outputs": []
    },
    {
      "cell_type": "code",
      "metadata": {
        "id": "Fh6gZSeAjF7c",
        "colab_type": "code",
        "outputId": "d26942cf-5323-459e-a0de-03ebdf5a2bd7",
        "colab": {
          "base_uri": "https://localhost:8080/",
          "height": 289
        }
      },
      "source": [
        "model.summary()"
      ],
      "execution_count": 8,
      "outputs": [
        {
          "output_type": "stream",
          "text": [
            "Model: \"sequential_1\"\n",
            "_________________________________________________________________\n",
            "Layer (type)                 Output Shape              Param #   \n",
            "=================================================================\n",
            "inception_v3 (Model)         (None, 3, 3, 2048)        21802784  \n",
            "_________________________________________________________________\n",
            "flatten_1 (Flatten)          (None, 18432)             0         \n",
            "_________________________________________________________________\n",
            "dense_1 (Dense)              (None, 256)               4718848   \n",
            "_________________________________________________________________\n",
            "dense_2 (Dense)              (None, 1)                 257       \n",
            "=================================================================\n",
            "Total params: 26,521,889\n",
            "Trainable params: 4,719,105\n",
            "Non-trainable params: 21,802,784\n",
            "_________________________________________________________________\n"
          ],
          "name": "stdout"
        }
      ]
    },
    {
      "cell_type": "markdown",
      "metadata": {
        "id": "eZjBiddhi5Qj",
        "colab_type": "text"
      },
      "source": [
        "## Train the model end to end with frozen convolutional base"
      ]
    },
    {
      "cell_type": "code",
      "metadata": {
        "id": "tfAQlC2Oi41L",
        "colab_type": "code",
        "outputId": "6147ab22-fcfc-4b72-c489-bd0e730b7ac9",
        "colab": {
          "base_uri": "https://localhost:8080/",
          "height": 1000
        }
      },
      "source": [
        "from keras.preprocessing.image import ImageDataGenerator\n",
        "from keras import optimizers\n",
        "\n",
        "# data augmentation\n",
        "\n",
        "train_datagen = ImageDataGenerator(\n",
        "    rescale=1./255, \n",
        "    rotation_range=40,\n",
        "    width_shift_range=0.2,\n",
        "    height_shift_range=0.2,\n",
        "    shear_range=0.2,\n",
        "    zoom_range=0.2,\n",
        "    horizontal_flip=True,\n",
        "    fill_mode='nearest'\n",
        ")\n",
        "\n",
        "train_generator = train_datagen.flow_from_directory(\n",
        "    train_dir,\n",
        "    target_size=(150, 150),\n",
        "    batch_size=20,\n",
        "    class_mode='binary')\n",
        "\n",
        "validation_datagen = ImageDataGenerator(rescale=1./255)\n",
        "\n",
        "validation_generator = validation_datagen.flow_from_directory(\n",
        "    validation_dir,\n",
        "    target_size=(150, 150),\n",
        "    batch_size=20,\n",
        "    class_mode='binary')\n",
        "\n",
        "# compile model\n",
        "\n",
        "model.compile(\n",
        "    loss='binary_crossentropy', \n",
        "    optimizer=optimizers.RMSprop(lr=2e-5), \n",
        "    metrics=['acc'])\n",
        "\n",
        "# train\n",
        "\n",
        "history = model.fit_generator(\n",
        "    train_generator,\n",
        "    steps_per_epoch=100,\n",
        "    epochs=30,\n",
        "    validation_data=validation_generator,\n",
        "    validation_steps=50\n",
        ")"
      ],
      "execution_count": 9,
      "outputs": [
        {
          "output_type": "stream",
          "text": [
            "Found 2000 images belonging to 2 classes.\n",
            "Found 1000 images belonging to 2 classes.\n",
            "Epoch 1/30\n",
            "100/100 [==============================] - 31s 315ms/step - loss: 0.5788 - acc: 0.6650 - val_loss: 0.0073 - val_acc: 0.9280\n",
            "Epoch 2/30\n",
            "100/100 [==============================] - 20s 201ms/step - loss: 0.4698 - acc: 0.7660 - val_loss: 0.8040 - val_acc: 0.9410\n",
            "Epoch 3/30\n",
            "100/100 [==============================] - 20s 198ms/step - loss: 0.4465 - acc: 0.7850 - val_loss: 0.1111 - val_acc: 0.9340\n",
            "Epoch 4/30\n",
            "100/100 [==============================] - 20s 198ms/step - loss: 0.4602 - acc: 0.7835 - val_loss: 0.2860 - val_acc: 0.9490\n",
            "Epoch 5/30\n",
            "100/100 [==============================] - 20s 197ms/step - loss: 0.4487 - acc: 0.7805 - val_loss: 0.7371 - val_acc: 0.9330\n",
            "Epoch 6/30\n",
            "100/100 [==============================] - 20s 198ms/step - loss: 0.4422 - acc: 0.7870 - val_loss: 0.1358 - val_acc: 0.9510\n",
            "Epoch 7/30\n",
            "100/100 [==============================] - 20s 198ms/step - loss: 0.4246 - acc: 0.7910 - val_loss: 0.1230 - val_acc: 0.9440\n",
            "Epoch 8/30\n",
            "100/100 [==============================] - 20s 199ms/step - loss: 0.4346 - acc: 0.7865 - val_loss: 0.0730 - val_acc: 0.9370\n",
            "Epoch 9/30\n",
            "100/100 [==============================] - 20s 198ms/step - loss: 0.3938 - acc: 0.8165 - val_loss: 0.0015 - val_acc: 0.9460\n",
            "Epoch 10/30\n",
            "100/100 [==============================] - 20s 198ms/step - loss: 0.3942 - acc: 0.8180 - val_loss: 0.3366 - val_acc: 0.9500\n",
            "Epoch 11/30\n",
            "100/100 [==============================] - 20s 196ms/step - loss: 0.3698 - acc: 0.8320 - val_loss: 0.2522 - val_acc: 0.9520\n",
            "Epoch 12/30\n",
            "100/100 [==============================] - 20s 197ms/step - loss: 0.3798 - acc: 0.8245 - val_loss: 1.3380 - val_acc: 0.9280\n",
            "Epoch 13/30\n",
            "100/100 [==============================] - 20s 198ms/step - loss: 0.3898 - acc: 0.8350 - val_loss: 0.0293 - val_acc: 0.9210\n",
            "Epoch 14/30\n",
            "100/100 [==============================] - 20s 199ms/step - loss: 0.3909 - acc: 0.8190 - val_loss: 1.3301 - val_acc: 0.9470\n",
            "Epoch 15/30\n",
            "100/100 [==============================] - 20s 198ms/step - loss: 0.3568 - acc: 0.8440 - val_loss: 0.0022 - val_acc: 0.9460\n",
            "Epoch 16/30\n",
            "100/100 [==============================] - 20s 197ms/step - loss: 0.3614 - acc: 0.8300 - val_loss: 0.7181 - val_acc: 0.9530\n",
            "Epoch 17/30\n",
            "100/100 [==============================] - 20s 200ms/step - loss: 0.3722 - acc: 0.8290 - val_loss: 0.8609 - val_acc: 0.9560\n",
            "Epoch 18/30\n",
            "100/100 [==============================] - 20s 197ms/step - loss: 0.3812 - acc: 0.8270 - val_loss: 0.0023 - val_acc: 0.9510\n",
            "Epoch 19/30\n",
            "100/100 [==============================] - 20s 197ms/step - loss: 0.3644 - acc: 0.8370 - val_loss: 1.1106 - val_acc: 0.9460\n",
            "Epoch 20/30\n",
            "100/100 [==============================] - 20s 198ms/step - loss: 0.3590 - acc: 0.8410 - val_loss: 1.7489 - val_acc: 0.9450\n",
            "Epoch 21/30\n",
            "100/100 [==============================] - 20s 196ms/step - loss: 0.3549 - acc: 0.8495 - val_loss: 0.5694 - val_acc: 0.9320\n",
            "Epoch 22/30\n",
            "100/100 [==============================] - 20s 195ms/step - loss: 0.3693 - acc: 0.8340 - val_loss: 0.0033 - val_acc: 0.9550\n",
            "Epoch 23/30\n",
            "100/100 [==============================] - 20s 196ms/step - loss: 0.3493 - acc: 0.8425 - val_loss: 0.0326 - val_acc: 0.9470\n",
            "Epoch 24/30\n",
            "100/100 [==============================] - 20s 196ms/step - loss: 0.3613 - acc: 0.8355 - val_loss: 0.0666 - val_acc: 0.9520\n",
            "Epoch 25/30\n",
            "100/100 [==============================] - 20s 196ms/step - loss: 0.3419 - acc: 0.8395 - val_loss: 0.0500 - val_acc: 0.9490\n",
            "Epoch 26/30\n",
            "100/100 [==============================] - 19s 195ms/step - loss: 0.3631 - acc: 0.8285 - val_loss: 0.0013 - val_acc: 0.9510\n",
            "Epoch 27/30\n",
            "100/100 [==============================] - 20s 196ms/step - loss: 0.3428 - acc: 0.8480 - val_loss: 0.3513 - val_acc: 0.9330\n",
            "Epoch 28/30\n",
            "100/100 [==============================] - 20s 197ms/step - loss: 0.3589 - acc: 0.8380 - val_loss: 0.0227 - val_acc: 0.9500\n",
            "Epoch 29/30\n",
            "100/100 [==============================] - 20s 196ms/step - loss: 0.3468 - acc: 0.8470 - val_loss: 1.2529 - val_acc: 0.9430\n",
            "Epoch 30/30\n",
            "100/100 [==============================] - 20s 197ms/step - loss: 0.3408 - acc: 0.8480 - val_loss: 0.3507 - val_acc: 0.9460\n"
          ],
          "name": "stdout"
        }
      ]
    },
    {
      "cell_type": "markdown",
      "metadata": {
        "id": "xqRc_vHKc92U",
        "colab_type": "text"
      },
      "source": [
        "## Display curves of loss and accuracy during training"
      ]
    },
    {
      "cell_type": "code",
      "metadata": {
        "id": "ybWwdzz9bwuQ",
        "colab_type": "code",
        "outputId": "ae35f5b7-c48f-4027-995c-f6f9c8c18467",
        "colab": {
          "base_uri": "https://localhost:8080/",
          "height": 545
        }
      },
      "source": [
        "%matplotlib inline\n",
        "\n",
        "import matplotlib.pyplot as plt\n",
        "\n",
        "acc = history.history['acc']\n",
        "val_acc = history.history['val_acc']\n",
        "\n",
        "loss = history.history['loss']\n",
        "val_loss = history.history['val_loss']\n",
        "\n",
        "epochs = range(1, len(acc) + 1)\n",
        "\n",
        "# training and validation accuracy\n",
        "\n",
        "plt.plot(epochs, acc, 'bo', label='training acc')\n",
        "plt.plot(epochs, val_acc, 'b', label='validation acc')\n",
        "plt.title('training and validation accuracy')\n",
        "plt.legend()\n",
        "\n",
        "plt.figure()\n",
        "\n",
        "# training and validation loss\n",
        "\n",
        "plt.plot(epochs, loss, 'bo', label='training loss')\n",
        "plt.plot(epochs, val_loss, 'b', label='validation loss')\n",
        "plt.title('training and validation loss')\n",
        "plt.legend()\n",
        "\n",
        "plt.show()"
      ],
      "execution_count": 10,
      "outputs": [
        {
          "output_type": "display_data",
          "data": {
            "image/png": "[encoded data removed]",
            "text/plain": [
              "<Figure size 432x288 with 1 Axes>"
            ]
          },
          "metadata": {
            "tags": [],
            "needs_background": "light"
          }
        },
        {
          "output_type": "display_data",
          "data": {
            "image/png": "[encoded data removed]",
            "text/plain": [
              "<Figure size 432x288 with 1 Axes>"
            ]
          },
          "metadata": {
            "tags": [],
            "needs_background": "light"
          }
        }
      ]
    },
    {
      "cell_type": "markdown",
      "metadata": {
        "id": "lOWsxpey8lN0",
        "colab_type": "text"
      },
      "source": [
        "## Fine-tuning"
      ]
    },
    {
      "cell_type": "code",
      "metadata": {
        "id": "PwkVMx8N8qMw",
        "colab_type": "code",
        "colab": {}
      },
      "source": [
        "conv_base.trainable = True\n",
        "\n",
        "set_trainable = False\n",
        "for layer in conv_base.layers:\n",
        "  if layer.name == 'conv2d_188':\n",
        "    set_trainable = True\n",
        "  if set_trainable:\n",
        "    layer.trainable = True\n",
        "  else:\n",
        "    layer.trainable = False"
      ],
      "execution_count": 0,
      "outputs": []
    },
    {
      "cell_type": "code",
      "metadata": {
        "id": "DyN-J7rs9cvo",
        "colab_type": "code",
        "outputId": "5016ec25-5bfc-4605-c876-736026c076af",
        "colab": {
          "base_uri": "https://localhost:8080/",
          "height": 1000
        }
      },
      "source": [
        "# compile model\n",
        "\n",
        "model.compile(\n",
        "    loss='binary_crossentropy',\n",
        "    #\n",
        "    # choose a smaller learning rate\n",
        "    #\n",
        "    optimizer=optimizers.RMSprop(lr=1e-5), \n",
        "    metrics=['acc'])\n",
        "\n",
        "# train\n",
        "\n",
        "history = model.fit_generator(\n",
        "    train_generator,\n",
        "    steps_per_epoch=100,\n",
        "    epochs=100,\n",
        "    validation_data=validation_generator,\n",
        "    validation_steps=50)"
      ],
      "execution_count": 12,
      "outputs": [
        {
          "output_type": "stream",
          "text": [
            "Epoch 1/100\n",
            "100/100 [==============================] - 28s 281ms/step - loss: 0.3197 - acc: 0.8500 - val_loss: 0.1387 - val_acc: 0.9290\n",
            "Epoch 2/100\n",
            "100/100 [==============================] - 22s 215ms/step - loss: 0.3026 - acc: 0.8600 - val_loss: 0.4961 - val_acc: 0.9100\n",
            "Epoch 3/100\n",
            "100/100 [==============================] - 22s 215ms/step - loss: 0.3418 - acc: 0.8475 - val_loss: 0.1626 - val_acc: 0.9070\n",
            "Epoch 4/100\n",
            "100/100 [==============================] - 21s 215ms/step - loss: 0.3304 - acc: 0.8530 - val_loss: 0.3138 - val_acc: 0.8940\n",
            "Epoch 5/100\n",
            "100/100 [==============================] - 22s 215ms/step - loss: 0.3148 - acc: 0.8570 - val_loss: 0.2443 - val_acc: 0.8820\n",
            "Epoch 6/100\n",
            "100/100 [==============================] - 21s 215ms/step - loss: 0.3379 - acc: 0.8515 - val_loss: 0.1363 - val_acc: 0.8950\n",
            "Epoch 7/100\n",
            "100/100 [==============================] - 21s 215ms/step - loss: 0.3334 - acc: 0.8525 - val_loss: 0.3304 - val_acc: 0.8800\n",
            "Epoch 8/100\n",
            "100/100 [==============================] - 21s 213ms/step - loss: 0.3409 - acc: 0.8480 - val_loss: 0.1329 - val_acc: 0.8920\n",
            "Epoch 9/100\n",
            "100/100 [==============================] - 22s 216ms/step - loss: 0.3112 - acc: 0.8625 - val_loss: 0.8327 - val_acc: 0.8990\n",
            "Epoch 10/100\n",
            "100/100 [==============================] - 21s 215ms/step - loss: 0.3353 - acc: 0.8445 - val_loss: 0.2399 - val_acc: 0.8970\n",
            "Epoch 11/100\n",
            "100/100 [==============================] - 21s 215ms/step - loss: 0.3163 - acc: 0.8585 - val_loss: 0.2229 - val_acc: 0.8820\n",
            "Epoch 12/100\n",
            "100/100 [==============================] - 22s 216ms/step - loss: 0.3331 - acc: 0.8515 - val_loss: 0.0800 - val_acc: 0.8950\n",
            "Epoch 13/100\n",
            "100/100 [==============================] - 21s 212ms/step - loss: 0.3066 - acc: 0.8585 - val_loss: 0.3849 - val_acc: 0.8870\n",
            "Epoch 14/100\n",
            "100/100 [==============================] - 21s 213ms/step - loss: 0.3119 - acc: 0.8625 - val_loss: 0.1028 - val_acc: 0.9010\n",
            "Epoch 15/100\n",
            "100/100 [==============================] - 21s 215ms/step - loss: 0.3384 - acc: 0.8520 - val_loss: 0.1897 - val_acc: 0.8970\n",
            "Epoch 16/100\n",
            "100/100 [==============================] - 22s 215ms/step - loss: 0.3140 - acc: 0.8560 - val_loss: 0.4484 - val_acc: 0.8960\n",
            "Epoch 17/100\n",
            "100/100 [==============================] - 21s 214ms/step - loss: 0.3183 - acc: 0.8630 - val_loss: 0.2412 - val_acc: 0.8700\n",
            "Epoch 18/100\n",
            "100/100 [==============================] - 21s 214ms/step - loss: 0.3351 - acc: 0.8495 - val_loss: 0.1523 - val_acc: 0.8880\n",
            "Epoch 19/100\n",
            "100/100 [==============================] - 21s 212ms/step - loss: 0.3105 - acc: 0.8615 - val_loss: 0.2899 - val_acc: 0.8930\n",
            "Epoch 20/100\n",
            "100/100 [==============================] - 21s 214ms/step - loss: 0.3290 - acc: 0.8475 - val_loss: 0.0429 - val_acc: 0.8900\n",
            "Epoch 21/100\n",
            "100/100 [==============================] - 21s 212ms/step - loss: 0.3122 - acc: 0.8570 - val_loss: 0.1042 - val_acc: 0.8860\n",
            "Epoch 22/100\n",
            "100/100 [==============================] - 21s 211ms/step - loss: 0.3118 - acc: 0.8630 - val_loss: 0.1876 - val_acc: 0.8920\n",
            "Epoch 23/100\n",
            "100/100 [==============================] - 21s 212ms/step - loss: 0.3283 - acc: 0.8505 - val_loss: 0.1851 - val_acc: 0.8940\n",
            "Epoch 24/100\n",
            "100/100 [==============================] - 21s 212ms/step - loss: 0.3110 - acc: 0.8580 - val_loss: 0.1387 - val_acc: 0.8900\n",
            "Epoch 25/100\n",
            "100/100 [==============================] - 21s 212ms/step - loss: 0.3187 - acc: 0.8575 - val_loss: 0.1105 - val_acc: 0.8940\n",
            "Epoch 26/100\n",
            "100/100 [==============================] - 21s 212ms/step - loss: 0.2986 - acc: 0.8670 - val_loss: 0.0369 - val_acc: 0.8930\n",
            "Epoch 27/100\n",
            "100/100 [==============================] - 21s 213ms/step - loss: 0.3331 - acc: 0.8490 - val_loss: 0.3650 - val_acc: 0.8890\n",
            "Epoch 28/100\n",
            "100/100 [==============================] - 21s 213ms/step - loss: 0.3125 - acc: 0.8615 - val_loss: 0.2475 - val_acc: 0.8960\n",
            "Epoch 29/100\n",
            "100/100 [==============================] - 21s 214ms/step - loss: 0.2936 - acc: 0.8740 - val_loss: 0.2046 - val_acc: 0.8950\n",
            "Epoch 30/100\n",
            "100/100 [==============================] - 21s 214ms/step - loss: 0.3207 - acc: 0.8560 - val_loss: 0.2259 - val_acc: 0.8950\n",
            "Epoch 31/100\n",
            "100/100 [==============================] - 22s 217ms/step - loss: 0.3182 - acc: 0.8540 - val_loss: 0.1811 - val_acc: 0.8820\n",
            "Epoch 32/100\n",
            "100/100 [==============================] - 22s 219ms/step - loss: 0.3311 - acc: 0.8505 - val_loss: 0.3227 - val_acc: 0.8870\n",
            "Epoch 33/100\n",
            "100/100 [==============================] - 22s 221ms/step - loss: 0.3062 - acc: 0.8585 - val_loss: 0.3195 - val_acc: 0.8710\n",
            "Epoch 34/100\n",
            "100/100 [==============================] - 22s 220ms/step - loss: 0.3137 - acc: 0.8560 - val_loss: 0.5012 - val_acc: 0.8960\n",
            "Epoch 35/100\n",
            "100/100 [==============================] - 22s 217ms/step - loss: 0.3306 - acc: 0.8480 - val_loss: 0.3391 - val_acc: 0.8910\n",
            "Epoch 36/100\n",
            "100/100 [==============================] - 21s 213ms/step - loss: 0.3252 - acc: 0.8475 - val_loss: 0.1346 - val_acc: 0.8920\n",
            "Epoch 37/100\n",
            "100/100 [==============================] - 21s 211ms/step - loss: 0.3194 - acc: 0.8560 - val_loss: 0.1224 - val_acc: 0.9030\n",
            "Epoch 38/100\n",
            "100/100 [==============================] - 21s 215ms/step - loss: 0.3206 - acc: 0.8655 - val_loss: 0.1525 - val_acc: 0.8860\n",
            "Epoch 39/100\n",
            "100/100 [==============================] - 21s 214ms/step - loss: 0.3024 - acc: 0.8620 - val_loss: 0.7254 - val_acc: 0.8950\n",
            "Epoch 40/100\n",
            "100/100 [==============================] - 21s 214ms/step - loss: 0.3008 - acc: 0.8620 - val_loss: 0.1627 - val_acc: 0.8970\n",
            "Epoch 41/100\n",
            "100/100 [==============================] - 21s 215ms/step - loss: 0.3229 - acc: 0.8500 - val_loss: 0.2072 - val_acc: 0.8980\n",
            "Epoch 42/100\n",
            "100/100 [==============================] - 21s 214ms/step - loss: 0.3100 - acc: 0.8560 - val_loss: 0.1501 - val_acc: 0.8750\n",
            "Epoch 43/100\n",
            "100/100 [==============================] - 21s 214ms/step - loss: 0.3307 - acc: 0.8530 - val_loss: 0.1187 - val_acc: 0.8990\n",
            "Epoch 44/100\n",
            "100/100 [==============================] - 22s 216ms/step - loss: 0.2914 - acc: 0.8670 - val_loss: 0.4445 - val_acc: 0.8960\n",
            "Epoch 45/100\n",
            "100/100 [==============================] - 22s 215ms/step - loss: 0.3149 - acc: 0.8680 - val_loss: 0.1386 - val_acc: 0.9030\n",
            "Epoch 46/100\n",
            "100/100 [==============================] - 22s 216ms/step - loss: 0.3011 - acc: 0.8620 - val_loss: 0.2704 - val_acc: 0.8990\n",
            "Epoch 47/100\n",
            "100/100 [==============================] - 21s 212ms/step - loss: 0.3154 - acc: 0.8605 - val_loss: 0.1167 - val_acc: 0.8970\n",
            "Epoch 48/100\n",
            "100/100 [==============================] - 21s 212ms/step - loss: 0.2983 - acc: 0.8670 - val_loss: 0.3828 - val_acc: 0.8880\n",
            "Epoch 49/100\n",
            "100/100 [==============================] - 21s 213ms/step - loss: 0.3052 - acc: 0.8595 - val_loss: 0.1741 - val_acc: 0.8860\n",
            "Epoch 50/100\n",
            "100/100 [==============================] - 21s 212ms/step - loss: 0.3087 - acc: 0.8625 - val_loss: 0.0549 - val_acc: 0.8790\n",
            "Epoch 51/100\n",
            "100/100 [==============================] - 21s 213ms/step - loss: 0.2987 - acc: 0.8720 - val_loss: 0.0473 - val_acc: 0.9060\n",
            "Epoch 52/100\n",
            "100/100 [==============================] - 21s 212ms/step - loss: 0.3057 - acc: 0.8695 - val_loss: 0.2953 - val_acc: 0.8940\n",
            "Epoch 53/100\n",
            "100/100 [==============================] - 21s 211ms/step - loss: 0.2987 - acc: 0.8635 - val_loss: 0.3239 - val_acc: 0.8970\n",
            "Epoch 54/100\n",
            "100/100 [==============================] - 21s 213ms/step - loss: 0.3301 - acc: 0.8415 - val_loss: 0.0822 - val_acc: 0.8780\n",
            "Epoch 55/100\n",
            "100/100 [==============================] - 21s 215ms/step - loss: 0.3254 - acc: 0.8485 - val_loss: 0.4704 - val_acc: 0.8960\n",
            "Epoch 56/100\n",
            "100/100 [==============================] - 21s 213ms/step - loss: 0.3085 - acc: 0.8655 - val_loss: 0.2265 - val_acc: 0.8910\n",
            "Epoch 57/100\n",
            "100/100 [==============================] - 21s 213ms/step - loss: 0.3067 - acc: 0.8605 - val_loss: 0.0972 - val_acc: 0.8910\n",
            "Epoch 58/100\n",
            "100/100 [==============================] - 21s 215ms/step - loss: 0.2942 - acc: 0.8745 - val_loss: 0.1495 - val_acc: 0.8970\n",
            "Epoch 59/100\n",
            "100/100 [==============================] - 21s 215ms/step - loss: 0.3030 - acc: 0.8670 - val_loss: 0.6975 - val_acc: 0.8920\n",
            "Epoch 60/100\n",
            "100/100 [==============================] - 21s 214ms/step - loss: 0.2882 - acc: 0.8735 - val_loss: 0.4785 - val_acc: 0.8890\n",
            "Epoch 61/100\n",
            "100/100 [==============================] - 21s 214ms/step - loss: 0.3168 - acc: 0.8595 - val_loss: 0.2890 - val_acc: 0.8740\n",
            "Epoch 62/100\n",
            "100/100 [==============================] - 21s 213ms/step - loss: 0.3171 - acc: 0.8540 - val_loss: 0.1165 - val_acc: 0.8970\n",
            "Epoch 63/100\n",
            "100/100 [==============================] - 21s 212ms/step - loss: 0.2962 - acc: 0.8595 - val_loss: 0.4382 - val_acc: 0.8980\n",
            "Epoch 64/100\n",
            "100/100 [==============================] - 21s 211ms/step - loss: 0.3095 - acc: 0.8625 - val_loss: 0.1949 - val_acc: 0.8910\n",
            "Epoch 65/100\n",
            "100/100 [==============================] - 21s 212ms/step - loss: 0.2959 - acc: 0.8715 - val_loss: 0.2470 - val_acc: 0.8920\n",
            "Epoch 66/100\n",
            "100/100 [==============================] - 21s 213ms/step - loss: 0.2993 - acc: 0.8595 - val_loss: 0.3702 - val_acc: 0.8950\n",
            "Epoch 67/100\n",
            "100/100 [==============================] - 21s 211ms/step - loss: 0.2946 - acc: 0.8645 - val_loss: 0.1461 - val_acc: 0.8930\n",
            "Epoch 68/100\n",
            "100/100 [==============================] - 21s 211ms/step - loss: 0.2906 - acc: 0.8695 - val_loss: 0.1693 - val_acc: 0.8950\n",
            "Epoch 69/100\n",
            "100/100 [==============================] - 21s 213ms/step - loss: 0.2878 - acc: 0.8775 - val_loss: 0.5672 - val_acc: 0.8960\n",
            "Epoch 70/100\n",
            "100/100 [==============================] - 21s 212ms/step - loss: 0.2978 - acc: 0.8605 - val_loss: 0.2056 - val_acc: 0.8930\n",
            "Epoch 71/100\n",
            "100/100 [==============================] - 21s 213ms/step - loss: 0.3089 - acc: 0.8625 - val_loss: 0.0390 - val_acc: 0.8730\n",
            "Epoch 72/100\n",
            "100/100 [==============================] - 21s 212ms/step - loss: 0.3012 - acc: 0.8700 - val_loss: 0.2162 - val_acc: 0.8920\n",
            "Epoch 73/100\n",
            "100/100 [==============================] - 21s 213ms/step - loss: 0.3073 - acc: 0.8645 - val_loss: 0.3809 - val_acc: 0.8870\n",
            "Epoch 74/100\n",
            "100/100 [==============================] - 21s 212ms/step - loss: 0.3049 - acc: 0.8585 - val_loss: 0.0431 - val_acc: 0.8910\n",
            "Epoch 75/100\n",
            "100/100 [==============================] - 21s 212ms/step - loss: 0.2955 - acc: 0.8690 - val_loss: 0.5648 - val_acc: 0.8920\n",
            "Epoch 76/100\n",
            "100/100 [==============================] - 21s 211ms/step - loss: 0.2930 - acc: 0.8725 - val_loss: 0.1257 - val_acc: 0.8880\n",
            "Epoch 77/100\n",
            "100/100 [==============================] - 21s 213ms/step - loss: 0.3016 - acc: 0.8665 - val_loss: 0.1985 - val_acc: 0.8910\n",
            "Epoch 78/100\n",
            "100/100 [==============================] - 21s 212ms/step - loss: 0.2948 - acc: 0.8670 - val_loss: 0.1313 - val_acc: 0.8810\n",
            "Epoch 79/100\n",
            "100/100 [==============================] - 21s 210ms/step - loss: 0.3024 - acc: 0.8605 - val_loss: 0.1122 - val_acc: 0.8980\n",
            "Epoch 80/100\n",
            "100/100 [==============================] - 21s 211ms/step - loss: 0.2791 - acc: 0.8720 - val_loss: 0.2558 - val_acc: 0.8930\n",
            "Epoch 81/100\n",
            "100/100 [==============================] - 21s 211ms/step - loss: 0.2979 - acc: 0.8735 - val_loss: 0.0789 - val_acc: 0.8880\n",
            "Epoch 82/100\n",
            "100/100 [==============================] - 21s 210ms/step - loss: 0.3007 - acc: 0.8720 - val_loss: 0.3270 - val_acc: 0.8930\n",
            "Epoch 83/100\n",
            "100/100 [==============================] - 21s 213ms/step - loss: 0.2890 - acc: 0.8730 - val_loss: 0.1111 - val_acc: 0.8950\n",
            "Epoch 84/100\n",
            "100/100 [==============================] - 22s 215ms/step - loss: 0.2864 - acc: 0.8700 - val_loss: 0.5308 - val_acc: 0.8990\n",
            "Epoch 85/100\n",
            "100/100 [==============================] - 21s 215ms/step - loss: 0.3043 - acc: 0.8595 - val_loss: 0.1109 - val_acc: 0.8840\n",
            "Epoch 86/100\n",
            "100/100 [==============================] - 22s 217ms/step - loss: 0.2933 - acc: 0.8760 - val_loss: 0.3064 - val_acc: 0.8900\n",
            "Epoch 87/100\n",
            "100/100 [==============================] - 22s 219ms/step - loss: 0.2894 - acc: 0.8720 - val_loss: 0.1495 - val_acc: 0.8930\n",
            "Epoch 88/100\n",
            "100/100 [==============================] - 22s 219ms/step - loss: 0.3060 - acc: 0.8615 - val_loss: 0.1544 - val_acc: 0.8850\n",
            "Epoch 89/100\n",
            "100/100 [==============================] - 22s 219ms/step - loss: 0.3070 - acc: 0.8665 - val_loss: 0.6467 - val_acc: 0.8880\n",
            "Epoch 90/100\n",
            "100/100 [==============================] - 22s 219ms/step - loss: 0.2777 - acc: 0.8730 - val_loss: 0.2086 - val_acc: 0.8770\n",
            "Epoch 91/100\n",
            "100/100 [==============================] - 22s 220ms/step - loss: 0.2871 - acc: 0.8690 - val_loss: 0.1392 - val_acc: 0.8870\n",
            "Epoch 92/100\n",
            "100/100 [==============================] - 22s 219ms/step - loss: 0.2978 - acc: 0.8710 - val_loss: 0.2429 - val_acc: 0.8910\n",
            "Epoch 93/100\n",
            "100/100 [==============================] - 22s 220ms/step - loss: 0.3016 - acc: 0.8690 - val_loss: 0.1062 - val_acc: 0.8840\n",
            "Epoch 94/100\n",
            "100/100 [==============================] - 22s 220ms/step - loss: 0.2915 - acc: 0.8685 - val_loss: 0.1641 - val_acc: 0.8990\n",
            "Epoch 95/100\n",
            "100/100 [==============================] - 22s 218ms/step - loss: 0.2924 - acc: 0.8660 - val_loss: 0.1127 - val_acc: 0.8950\n",
            "Epoch 96/100\n",
            "100/100 [==============================] - 22s 219ms/step - loss: 0.3028 - acc: 0.8680 - val_loss: 0.1724 - val_acc: 0.8940\n",
            "Epoch 97/100\n",
            "100/100 [==============================] - 22s 220ms/step - loss: 0.2883 - acc: 0.8745 - val_loss: 0.1574 - val_acc: 0.8860\n",
            "Epoch 98/100\n",
            "100/100 [==============================] - 22s 218ms/step - loss: 0.2983 - acc: 0.8760 - val_loss: 0.1210 - val_acc: 0.8930\n",
            "Epoch 99/100\n",
            "100/100 [==============================] - 22s 218ms/step - loss: 0.2937 - acc: 0.8715 - val_loss: 0.1179 - val_acc: 0.8960\n",
            "Epoch 100/100\n",
            "100/100 [==============================] - 22s 217ms/step - loss: 0.3017 - acc: 0.8680 - val_loss: 0.0468 - val_acc: 0.8870\n"
          ],
          "name": "stdout"
        }
      ]
    },
    {
      "cell_type": "markdown",
      "metadata": {
        "id": "eVBQgh5M-Rtz",
        "colab_type": "text"
      },
      "source": [
        "## Display learning curves during fine-tuning"
      ]
    },
    {
      "cell_type": "code",
      "metadata": {
        "id": "mbkIw7Ie-NP4",
        "colab_type": "code",
        "outputId": "da88f3a2-76b0-407f-8b45-b5349264c5a1",
        "colab": {
          "base_uri": "https://localhost:8080/",
          "height": 545
        }
      },
      "source": [
        "%matplotlib inline\n",
        "\n",
        "import matplotlib.pyplot as plt\n",
        "\n",
        "acc = history.history['acc']\n",
        "val_acc = history.history['val_acc']\n",
        "\n",
        "loss = history.history['loss']\n",
        "val_loss = history.history['val_loss']\n",
        "\n",
        "epochs = range(1, len(acc) + 1)\n",
        "\n",
        "# training and validation accuracy\n",
        "\n",
        "plt.plot(epochs, acc, 'bo', label='training acc')\n",
        "plt.plot(epochs, val_acc, 'b', label='validation acc')\n",
        "plt.title('training and validation accuracy')\n",
        "plt.legend()\n",
        "\n",
        "plt.figure()\n",
        "\n",
        "# training and validation loss\n",
        "\n",
        "plt.plot(epochs, loss, 'bo', label='training loss')\n",
        "plt.plot(epochs, val_loss, 'b', label='validation loss')\n",
        "plt.title('training and validation loss')\n",
        "plt.legend()\n",
        "\n",
        "plt.show()"
      ],
      "execution_count": 13,
      "outputs": [
        {
          "output_type": "display_data",
          "data": {
            "image/png": "[encoded data removed]",
            "text/plain": [
              "<Figure size 432x288 with 1 Axes>"
            ]
          },
          "metadata": {
            "tags": [],
            "needs_background": "light"
          }
        },
        {
          "output_type": "display_data",
          "data": {
            "image/png": "[encoded data removed]",
            "text/plain": [
              "<Figure size 432x288 with 1 Axes>"
            ]
          },
          "metadata": {
            "tags": [],
            "needs_background": "light"
          }
        }
      ]
    },
    {
      "cell_type": "markdown",
      "metadata": {
        "id": "he3Nw6TOJwjx",
        "colab_type": "text"
      },
      "source": [
        "## Print out validation loss and accuracy"
      ]
    },
    {
      "cell_type": "code",
      "metadata": {
        "id": "SVQtrk7uJdhl",
        "colab_type": "code",
        "colab": {}
      },
      "source": [
        "val_loss, val_acc = model.evaluate_generator(validation_generator, steps=50)"
      ],
      "execution_count": 0,
      "outputs": []
    },
    {
      "cell_type": "code",
      "metadata": {
        "id": "HpdddLi1SUMe",
        "colab_type": "code",
        "outputId": "40709704-ac73-41f9-d4b0-d2813f775387",
        "colab": {
          "base_uri": "https://localhost:8080/",
          "height": 51
        }
      },
      "source": [
        "print(\"Validation loss:\", val_loss)\n",
        "print(\"Validation accuracy:\", val_acc)"
      ],
      "execution_count": 15,
      "outputs": [
        {
          "output_type": "stream",
          "text": [
            "Validation loss: 0.1530611664056778\n",
            "Validation accuracy: 0.8870000243186951\n"
          ],
          "name": "stdout"
        }
      ]
    }
  ]
}