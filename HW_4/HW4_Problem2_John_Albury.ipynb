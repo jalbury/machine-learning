{
  "nbformat": 4,
  "nbformat_minor": 0,
  "metadata": {
    "colab": {
      "name": "HW4_Problem2_John_Albury.ipynb",
      "provenance": [],
      "collapsed_sections": [],
      "authorship_tag": "ABX9TyO3HXZW4RryRatLcaQ+Veg9",
      "include_colab_link": true
    },
    "kernelspec": {
      "name": "python3",
      "display_name": "Python 3"
    }
  },
  "cells": [
    {
      "cell_type": "markdown",
      "metadata": {
        "id": "view-in-github",
        "colab_type": "text"
      },
      "source": [
        "<a href=\"https://colab.research.google.com/github/jalbury/machine-learning/blob/master/HW_4/HW4_Problem2_John_Albury.ipynb\" target=\"_parent\"><img src=\"https://colab.research.google.com/assets/colab-badge.svg\" alt=\"Open In Colab\"/></a>"
      ]
    },
    {
      "cell_type": "markdown",
      "metadata": {
        "id": "HWJ-IzK7b72E",
        "colab_type": "text"
      },
      "source": [
        "# Imports"
      ]
    },
    {
      "cell_type": "code",
      "metadata": {
        "id": "_KHyEj4QhtrU",
        "colab_type": "code",
        "colab": {}
      },
      "source": [
        "import numpy as np"
      ],
      "execution_count": 0,
      "outputs": []
    },
    {
      "cell_type": "markdown",
      "metadata": {
        "id": "zwf-o9Qvb_Gi",
        "colab_type": "text"
      },
      "source": [
        "# Problem 2 Description"
      ]
    },
    {
      "cell_type": "markdown",
      "metadata": {
        "id": "w-CZPK6ShufH",
        "colab_type": "text"
      },
      "source": [
        "In this problem, we are asked to implement a function `maxpooling2d` that takes as input an input matrix (`input_mat`) and a window size (`s`) and outputs the result of the maxpooling (`output_mat`).\n",
        "\n",
        "The given input matrix must be square; if it is not, an exception is thrown. If the given input matrix is smaller than the given window size, an exception is thrown.\n",
        "\n",
        "To obtain the maximum value in a matrix when performing maxpooling, I used the `np.max()` function."
      ]
    },
    {
      "cell_type": "markdown",
      "metadata": {
        "id": "avCGsfcUcDrM",
        "colab_type": "text"
      },
      "source": [
        "# Solution"
      ]
    },
    {
      "cell_type": "markdown",
      "metadata": {
        "id": "bwm7pbrsl1xc",
        "colab_type": "text"
      },
      "source": [
        "## Implementation"
      ]
    },
    {
      "cell_type": "code",
      "metadata": {
        "id": "yNkDofVph9dZ",
        "colab_type": "code",
        "colab": {}
      },
      "source": [
        "# Custom exception to handle a non-square matrix being given\n",
        "class NonSquareMatrixError(Exception):\n",
        "  def __init__(self, shape):\n",
        "    self.shape = shape\n",
        "  def __str__(self):\n",
        "    return \"Input matrix is not a square matrix (has shape {})\".\\\n",
        "            format(self.shape)\n",
        "\n",
        "# Custom exception to handle invalid window size being given\n",
        "class InvalidWindowSize(Exception):\n",
        "  def __init__(self, window_size):\n",
        "    self.window_size = window_size\n",
        "  def __str__(self):\n",
        "    if self.window_size < 0:\n",
        "      return \"Window size must be greater than 0\"\n",
        "    else:\n",
        "      return \"Window size must be less than or equal to size of input matrix\"\n",
        "\n",
        "# Checks that the given array is a square matrix. If it is not, a custom\n",
        "# exception is thrown.\n",
        "def is_square_matrix(mat):\n",
        "  if len(mat.shape) != 2 or mat.shape[0] != mat.shape[1]:\n",
        "    raise NonSquareMatrixError(mat.shape)\n",
        "\n",
        "def maxpooling2d(input_mat, s):\n",
        "  # Make sure that both given arrays are square matrices\n",
        "  is_square_matrix(input_mat)\n",
        "\n",
        "  # Make sure that window size is valid\n",
        "  if s < 0 or s > input_mat.shape[0]:\n",
        "    raise InvalidWindowSize(s)\n",
        "\n",
        "  # Get number of rows/columns in input matrix\n",
        "  input_size = input_mat.shape[0]\n",
        "\n",
        "  # Create output matrix for storing maxpooling result\n",
        "  output_size = int(np.ceil(input_size / s))\n",
        "  output_mat = np.empty((output_size, output_size))\n",
        "\n",
        "  # Created padded version of input array\n",
        "  num_pad = s - 1\n",
        "  padded_shape = input_size + num_pad*2\n",
        "  input_padded = np.zeros((padded_shape, padded_shape))\n",
        "  input_padded[num_pad : input_size + num_pad,\n",
        "               num_pad : input_size + num_pad] = input_mat\n",
        "\n",
        "  # Use sliding window to get every possible patch in input matrix and fill up\n",
        "  # cells in output matrix with result of maxpooling\n",
        "  for i in range(0, input_size, s):\n",
        "    for j in range(0, input_size, s):\n",
        "      # Get bounds (in terms of padded input matrix rows/cols) for this patch\n",
        "      min_patch_row = i + num_pad\n",
        "      max_patch_row = i + (s - 1) + num_pad\n",
        "      min_patch_col = j + num_pad\n",
        "      max_patch_col = j + (s - 1) + num_pad\n",
        "      \n",
        "      # Get patch from padded input matrix\n",
        "      patch = input_padded[min_patch_row : max_patch_row + 1, \n",
        "                        min_patch_col : max_patch_col + 1]\n",
        "\n",
        "      # Compute value in output matrix as max value in patch\n",
        "      output_mat[int(i / s), int(j / s)] = np.max(patch)\n",
        "  \n",
        "  return output_mat"
      ],
      "execution_count": 0,
      "outputs": []
    },
    {
      "cell_type": "markdown",
      "metadata": {
        "id": "qDDt2LJbkrgE",
        "colab_type": "text"
      },
      "source": [
        "## Valid matrix, window size given"
      ]
    },
    {
      "cell_type": "code",
      "metadata": {
        "id": "0hAEGVxFX8KO",
        "colab_type": "code",
        "outputId": "1442b407-1e44-400c-9e84-6cb54c9e232c",
        "colab": {
          "base_uri": "https://localhost:8080/",
          "height": 51
        }
      },
      "source": [
        "input_mat = np.array([[1, 2, 3, 4],\n",
        "                      [5, 6, 7, 8],\n",
        "                      [9, 10, 11, 12],\n",
        "                      [13, 14, 15, 16]])\n",
        "\n",
        "output_mat = maxpooling2d(input_mat, 2)\n",
        "\n",
        "print(output_mat)"
      ],
      "execution_count": 3,
      "outputs": [
        {
          "output_type": "stream",
          "text": [
            "[[ 6.  8.]\n",
            " [14. 16.]]\n"
          ],
          "name": "stdout"
        }
      ]
    },
    {
      "cell_type": "code",
      "metadata": {
        "id": "HTAtLqAq8_G6",
        "colab_type": "code",
        "outputId": "cba8fb32-d2ea-4f6d-8cc0-7c7d744012e8",
        "colab": {
          "base_uri": "https://localhost:8080/",
          "height": 51
        }
      },
      "source": [
        "input_mat = np.array([[19, 2, 3],\n",
        "                      [6, 12, 7],\n",
        "                      [8, 4, 10]])\n",
        "\n",
        "output_mat = maxpooling2d(input_mat, 2)\n",
        "\n",
        "print(output_mat)"
      ],
      "execution_count": 4,
      "outputs": [
        {
          "output_type": "stream",
          "text": [
            "[[19.  7.]\n",
            " [ 8. 10.]]\n"
          ],
          "name": "stdout"
        }
      ]
    },
    {
      "cell_type": "markdown",
      "metadata": {
        "id": "eg3dY2T6k6Mc",
        "colab_type": "text"
      },
      "source": [
        "## Non-square matrix given\n",
        "\n"
      ]
    },
    {
      "cell_type": "code",
      "metadata": {
        "id": "-dKrta44lDBd",
        "colab_type": "code",
        "outputId": "19ce9e4c-dc5b-4ec0-96a8-81adf865ad5b",
        "colab": {
          "base_uri": "https://localhost:8080/",
          "height": 375
        }
      },
      "source": [
        "input_mat = np.array([[1, 2, 3, 4],\n",
        "                      [5, 6, 7, 8],\n",
        "                      [9, 10, 11, 12]])\n",
        "\n",
        "output_mat = maxpooling2d(input_mat, 2)\n",
        "\n",
        "print(output_mat)"
      ],
      "execution_count": 5,
      "outputs": [
        {
          "output_type": "error",
          "ename": "NonSquareMatrixError",
          "evalue": "ignored",
          "traceback": [
            "\u001b[0;31m---------------------------------------------------------------------------\u001b[0m",
            "\u001b[0;31mNonSquareMatrixError\u001b[0m                      Traceback (most recent call last)",
            "\u001b[0;32m<ipython-input-5-7cdcc76a59ed>\u001b[0m in \u001b[0;36m<module>\u001b[0;34m()\u001b[0m\n\u001b[1;32m      3\u001b[0m                       [9, 10, 11, 12]])\n\u001b[1;32m      4\u001b[0m \u001b[0;34m\u001b[0m\u001b[0m\n\u001b[0;32m----> 5\u001b[0;31m \u001b[0moutput_mat\u001b[0m \u001b[0;34m=\u001b[0m \u001b[0mmaxpooling2d\u001b[0m\u001b[0;34m(\u001b[0m\u001b[0minput_mat\u001b[0m\u001b[0;34m,\u001b[0m \u001b[0;36m2\u001b[0m\u001b[0;34m)\u001b[0m\u001b[0;34m\u001b[0m\u001b[0;34m\u001b[0m\u001b[0m\n\u001b[0m\u001b[1;32m      6\u001b[0m \u001b[0;34m\u001b[0m\u001b[0m\n\u001b[1;32m      7\u001b[0m \u001b[0mprint\u001b[0m\u001b[0;34m(\u001b[0m\u001b[0moutput_mat\u001b[0m\u001b[0;34m)\u001b[0m\u001b[0;34m\u001b[0m\u001b[0;34m\u001b[0m\u001b[0m\n",
            "\u001b[0;32m<ipython-input-2-debe11298879>\u001b[0m in \u001b[0;36mmaxpooling2d\u001b[0;34m(input_mat, s)\u001b[0m\n\u001b[1;32m     23\u001b[0m \u001b[0;32mdef\u001b[0m \u001b[0mmaxpooling2d\u001b[0m\u001b[0;34m(\u001b[0m\u001b[0minput_mat\u001b[0m\u001b[0;34m,\u001b[0m \u001b[0ms\u001b[0m\u001b[0;34m)\u001b[0m\u001b[0;34m:\u001b[0m\u001b[0;34m\u001b[0m\u001b[0;34m\u001b[0m\u001b[0m\n\u001b[1;32m     24\u001b[0m   \u001b[0;31m# Make sure that both given arrays are square matrices\u001b[0m\u001b[0;34m\u001b[0m\u001b[0;34m\u001b[0m\u001b[0;34m\u001b[0m\u001b[0m\n\u001b[0;32m---> 25\u001b[0;31m   \u001b[0mis_square_matrix\u001b[0m\u001b[0;34m(\u001b[0m\u001b[0minput_mat\u001b[0m\u001b[0;34m)\u001b[0m\u001b[0;34m\u001b[0m\u001b[0;34m\u001b[0m\u001b[0m\n\u001b[0m\u001b[1;32m     26\u001b[0m \u001b[0;34m\u001b[0m\u001b[0m\n\u001b[1;32m     27\u001b[0m   \u001b[0;31m# Make sure that window size is valid\u001b[0m\u001b[0;34m\u001b[0m\u001b[0;34m\u001b[0m\u001b[0;34m\u001b[0m\u001b[0m\n",
            "\u001b[0;32m<ipython-input-2-debe11298879>\u001b[0m in \u001b[0;36mis_square_matrix\u001b[0;34m(mat)\u001b[0m\n\u001b[1;32m     19\u001b[0m \u001b[0;32mdef\u001b[0m \u001b[0mis_square_matrix\u001b[0m\u001b[0;34m(\u001b[0m\u001b[0mmat\u001b[0m\u001b[0;34m)\u001b[0m\u001b[0;34m:\u001b[0m\u001b[0;34m\u001b[0m\u001b[0;34m\u001b[0m\u001b[0m\n\u001b[1;32m     20\u001b[0m   \u001b[0;32mif\u001b[0m \u001b[0mlen\u001b[0m\u001b[0;34m(\u001b[0m\u001b[0mmat\u001b[0m\u001b[0;34m.\u001b[0m\u001b[0mshape\u001b[0m\u001b[0;34m)\u001b[0m \u001b[0;34m!=\u001b[0m \u001b[0;36m2\u001b[0m \u001b[0;32mor\u001b[0m \u001b[0mmat\u001b[0m\u001b[0;34m.\u001b[0m\u001b[0mshape\u001b[0m\u001b[0;34m[\u001b[0m\u001b[0;36m0\u001b[0m\u001b[0;34m]\u001b[0m \u001b[0;34m!=\u001b[0m \u001b[0mmat\u001b[0m\u001b[0;34m.\u001b[0m\u001b[0mshape\u001b[0m\u001b[0;34m[\u001b[0m\u001b[0;36m1\u001b[0m\u001b[0;34m]\u001b[0m\u001b[0;34m:\u001b[0m\u001b[0;34m\u001b[0m\u001b[0;34m\u001b[0m\u001b[0m\n\u001b[0;32m---> 21\u001b[0;31m     \u001b[0;32mraise\u001b[0m \u001b[0mNonSquareMatrixError\u001b[0m\u001b[0;34m(\u001b[0m\u001b[0mmat\u001b[0m\u001b[0;34m.\u001b[0m\u001b[0mshape\u001b[0m\u001b[0;34m)\u001b[0m\u001b[0;34m\u001b[0m\u001b[0;34m\u001b[0m\u001b[0m\n\u001b[0m\u001b[1;32m     22\u001b[0m \u001b[0;34m\u001b[0m\u001b[0m\n\u001b[1;32m     23\u001b[0m \u001b[0;32mdef\u001b[0m \u001b[0mmaxpooling2d\u001b[0m\u001b[0;34m(\u001b[0m\u001b[0minput_mat\u001b[0m\u001b[0;34m,\u001b[0m \u001b[0ms\u001b[0m\u001b[0;34m)\u001b[0m\u001b[0;34m:\u001b[0m\u001b[0;34m\u001b[0m\u001b[0;34m\u001b[0m\u001b[0m\n",
            "\u001b[0;31mNonSquareMatrixError\u001b[0m: Input matrix is not a square matrix (has shape (3, 4))"
          ]
        }
      ]
    },
    {
      "cell_type": "markdown",
      "metadata": {
        "id": "BXJ_hnpklLwu",
        "colab_type": "text"
      },
      "source": [
        "## Invalid window size given"
      ]
    },
    {
      "cell_type": "code",
      "metadata": {
        "id": "2pV6ocaVlk6W",
        "colab_type": "code",
        "outputId": "12ee1ea6-2db0-4b00-b55f-edec64c2acb6",
        "colab": {
          "base_uri": "https://localhost:8080/",
          "height": 351
        }
      },
      "source": [
        "input_mat = np.array([[1, 2, 3, 4],\n",
        "                      [5, 6, 7, 8],\n",
        "                      [9, 10, 11, 12],\n",
        "                      [13, 14, 15, 16]])\n",
        "\n",
        "output_mat = maxpooling2d(input_mat, 5)\n",
        "\n",
        "print(output_mat)"
      ],
      "execution_count": 6,
      "outputs": [
        {
          "output_type": "error",
          "ename": "InvalidWindowSize",
          "evalue": "ignored",
          "traceback": [
            "\u001b[0;31m---------------------------------------------------------------------------\u001b[0m",
            "\u001b[0;31mInvalidWindowSize\u001b[0m                         Traceback (most recent call last)",
            "\u001b[0;32m<ipython-input-6-c98a373cef56>\u001b[0m in \u001b[0;36m<module>\u001b[0;34m()\u001b[0m\n\u001b[1;32m      4\u001b[0m                       [13, 14, 15, 16]])\n\u001b[1;32m      5\u001b[0m \u001b[0;34m\u001b[0m\u001b[0m\n\u001b[0;32m----> 6\u001b[0;31m \u001b[0moutput_mat\u001b[0m \u001b[0;34m=\u001b[0m \u001b[0mmaxpooling2d\u001b[0m\u001b[0;34m(\u001b[0m\u001b[0minput_mat\u001b[0m\u001b[0;34m,\u001b[0m \u001b[0;36m5\u001b[0m\u001b[0;34m)\u001b[0m\u001b[0;34m\u001b[0m\u001b[0;34m\u001b[0m\u001b[0m\n\u001b[0m\u001b[1;32m      7\u001b[0m \u001b[0;34m\u001b[0m\u001b[0m\n\u001b[1;32m      8\u001b[0m \u001b[0mprint\u001b[0m\u001b[0;34m(\u001b[0m\u001b[0moutput_mat\u001b[0m\u001b[0;34m)\u001b[0m\u001b[0;34m\u001b[0m\u001b[0;34m\u001b[0m\u001b[0m\n",
            "\u001b[0;32m<ipython-input-2-debe11298879>\u001b[0m in \u001b[0;36mmaxpooling2d\u001b[0;34m(input_mat, s)\u001b[0m\n\u001b[1;32m     27\u001b[0m   \u001b[0;31m# Make sure that window size is valid\u001b[0m\u001b[0;34m\u001b[0m\u001b[0;34m\u001b[0m\u001b[0;34m\u001b[0m\u001b[0m\n\u001b[1;32m     28\u001b[0m   \u001b[0;32mif\u001b[0m \u001b[0ms\u001b[0m \u001b[0;34m<\u001b[0m \u001b[0;36m0\u001b[0m \u001b[0;32mor\u001b[0m \u001b[0ms\u001b[0m \u001b[0;34m>\u001b[0m \u001b[0minput_mat\u001b[0m\u001b[0;34m.\u001b[0m\u001b[0mshape\u001b[0m\u001b[0;34m[\u001b[0m\u001b[0;36m0\u001b[0m\u001b[0;34m]\u001b[0m\u001b[0;34m:\u001b[0m\u001b[0;34m\u001b[0m\u001b[0;34m\u001b[0m\u001b[0m\n\u001b[0;32m---> 29\u001b[0;31m     \u001b[0;32mraise\u001b[0m \u001b[0mInvalidWindowSize\u001b[0m\u001b[0;34m(\u001b[0m\u001b[0ms\u001b[0m\u001b[0;34m)\u001b[0m\u001b[0;34m\u001b[0m\u001b[0;34m\u001b[0m\u001b[0m\n\u001b[0m\u001b[1;32m     30\u001b[0m \u001b[0;34m\u001b[0m\u001b[0m\n\u001b[1;32m     31\u001b[0m   \u001b[0;31m# Get number of rows/columns in input matrix\u001b[0m\u001b[0;34m\u001b[0m\u001b[0;34m\u001b[0m\u001b[0;34m\u001b[0m\u001b[0m\n",
            "\u001b[0;31mInvalidWindowSize\u001b[0m: Window size must be less than or equal to size of input matrix"
          ]
        }
      ]
    },
    {
      "cell_type": "markdown",
      "metadata": {
        "id": "rxL0-nHaPV3z",
        "colab_type": "text"
      },
      "source": [
        "## Test cases"
      ]
    },
    {
      "cell_type": "markdown",
      "metadata": {
        "id": "0hYb5ACVP90u",
        "colab_type": "text"
      },
      "source": [
        "Below are the results of my running my program with the test cases provided in the assignment."
      ]
    },
    {
      "cell_type": "code",
      "metadata": {
        "id": "pdu5s1RfP-vJ",
        "colab_type": "code",
        "colab": {
          "base_uri": "https://localhost:8080/",
          "height": 136
        },
        "outputId": "94f33c9d-4964-49d8-fc9a-83368dc74f66"
      },
      "source": [
        "import skimage.measure\n",
        "\n",
        "input_mat = []\n",
        "expected_mat = []\n",
        "s = []\n",
        "input_mat.append(np.array([[1, 2, 1, 2],\n",
        "                      [2, 4, 2, 1],\n",
        "                      [1, 2, 4, 2],\n",
        "                      [2, 1, 2, 1]]))\n",
        "s.append(2)\n",
        "\n",
        "expected_mat.append(np.array([[4, 2],\n",
        "                                [2, 4]]))\n",
        "\n",
        "input_mat.append(np.array([[1, 2, 1, 2, 4, 5],\n",
        "                      [2, 4, 2, 1, 0, 3],\n",
        "                      [1, 2, 4, 2, 4, 5],\n",
        "                      [2, 1, 2, 1, 2, 1],\n",
        "                      [1, 1, 2, 3, 1, 2],\n",
        "                      [1, 1, 2, 3, 1, 2]]))\n",
        "s.append(2)\n",
        "\n",
        "expected_mat.append([[4, 2, 5],\n",
        " [2, 4, 5],\n",
        " [1, 3, 2]])\n",
        "\n",
        "\n",
        "for i in range(len(input_mat)):\n",
        "  # uncomment top line and comment second line to test code\n",
        "  output_mat = maxpooling2d(input_mat[i], s[i])\n",
        "  # output_mat = skimage.measure.block_reduce(input_mat[i], (s[i],s[i]), np.max)\n",
        "\n",
        "  print(output_mat)\n",
        "\n",
        "  if np.array_equal(output_mat, expected_mat[i]):\n",
        "    print(\"Correct output!\")\n",
        "  else:\n",
        "    print(\"Incorrect output!\")"
      ],
      "execution_count": 7,
      "outputs": [
        {
          "output_type": "stream",
          "text": [
            "[[4. 2.]\n",
            " [2. 4.]]\n",
            "Correct output!\n",
            "[[4. 2. 5.]\n",
            " [2. 4. 5.]\n",
            " [1. 3. 2.]]\n",
            "Correct output!\n"
          ],
          "name": "stdout"
        }
      ]
    }
  ]
}