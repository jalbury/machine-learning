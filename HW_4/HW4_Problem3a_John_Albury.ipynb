{
  "nbformat": 4,
  "nbformat_minor": 0,
  "metadata": {
    "colab": {
      "name": "HW4_Problem3a_John_Albury.ipynb",
      "provenance": [],
      "include_colab_link": true
    },
    "kernelspec": {
      "name": "python3",
      "display_name": "Python 3"
    },
    "accelerator": "GPU"
  },
  "cells": [
    {
      "cell_type": "markdown",
      "metadata": {
        "id": "view-in-github",
        "colab_type": "text"
      },
      "source": [
        "<a href=\"https://colab.research.google.com/github/jalbury/machine-learning/blob/master/HW_4/HW4_Problem3a_John_Albury.ipynb\" target=\"_parent\"><img src=\"https://colab.research.google.com/assets/colab-badge.svg\" alt=\"Open In Colab\"/></a>"
      ]
    },
    {
      "cell_type": "markdown",
      "metadata": {
        "id": "JoHqzW0Y5LsM",
        "colab_type": "text"
      },
      "source": [
        "# Description of changes"
      ]
    },
    {
      "cell_type": "markdown",
      "metadata": {
        "id": "daNZpCVO5Pps",
        "colab_type": "text"
      },
      "source": [
        "This is the first of two notebooks that will modify Dr. Wocjan's code to use a different convolution base for feature extraction. Specifically, I changed the convolutional base of the model from [VGG16](https://keras.io/applications/#vgg16) to [InceptionV3](https://keras.io/applications/#inceptionv3)\n",
        "\n",
        "For this first notebook, I left the classifier the same as what was used in Dr. Wocjan's notebook to provide a baseline for performance. In the next notebook, I will attempt to achieve better results by modifying the classifier. "
      ]
    },
    {
      "cell_type": "markdown",
      "metadata": {
        "id": "KSrgMJ5vKFzQ",
        "colab_type": "text"
      },
      "source": [
        "# Fine-tuning VGG16 "
      ]
    },
    {
      "cell_type": "markdown",
      "metadata": {
        "id": "TIW7bZaAK-Hf",
        "colab_type": "text"
      },
      "source": [
        "This is based on section 5.3 *Using a pretrained convnet* of the book *Deep learning with Python* by Francois Chollet. I have made several changes to the code. I use the data that is already provided by Google. I don't download the data from Kaggle as in the deep learning book."
      ]
    },
    {
      "cell_type": "markdown",
      "metadata": {
        "id": "nsBq__dVo2pj",
        "colab_type": "text"
      },
      "source": [
        "## Feature extraction"
      ]
    },
    {
      "cell_type": "markdown",
      "metadata": {
        "id": "0g6ETAM9o54M",
        "colab_type": "text"
      },
      "source": [
        "Feature extraction consists of using the representations learned by a previous network to extract interesting features from new samples. These features are then run through a new classifier, which is trained from scratch.\n",
        "\n",
        "We will use here the convolutional base of the InceptionV3 model to extract the features. We will feed these features to a densely connected classifier with dropout. We will fine-tune some layers."
      ]
    },
    {
      "cell_type": "markdown",
      "metadata": {
        "id": "BqIG8QHMLNOn",
        "colab_type": "text"
      },
      "source": [
        "## Download the data"
      ]
    },
    {
      "cell_type": "markdown",
      "metadata": {
        "id": "t3I1jd7cKV6_",
        "colab_type": "text"
      },
      "source": [
        "Download the example data, a zip. of 2,000 JPG pictures of cats and dogs and extract it locally in ```/tmp```.\n",
        "\n"
      ]
    },
    {
      "cell_type": "code",
      "metadata": {
        "id": "JWjprHEXJ5Qi",
        "colab_type": "code",
        "outputId": "fd5453bc-cfb3-453c-fc60-e034fb908d1a",
        "colab": {
          "base_uri": "https://localhost:8080/",
          "height": 204
        }
      },
      "source": [
        "!wget --no-check-certificate \\\n",
        "    https://storage.googleapis.com/mledu-datasets/cats_and_dogs_filtered.zip \\\n",
        "    -O /tmp/cats_and_dogs_filtered.zip"
      ],
      "execution_count": 0,
      "outputs": [
        {
          "output_type": "stream",
          "text": [
            "--2020-04-18 16:19:23--  https://storage.googleapis.com/mledu-datasets/cats_and_dogs_filtered.zip\n",
            "Resolving storage.googleapis.com (storage.googleapis.com)... 108.177.119.128, 2a00:1450:4013:c01::80\n",
            "Connecting to storage.googleapis.com (storage.googleapis.com)|108.177.119.128|:443... connected.\n",
            "HTTP request sent, awaiting response... 200 OK\n",
            "Length: 68606236 (65M) [application/zip]\n",
            "Saving to: ‘/tmp/cats_and_dogs_filtered.zip’\n",
            "\n",
            "\r          /tmp/cats   0%[                    ]       0  --.-KB/s               \r         /tmp/cats_  48%[========>           ]  32.01M  97.2MB/s               \r/tmp/cats_and_dogs_ 100%[===================>]  65.43M   158MB/s    in 0.4s    \n",
            "\n",
            "2020-04-18 16:19:24 (158 MB/s) - ‘/tmp/cats_and_dogs_filtered.zip’ saved [68606236/68606236]\n",
            "\n"
          ],
          "name": "stdout"
        }
      ]
    },
    {
      "cell_type": "code",
      "metadata": {
        "id": "WvoHtdA-K6Rw",
        "colab_type": "code",
        "colab": {}
      },
      "source": [
        "import os\n",
        "import zipfile\n",
        "\n",
        "local_zip = '/tmp/cats_and_dogs_filtered.zip'\n",
        "zip_ref = zipfile.ZipFile(local_zip, 'r')\n",
        "zip_ref.extractall('/tmp')\n",
        "zip_ref.close()"
      ],
      "execution_count": 0,
      "outputs": []
    },
    {
      "cell_type": "markdown",
      "metadata": {
        "id": "shZiOBnJMyy_",
        "colab_type": "text"
      },
      "source": [
        "Note that the data provided by Google does not have a test set."
      ]
    },
    {
      "cell_type": "code",
      "metadata": {
        "id": "dL8ikM89LlsH",
        "colab_type": "code",
        "colab": {}
      },
      "source": [
        "base_dir = '/tmp/cats_and_dogs_filtered'\n",
        "train_dir = os.path.join(base_dir, 'train')\n",
        "validation_dir = os.path.join(base_dir, 'validation')\n",
        "\n",
        "# Directory with our training cat pictures\n",
        "train_cats_dir = os.path.join(train_dir, 'cats')\n",
        "\n",
        "# Directory with our training dog pictures\n",
        "train_dogs_dir = os.path.join(train_dir, 'dogs')\n",
        "\n",
        "# Directory with our validation cat pictures\n",
        "validation_cats_dir = os.path.join(validation_dir, 'cats')\n",
        "\n",
        "# Directory with our validation dog pictures\n",
        "validation_dogs_dir = os.path.join(validation_dir, 'dogs')"
      ],
      "execution_count": 0,
      "outputs": []
    },
    {
      "cell_type": "markdown",
      "metadata": {
        "id": "inyP8bcdXnn-",
        "colab_type": "text"
      },
      "source": [
        "## Build network with InceptionV3 convolution base and custom densely connected layers"
      ]
    },
    {
      "cell_type": "markdown",
      "metadata": {
        "id": "kQ48W5T9rHWu",
        "colab_type": "text"
      },
      "source": [
        "### Load the convolutional base"
      ]
    },
    {
      "cell_type": "code",
      "metadata": {
        "id": "Y0FgtANCXm_H",
        "colab_type": "code",
        "colab": {}
      },
      "source": [
        "from keras.applications import InceptionV3\n",
        "\n",
        "conv_base = InceptionV3(\n",
        "    weights='imagenet', \n",
        "    include_top=False, \n",
        "    input_shape=(150, 150, 3))"
      ],
      "execution_count": 0,
      "outputs": []
    },
    {
      "cell_type": "markdown",
      "metadata": {
        "id": "D6OBHOO9q1ou",
        "colab_type": "text"
      },
      "source": [
        "### Freeze the convolutional base"
      ]
    },
    {
      "cell_type": "code",
      "metadata": {
        "id": "UleRo4Dpq6Ld",
        "colab_type": "code",
        "colab": {}
      },
      "source": [
        "conv_base.trainable = False"
      ],
      "execution_count": 0,
      "outputs": []
    },
    {
      "cell_type": "markdown",
      "metadata": {
        "id": "Qfx6PqhPrb7Q",
        "colab_type": "text"
      },
      "source": [
        "### Concatenate the convolutional base and densely connected layers"
      ]
    },
    {
      "cell_type": "code",
      "metadata": {
        "id": "qUpmocDAO3xm",
        "colab_type": "code",
        "colab": {}
      },
      "source": [
        "from keras import layers\n",
        "from keras import models\n",
        "from keras import optimizers\n",
        "\n",
        "model = models.Sequential()\n",
        "model.add(conv_base)\n",
        "model.add(layers.Flatten())\n",
        "model.add(layers.Dense(256, activation='relu'))\n",
        "model.add(layers.Dropout(0.1))\n",
        "model.add(layers.Dense(1, activation='sigmoid'))"
      ],
      "execution_count": 0,
      "outputs": []
    },
    {
      "cell_type": "code",
      "metadata": {
        "id": "Fh6gZSeAjF7c",
        "colab_type": "code",
        "outputId": "22219549-1608-4abb-eb41-afa125f68df7",
        "colab": {
          "base_uri": "https://localhost:8080/",
          "height": 323
        }
      },
      "source": [
        "model.summary()"
      ],
      "execution_count": 0,
      "outputs": [
        {
          "output_type": "stream",
          "text": [
            "Model: \"sequential_1\"\n",
            "_________________________________________________________________\n",
            "Layer (type)                 Output Shape              Param #   \n",
            "=================================================================\n",
            "inception_v3 (Model)         (None, 3, 3, 2048)        21802784  \n",
            "_________________________________________________________________\n",
            "flatten_1 (Flatten)          (None, 18432)             0         \n",
            "_________________________________________________________________\n",
            "dense_1 (Dense)              (None, 256)               4718848   \n",
            "_________________________________________________________________\n",
            "dropout_1 (Dropout)          (None, 256)               0         \n",
            "_________________________________________________________________\n",
            "dense_2 (Dense)              (None, 1)                 257       \n",
            "=================================================================\n",
            "Total params: 26,521,889\n",
            "Trainable params: 4,719,105\n",
            "Non-trainable params: 21,802,784\n",
            "_________________________________________________________________\n"
          ],
          "name": "stdout"
        }
      ]
    },
    {
      "cell_type": "markdown",
      "metadata": {
        "id": "eZjBiddhi5Qj",
        "colab_type": "text"
      },
      "source": [
        "## Train the model end to end with frozen convolutional base"
      ]
    },
    {
      "cell_type": "code",
      "metadata": {
        "id": "tfAQlC2Oi41L",
        "colab_type": "code",
        "outputId": "ae81b106-4aff-4897-9bc0-f7ee9d48d565",
        "colab": {
          "base_uri": "https://localhost:8080/",
          "height": 1000
        }
      },
      "source": [
        "from keras.preprocessing.image import ImageDataGenerator\n",
        "from keras import optimizers\n",
        "\n",
        "# data augmentation\n",
        "\n",
        "train_datagen = ImageDataGenerator(\n",
        "    rescale=1./255, \n",
        "    rotation_range=40,\n",
        "    width_shift_range=0.2,\n",
        "    height_shift_range=0.2,\n",
        "    shear_range=0.2,\n",
        "    zoom_range=0.2,\n",
        "    horizontal_flip=True,\n",
        "    fill_mode='nearest'\n",
        ")\n",
        "\n",
        "train_generator = train_datagen.flow_from_directory(\n",
        "    train_dir,\n",
        "    target_size=(150, 150),\n",
        "    batch_size=20,\n",
        "    class_mode='binary')\n",
        "\n",
        "validation_datagen = ImageDataGenerator(rescale=1./255)\n",
        "\n",
        "validation_generator = validation_datagen.flow_from_directory(\n",
        "    validation_dir,\n",
        "    target_size=(150, 150),\n",
        "    batch_size=20,\n",
        "    class_mode='binary')\n",
        "\n",
        "# compile model\n",
        "\n",
        "model.compile(\n",
        "    loss='binary_crossentropy', \n",
        "    optimizer=optimizers.RMSprop(lr=2e-5), \n",
        "    metrics=['acc'])\n",
        "\n",
        "# train\n",
        "\n",
        "history = model.fit_generator(\n",
        "    train_generator,\n",
        "    steps_per_epoch=100,\n",
        "    epochs=30,\n",
        "    validation_data=validation_generator,\n",
        "    validation_steps=50\n",
        ")"
      ],
      "execution_count": 0,
      "outputs": [
        {
          "output_type": "stream",
          "text": [
            "Found 2000 images belonging to 2 classes.\n",
            "Found 1000 images belonging to 2 classes.\n",
            "Epoch 1/30\n",
            "100/100 [==============================] - 30s 298ms/step - loss: 0.5920 - acc: 0.6620 - val_loss: 0.0226 - val_acc: 0.9250\n",
            "Epoch 2/30\n",
            "100/100 [==============================] - 17s 173ms/step - loss: 0.4999 - acc: 0.7400 - val_loss: 0.0131 - val_acc: 0.9360\n",
            "Epoch 3/30\n",
            "100/100 [==============================] - 17s 173ms/step - loss: 0.4521 - acc: 0.7870 - val_loss: 0.3205 - val_acc: 0.9510\n",
            "Epoch 4/30\n",
            "100/100 [==============================] - 17s 174ms/step - loss: 0.4468 - acc: 0.7800 - val_loss: 0.0081 - val_acc: 0.9270\n",
            "Epoch 5/30\n",
            "100/100 [==============================] - 17s 172ms/step - loss: 0.4015 - acc: 0.8110 - val_loss: 0.0421 - val_acc: 0.9440\n",
            "Epoch 6/30\n",
            "100/100 [==============================] - 17s 173ms/step - loss: 0.4133 - acc: 0.8000 - val_loss: 0.0628 - val_acc: 0.9100\n",
            "Epoch 7/30\n",
            "100/100 [==============================] - 17s 174ms/step - loss: 0.4269 - acc: 0.8015 - val_loss: 0.7524 - val_acc: 0.9320\n",
            "Epoch 8/30\n",
            "100/100 [==============================] - 17s 173ms/step - loss: 0.3997 - acc: 0.8105 - val_loss: 0.7508 - val_acc: 0.9280\n",
            "Epoch 9/30\n",
            "100/100 [==============================] - 17s 175ms/step - loss: 0.3975 - acc: 0.8185 - val_loss: 0.0092 - val_acc: 0.9470\n",
            "Epoch 10/30\n",
            "100/100 [==============================] - 17s 174ms/step - loss: 0.4024 - acc: 0.8175 - val_loss: 0.0656 - val_acc: 0.9500\n",
            "Epoch 11/30\n",
            "100/100 [==============================] - 17s 173ms/step - loss: 0.4014 - acc: 0.8085 - val_loss: 0.4294 - val_acc: 0.9480\n",
            "Epoch 12/30\n",
            "100/100 [==============================] - 17s 174ms/step - loss: 0.4166 - acc: 0.8045 - val_loss: 0.6059 - val_acc: 0.9470\n",
            "Epoch 13/30\n",
            "100/100 [==============================] - 17s 174ms/step - loss: 0.3813 - acc: 0.8190 - val_loss: 0.2593 - val_acc: 0.9470\n",
            "Epoch 14/30\n",
            "100/100 [==============================] - 17s 174ms/step - loss: 0.3914 - acc: 0.8195 - val_loss: 2.2121e-04 - val_acc: 0.9380\n",
            "Epoch 15/30\n",
            "100/100 [==============================] - 17s 174ms/step - loss: 0.3648 - acc: 0.8265 - val_loss: 4.0385e-04 - val_acc: 0.9490\n",
            "Epoch 16/30\n",
            "100/100 [==============================] - 17s 174ms/step - loss: 0.3958 - acc: 0.8225 - val_loss: 0.9236 - val_acc: 0.9440\n",
            "Epoch 17/30\n",
            "100/100 [==============================] - 17s 174ms/step - loss: 0.3775 - acc: 0.8250 - val_loss: 0.3488 - val_acc: 0.9500\n",
            "Epoch 18/30\n",
            "100/100 [==============================] - 18s 177ms/step - loss: 0.3791 - acc: 0.8290 - val_loss: 0.0036 - val_acc: 0.9470\n",
            "Epoch 19/30\n",
            "100/100 [==============================] - 18s 177ms/step - loss: 0.3986 - acc: 0.8210 - val_loss: 0.0582 - val_acc: 0.9410\n",
            "Epoch 20/30\n",
            "100/100 [==============================] - 17s 175ms/step - loss: 0.3664 - acc: 0.8310 - val_loss: 0.2394 - val_acc: 0.9510\n",
            "Epoch 21/30\n",
            "100/100 [==============================] - 17s 173ms/step - loss: 0.3582 - acc: 0.8410 - val_loss: 0.0159 - val_acc: 0.9460\n",
            "Epoch 22/30\n",
            "100/100 [==============================] - 18s 175ms/step - loss: 0.3771 - acc: 0.8365 - val_loss: 1.0751 - val_acc: 0.9130\n",
            "Epoch 23/30\n",
            "100/100 [==============================] - 17s 174ms/step - loss: 0.3605 - acc: 0.8360 - val_loss: 0.8086 - val_acc: 0.9310\n",
            "Epoch 24/30\n",
            "100/100 [==============================] - 17s 173ms/step - loss: 0.3704 - acc: 0.8300 - val_loss: 0.0025 - val_acc: 0.9390\n",
            "Epoch 25/30\n",
            "100/100 [==============================] - 18s 175ms/step - loss: 0.3634 - acc: 0.8315 - val_loss: 3.0566e-04 - val_acc: 0.9510\n",
            "Epoch 26/30\n",
            "100/100 [==============================] - 17s 173ms/step - loss: 0.3665 - acc: 0.8340 - val_loss: 0.8693 - val_acc: 0.9440\n",
            "Epoch 27/30\n",
            "100/100 [==============================] - 18s 176ms/step - loss: 0.3399 - acc: 0.8540 - val_loss: 0.2006 - val_acc: 0.9520\n",
            "Epoch 28/30\n",
            "100/100 [==============================] - 17s 173ms/step - loss: 0.3398 - acc: 0.8495 - val_loss: 0.0290 - val_acc: 0.9410\n",
            "Epoch 29/30\n",
            "100/100 [==============================] - 17s 174ms/step - loss: 0.3510 - acc: 0.8505 - val_loss: 0.1801 - val_acc: 0.9460\n",
            "Epoch 30/30\n",
            "100/100 [==============================] - 17s 174ms/step - loss: 0.3583 - acc: 0.8375 - val_loss: 0.0163 - val_acc: 0.9530\n"
          ],
          "name": "stdout"
        }
      ]
    },
    {
      "cell_type": "markdown",
      "metadata": {
        "id": "xqRc_vHKc92U",
        "colab_type": "text"
      },
      "source": [
        "## Display curves of loss and accuracy during training"
      ]
    },
    {
      "cell_type": "code",
      "metadata": {
        "id": "ybWwdzz9bwuQ",
        "colab_type": "code",
        "outputId": "7f07d560-499e-4110-8b0e-096bfe0e7259",
        "colab": {
          "base_uri": "https://localhost:8080/",
          "height": 545
        }
      },
      "source": [
        "%matplotlib inline\n",
        "\n",
        "import matplotlib.pyplot as plt\n",
        "\n",
        "acc = history.history['acc']\n",
        "val_acc = history.history['val_acc']\n",
        "\n",
        "loss = history.history['loss']\n",
        "val_loss = history.history['val_loss']\n",
        "\n",
        "epochs = range(1, len(acc) + 1)\n",
        "\n",
        "# training and validation accuracy\n",
        "\n",
        "plt.plot(epochs, acc, 'bo', label='training acc')\n",
        "plt.plot(epochs, val_acc, 'b', label='validation acc')\n",
        "plt.title('training and validation accuracy')\n",
        "plt.legend()\n",
        "\n",
        "plt.figure()\n",
        "\n",
        "# training and validation loss\n",
        "\n",
        "plt.plot(epochs, loss, 'bo', label='training loss')\n",
        "plt.plot(epochs, val_loss, 'b', label='validation loss')\n",
        "plt.title('training and validation loss')\n",
        "plt.legend()\n",
        "\n",
        "plt.show()"
      ],
      "execution_count": 0,
      "outputs": [
        {
          "output_type": "display_data",
          "data": {
            "image/png": "[encoded data removed]",
            "text/plain": [
              "<Figure size 432x288 with 1 Axes>"
            ]
          },
          "metadata": {
            "tags": [],
            "needs_background": "light"
          }
        },
        {
          "output_type": "display_data",
          "data": {
            "image/png": "[encoded data removed]",
            "text/plain": [
              "<Figure size 432x288 with 1 Axes>"
            ]
          },
          "metadata": {
            "tags": [],
            "needs_background": "light"
          }
        }
      ]
    },
    {
      "cell_type": "markdown",
      "metadata": {
        "id": "lOWsxpey8lN0",
        "colab_type": "text"
      },
      "source": [
        "## Fine-tuning"
      ]
    },
    {
      "cell_type": "code",
      "metadata": {
        "id": "PwkVMx8N8qMw",
        "colab_type": "code",
        "colab": {}
      },
      "source": [
        "conv_base.trainable = True\n",
        "\n",
        "set_trainable = False\n",
        "for layer in conv_base.layers:\n",
        "  if layer.name == 'conv2d_188':\n",
        "    set_trainable = True\n",
        "  if set_trainable:\n",
        "    layer.trainable = True\n",
        "  else:\n",
        "    layer.trainable = False"
      ],
      "execution_count": 0,
      "outputs": []
    },
    {
      "cell_type": "code",
      "metadata": {
        "id": "DyN-J7rs9cvo",
        "colab_type": "code",
        "outputId": "45957a05-d200-41a9-8165-20b43948cecb",
        "colab": {
          "base_uri": "https://localhost:8080/",
          "height": 1000
        }
      },
      "source": [
        "# compile model\n",
        "\n",
        "model.compile(\n",
        "    loss='binary_crossentropy',\n",
        "    #\n",
        "    # choose a smaller learning rate\n",
        "    #\n",
        "    optimizer=optimizers.RMSprop(lr=1e-5), \n",
        "    metrics=['acc'])\n",
        "\n",
        "# train\n",
        "\n",
        "history = model.fit_generator(\n",
        "    train_generator,\n",
        "    steps_per_epoch=100,\n",
        "    epochs=100,\n",
        "    validation_data=validation_generator,\n",
        "    validation_steps=50)"
      ],
      "execution_count": 0,
      "outputs": [
        {
          "output_type": "stream",
          "text": [
            "Epoch 1/100\n",
            "100/100 [==============================] - 24s 242ms/step - loss: 0.3496 - acc: 0.8390 - val_loss: 0.1025 - val_acc: 0.9270\n",
            "Epoch 2/100\n",
            "100/100 [==============================] - 18s 180ms/step - loss: 0.3442 - acc: 0.8450 - val_loss: 0.2060 - val_acc: 0.9010\n",
            "Epoch 3/100\n",
            "100/100 [==============================] - 18s 181ms/step - loss: 0.3462 - acc: 0.8375 - val_loss: 0.0759 - val_acc: 0.9000\n",
            "Epoch 4/100\n",
            "100/100 [==============================] - 18s 179ms/step - loss: 0.3387 - acc: 0.8475 - val_loss: 0.4360 - val_acc: 0.9030\n",
            "Epoch 5/100\n",
            "100/100 [==============================] - 18s 179ms/step - loss: 0.3112 - acc: 0.8640 - val_loss: 0.6257 - val_acc: 0.8960\n",
            "Epoch 6/100\n",
            "100/100 [==============================] - 18s 181ms/step - loss: 0.3177 - acc: 0.8580 - val_loss: 0.2410 - val_acc: 0.8980\n",
            "Epoch 7/100\n",
            "100/100 [==============================] - 18s 179ms/step - loss: 0.3275 - acc: 0.8515 - val_loss: 0.2542 - val_acc: 0.8960\n",
            "Epoch 8/100\n",
            "100/100 [==============================] - 18s 178ms/step - loss: 0.3293 - acc: 0.8485 - val_loss: 0.2729 - val_acc: 0.8880\n",
            "Epoch 9/100\n",
            "100/100 [==============================] - 18s 179ms/step - loss: 0.3328 - acc: 0.8550 - val_loss: 0.4719 - val_acc: 0.9000\n",
            "Epoch 10/100\n",
            "100/100 [==============================] - 18s 183ms/step - loss: 0.3129 - acc: 0.8540 - val_loss: 0.2340 - val_acc: 0.8910\n",
            "Epoch 11/100\n",
            "100/100 [==============================] - 18s 180ms/step - loss: 0.3126 - acc: 0.8705 - val_loss: 0.2124 - val_acc: 0.8880\n",
            "Epoch 12/100\n",
            "100/100 [==============================] - 18s 179ms/step - loss: 0.3300 - acc: 0.8485 - val_loss: 0.1918 - val_acc: 0.8940\n",
            "Epoch 13/100\n",
            "100/100 [==============================] - 18s 179ms/step - loss: 0.2888 - acc: 0.8775 - val_loss: 0.0413 - val_acc: 0.8900\n",
            "Epoch 14/100\n",
            "100/100 [==============================] - 18s 180ms/step - loss: 0.2936 - acc: 0.8625 - val_loss: 0.1990 - val_acc: 0.8940\n",
            "Epoch 15/100\n",
            "100/100 [==============================] - 18s 182ms/step - loss: 0.3000 - acc: 0.8670 - val_loss: 0.1250 - val_acc: 0.9080\n",
            "Epoch 16/100\n",
            "100/100 [==============================] - 18s 179ms/step - loss: 0.3065 - acc: 0.8620 - val_loss: 0.1425 - val_acc: 0.9050\n",
            "Epoch 17/100\n",
            "100/100 [==============================] - 18s 178ms/step - loss: 0.2994 - acc: 0.8620 - val_loss: 0.3086 - val_acc: 0.9020\n",
            "Epoch 18/100\n",
            "100/100 [==============================] - 18s 180ms/step - loss: 0.3054 - acc: 0.8650 - val_loss: 0.2903 - val_acc: 0.9040\n",
            "Epoch 19/100\n",
            "100/100 [==============================] - 18s 179ms/step - loss: 0.3048 - acc: 0.8645 - val_loss: 0.2672 - val_acc: 0.9030\n",
            "Epoch 20/100\n",
            "100/100 [==============================] - 18s 179ms/step - loss: 0.2916 - acc: 0.8775 - val_loss: 0.1060 - val_acc: 0.8990\n",
            "Epoch 21/100\n",
            "100/100 [==============================] - 18s 178ms/step - loss: 0.2856 - acc: 0.8785 - val_loss: 0.1182 - val_acc: 0.8920\n",
            "Epoch 22/100\n",
            "100/100 [==============================] - 18s 178ms/step - loss: 0.3283 - acc: 0.8650 - val_loss: 0.1415 - val_acc: 0.9000\n",
            "Epoch 23/100\n",
            "100/100 [==============================] - 18s 178ms/step - loss: 0.3007 - acc: 0.8675 - val_loss: 0.3819 - val_acc: 0.9010\n",
            "Epoch 24/100\n",
            "100/100 [==============================] - 18s 180ms/step - loss: 0.2911 - acc: 0.8795 - val_loss: 0.3708 - val_acc: 0.9100\n",
            "Epoch 25/100\n",
            "100/100 [==============================] - 18s 178ms/step - loss: 0.3013 - acc: 0.8720 - val_loss: 0.4145 - val_acc: 0.9050\n",
            "Epoch 26/100\n",
            "100/100 [==============================] - 18s 178ms/step - loss: 0.2788 - acc: 0.8795 - val_loss: 0.3332 - val_acc: 0.9070\n",
            "Epoch 27/100\n",
            "100/100 [==============================] - 18s 181ms/step - loss: 0.3020 - acc: 0.8615 - val_loss: 0.2618 - val_acc: 0.9100\n",
            "Epoch 28/100\n",
            "100/100 [==============================] - 18s 179ms/step - loss: 0.2878 - acc: 0.8715 - val_loss: 0.1589 - val_acc: 0.9080\n",
            "Epoch 29/100\n",
            "100/100 [==============================] - 18s 179ms/step - loss: 0.3058 - acc: 0.8595 - val_loss: 0.3817 - val_acc: 0.8990\n",
            "Epoch 30/100\n",
            "100/100 [==============================] - 18s 178ms/step - loss: 0.3118 - acc: 0.8600 - val_loss: 0.0492 - val_acc: 0.9060\n",
            "Epoch 31/100\n",
            "100/100 [==============================] - 18s 178ms/step - loss: 0.2737 - acc: 0.8920 - val_loss: 0.0385 - val_acc: 0.9100\n",
            "Epoch 32/100\n",
            "100/100 [==============================] - 18s 180ms/step - loss: 0.2742 - acc: 0.8815 - val_loss: 0.1507 - val_acc: 0.9030\n",
            "Epoch 33/100\n",
            "100/100 [==============================] - 18s 181ms/step - loss: 0.2869 - acc: 0.8710 - val_loss: 0.0993 - val_acc: 0.9080\n",
            "Epoch 34/100\n",
            "100/100 [==============================] - 18s 179ms/step - loss: 0.2740 - acc: 0.8800 - val_loss: 0.2508 - val_acc: 0.9100\n",
            "Epoch 35/100\n",
            "100/100 [==============================] - 18s 177ms/step - loss: 0.2789 - acc: 0.8755 - val_loss: 0.3122 - val_acc: 0.9070\n",
            "Epoch 36/100\n",
            "100/100 [==============================] - 18s 181ms/step - loss: 0.2720 - acc: 0.8935 - val_loss: 0.1439 - val_acc: 0.9090\n",
            "Epoch 37/100\n",
            "100/100 [==============================] - 18s 180ms/step - loss: 0.2800 - acc: 0.8805 - val_loss: 0.0796 - val_acc: 0.9100\n",
            "Epoch 38/100\n",
            "100/100 [==============================] - 18s 178ms/step - loss: 0.2852 - acc: 0.8820 - val_loss: 0.1054 - val_acc: 0.9130\n",
            "Epoch 39/100\n",
            "100/100 [==============================] - 19s 185ms/step - loss: 0.2777 - acc: 0.8760 - val_loss: 0.1238 - val_acc: 0.9120\n",
            "Epoch 40/100\n",
            "100/100 [==============================] - 18s 178ms/step - loss: 0.2776 - acc: 0.8755 - val_loss: 0.2030 - val_acc: 0.9100\n",
            "Epoch 41/100\n",
            "100/100 [==============================] - 18s 178ms/step - loss: 0.2903 - acc: 0.8735 - val_loss: 0.2443 - val_acc: 0.9100\n",
            "Epoch 42/100\n",
            "100/100 [==============================] - 18s 180ms/step - loss: 0.2757 - acc: 0.8805 - val_loss: 0.1821 - val_acc: 0.9120\n",
            "Epoch 43/100\n",
            "100/100 [==============================] - 18s 180ms/step - loss: 0.2894 - acc: 0.8725 - val_loss: 0.1074 - val_acc: 0.9120\n",
            "Epoch 44/100\n",
            "100/100 [==============================] - 18s 180ms/step - loss: 0.2545 - acc: 0.8890 - val_loss: 0.0685 - val_acc: 0.9120\n",
            "Epoch 45/100\n",
            "100/100 [==============================] - 18s 181ms/step - loss: 0.2817 - acc: 0.8795 - val_loss: 0.2992 - val_acc: 0.9040\n",
            "Epoch 46/100\n",
            "100/100 [==============================] - 18s 182ms/step - loss: 0.2631 - acc: 0.8835 - val_loss: 0.1222 - val_acc: 0.9040\n",
            "Epoch 47/100\n",
            "100/100 [==============================] - 18s 180ms/step - loss: 0.2639 - acc: 0.8850 - val_loss: 0.1127 - val_acc: 0.9020\n",
            "Epoch 48/100\n",
            "100/100 [==============================] - 18s 179ms/step - loss: 0.2728 - acc: 0.8830 - val_loss: 0.2489 - val_acc: 0.9110\n",
            "Epoch 49/100\n",
            "100/100 [==============================] - 18s 180ms/step - loss: 0.2704 - acc: 0.8850 - val_loss: 0.3119 - val_acc: 0.9150\n",
            "Epoch 50/100\n",
            "100/100 [==============================] - 18s 179ms/step - loss: 0.2741 - acc: 0.8850 - val_loss: 0.0860 - val_acc: 0.9160\n",
            "Epoch 51/100\n",
            "100/100 [==============================] - 18s 181ms/step - loss: 0.2663 - acc: 0.8855 - val_loss: 0.0370 - val_acc: 0.9160\n",
            "Epoch 52/100\n",
            "100/100 [==============================] - 18s 179ms/step - loss: 0.2694 - acc: 0.8785 - val_loss: 0.3888 - val_acc: 0.9150\n",
            "Epoch 53/100\n",
            "100/100 [==============================] - 18s 179ms/step - loss: 0.2806 - acc: 0.8810 - val_loss: 0.1999 - val_acc: 0.9160\n",
            "Epoch 54/100\n",
            "100/100 [==============================] - 18s 179ms/step - loss: 0.2710 - acc: 0.8810 - val_loss: 0.0790 - val_acc: 0.9130\n",
            "Epoch 55/100\n",
            "100/100 [==============================] - 18s 181ms/step - loss: 0.2924 - acc: 0.8685 - val_loss: 0.1566 - val_acc: 0.9100\n",
            "Epoch 56/100\n",
            "100/100 [==============================] - 18s 179ms/step - loss: 0.2577 - acc: 0.8840 - val_loss: 0.2195 - val_acc: 0.9080\n",
            "Epoch 57/100\n",
            "100/100 [==============================] - 18s 180ms/step - loss: 0.2734 - acc: 0.8800 - val_loss: 0.3172 - val_acc: 0.9150\n",
            "Epoch 58/100\n",
            "100/100 [==============================] - 18s 179ms/step - loss: 0.2479 - acc: 0.8975 - val_loss: 0.3203 - val_acc: 0.9140\n",
            "Epoch 59/100\n",
            "100/100 [==============================] - 18s 178ms/step - loss: 0.2704 - acc: 0.8870 - val_loss: 0.0880 - val_acc: 0.9110\n",
            "Epoch 60/100\n",
            "100/100 [==============================] - 18s 180ms/step - loss: 0.2522 - acc: 0.8880 - val_loss: 0.0781 - val_acc: 0.9100\n",
            "Epoch 61/100\n",
            "100/100 [==============================] - 18s 180ms/step - loss: 0.2731 - acc: 0.8780 - val_loss: 0.0472 - val_acc: 0.9130\n",
            "Epoch 62/100\n",
            "100/100 [==============================] - 18s 182ms/step - loss: 0.2532 - acc: 0.8885 - val_loss: 0.5589 - val_acc: 0.9160\n",
            "Epoch 63/100\n",
            "100/100 [==============================] - 18s 179ms/step - loss: 0.2642 - acc: 0.8885 - val_loss: 0.1324 - val_acc: 0.9210\n",
            "Epoch 64/100\n",
            "100/100 [==============================] - 19s 189ms/step - loss: 0.2325 - acc: 0.8980 - val_loss: 0.3601 - val_acc: 0.9100\n",
            "Epoch 65/100\n",
            "100/100 [==============================] - 18s 181ms/step - loss: 0.2491 - acc: 0.8930 - val_loss: 0.4261 - val_acc: 0.9120\n",
            "Epoch 66/100\n",
            "100/100 [==============================] - 18s 181ms/step - loss: 0.2419 - acc: 0.9000 - val_loss: 0.3676 - val_acc: 0.9180\n",
            "Epoch 67/100\n",
            "100/100 [==============================] - 18s 179ms/step - loss: 0.2466 - acc: 0.8945 - val_loss: 0.4138 - val_acc: 0.9160\n",
            "Epoch 68/100\n",
            "100/100 [==============================] - 18s 179ms/step - loss: 0.2419 - acc: 0.8945 - val_loss: 0.3162 - val_acc: 0.9130\n",
            "Epoch 69/100\n",
            "100/100 [==============================] - 18s 182ms/step - loss: 0.2470 - acc: 0.8910 - val_loss: 0.1878 - val_acc: 0.9170\n",
            "Epoch 70/100\n",
            "100/100 [==============================] - 18s 179ms/step - loss: 0.2388 - acc: 0.8990 - val_loss: 0.1019 - val_acc: 0.9230\n",
            "Epoch 71/100\n",
            "100/100 [==============================] - 18s 179ms/step - loss: 0.2321 - acc: 0.9015 - val_loss: 0.2254 - val_acc: 0.9170\n",
            "Epoch 72/100\n",
            "100/100 [==============================] - 18s 179ms/step - loss: 0.2613 - acc: 0.8795 - val_loss: 0.1500 - val_acc: 0.9170\n",
            "Epoch 73/100\n",
            "100/100 [==============================] - 18s 182ms/step - loss: 0.2656 - acc: 0.8905 - val_loss: 0.1095 - val_acc: 0.9100\n",
            "Epoch 74/100\n",
            "100/100 [==============================] - 18s 179ms/step - loss: 0.2520 - acc: 0.8940 - val_loss: 0.1484 - val_acc: 0.9180\n",
            "Epoch 75/100\n",
            "100/100 [==============================] - 18s 178ms/step - loss: 0.2461 - acc: 0.8900 - val_loss: 0.4441 - val_acc: 0.9200\n",
            "Epoch 76/100\n",
            "100/100 [==============================] - 18s 180ms/step - loss: 0.2367 - acc: 0.8955 - val_loss: 0.1775 - val_acc: 0.9220\n",
            "Epoch 77/100\n",
            "100/100 [==============================] - 18s 179ms/step - loss: 0.2310 - acc: 0.8980 - val_loss: 0.3275 - val_acc: 0.9210\n",
            "Epoch 78/100\n",
            "100/100 [==============================] - 18s 180ms/step - loss: 0.2461 - acc: 0.8945 - val_loss: 0.2548 - val_acc: 0.9260\n",
            "Epoch 79/100\n",
            "100/100 [==============================] - 18s 182ms/step - loss: 0.2609 - acc: 0.8900 - val_loss: 0.0407 - val_acc: 0.9240\n",
            "Epoch 80/100\n",
            "100/100 [==============================] - 18s 179ms/step - loss: 0.2543 - acc: 0.8945 - val_loss: 0.0788 - val_acc: 0.9170\n",
            "Epoch 81/100\n",
            "100/100 [==============================] - 18s 179ms/step - loss: 0.2604 - acc: 0.8990 - val_loss: 0.2264 - val_acc: 0.9220\n",
            "Epoch 82/100\n",
            "100/100 [==============================] - 18s 180ms/step - loss: 0.2418 - acc: 0.8935 - val_loss: 0.2399 - val_acc: 0.9180\n",
            "Epoch 83/100\n",
            "100/100 [==============================] - 18s 182ms/step - loss: 0.2442 - acc: 0.8950 - val_loss: 0.1026 - val_acc: 0.9190\n",
            "Epoch 84/100\n",
            "100/100 [==============================] - 18s 178ms/step - loss: 0.2390 - acc: 0.8930 - val_loss: 0.1468 - val_acc: 0.9120\n",
            "Epoch 85/100\n",
            "100/100 [==============================] - 18s 179ms/step - loss: 0.2355 - acc: 0.9005 - val_loss: 0.1978 - val_acc: 0.9140\n",
            "Epoch 86/100\n",
            "100/100 [==============================] - 18s 179ms/step - loss: 0.2361 - acc: 0.8980 - val_loss: 0.0924 - val_acc: 0.9110\n",
            "Epoch 87/100\n",
            "100/100 [==============================] - 18s 180ms/step - loss: 0.2516 - acc: 0.8930 - val_loss: 0.2244 - val_acc: 0.9160\n",
            "Epoch 88/100\n",
            "100/100 [==============================] - 18s 178ms/step - loss: 0.2323 - acc: 0.8980 - val_loss: 0.2490 - val_acc: 0.9170\n",
            "Epoch 89/100\n",
            "100/100 [==============================] - 18s 178ms/step - loss: 0.2489 - acc: 0.8890 - val_loss: 0.1224 - val_acc: 0.9150\n",
            "Epoch 90/100\n",
            "100/100 [==============================] - 18s 178ms/step - loss: 0.2353 - acc: 0.9020 - val_loss: 0.4629 - val_acc: 0.9140\n",
            "Epoch 91/100\n",
            "100/100 [==============================] - 18s 180ms/step - loss: 0.2313 - acc: 0.8920 - val_loss: 0.4335 - val_acc: 0.9170\n",
            "Epoch 92/100\n",
            "100/100 [==============================] - 18s 177ms/step - loss: 0.2485 - acc: 0.9065 - val_loss: 0.0424 - val_acc: 0.9190\n",
            "Epoch 93/100\n",
            "100/100 [==============================] - 18s 179ms/step - loss: 0.2401 - acc: 0.8980 - val_loss: 0.1850 - val_acc: 0.9170\n",
            "Epoch 94/100\n",
            "100/100 [==============================] - 18s 179ms/step - loss: 0.2493 - acc: 0.8920 - val_loss: 0.2168 - val_acc: 0.9150\n",
            "Epoch 95/100\n",
            "100/100 [==============================] - 18s 180ms/step - loss: 0.2434 - acc: 0.8950 - val_loss: 0.0964 - val_acc: 0.9100\n",
            "Epoch 96/100\n",
            "100/100 [==============================] - 18s 181ms/step - loss: 0.2488 - acc: 0.8970 - val_loss: 0.1041 - val_acc: 0.9160\n",
            "Epoch 97/100\n",
            "100/100 [==============================] - 19s 193ms/step - loss: 0.2189 - acc: 0.9035 - val_loss: 0.5213 - val_acc: 0.9130\n",
            "Epoch 98/100\n",
            "100/100 [==============================] - 18s 180ms/step - loss: 0.2234 - acc: 0.9085 - val_loss: 0.0409 - val_acc: 0.9160\n",
            "Epoch 99/100\n",
            "100/100 [==============================] - 19s 192ms/step - loss: 0.2260 - acc: 0.9065 - val_loss: 0.1134 - val_acc: 0.9140\n",
            "Epoch 100/100\n",
            "100/100 [==============================] - 18s 183ms/step - loss: 0.2456 - acc: 0.9015 - val_loss: 0.5472 - val_acc: 0.9190\n"
          ],
          "name": "stdout"
        }
      ]
    },
    {
      "cell_type": "markdown",
      "metadata": {
        "id": "eVBQgh5M-Rtz",
        "colab_type": "text"
      },
      "source": [
        "## Display learning curves during fine-tuning"
      ]
    },
    {
      "cell_type": "code",
      "metadata": {
        "id": "mbkIw7Ie-NP4",
        "colab_type": "code",
        "outputId": "17cdba0b-ea8c-41e8-c33b-4f728d12e5a7",
        "colab": {
          "base_uri": "https://localhost:8080/",
          "height": 545
        }
      },
      "source": [
        "%matplotlib inline\n",
        "\n",
        "import matplotlib.pyplot as plt\n",
        "\n",
        "acc = history.history['acc']\n",
        "val_acc = history.history['val_acc']\n",
        "\n",
        "loss = history.history['loss']\n",
        "val_loss = history.history['val_loss']\n",
        "\n",
        "epochs = range(1, len(acc) + 1)\n",
        "\n",
        "# training and validation accuracy\n",
        "\n",
        "plt.plot(epochs, acc, 'bo', label='training acc')\n",
        "plt.plot(epochs, val_acc, 'b', label='validation acc')\n",
        "plt.title('training and validation accuracy')\n",
        "plt.legend()\n",
        "\n",
        "plt.figure()\n",
        "\n",
        "# training and validation loss\n",
        "\n",
        "plt.plot(epochs, loss, 'bo', label='training loss')\n",
        "plt.plot(epochs, val_loss, 'b', label='validation loss')\n",
        "plt.title('training and validation loss')\n",
        "plt.legend()\n",
        "\n",
        "plt.show()"
      ],
      "execution_count": 0,
      "outputs": [
        {
          "output_type": "display_data",
          "data": {
            "image/png": "[encoded data removed]",
            "text/plain": [
              "<Figure size 432x288 with 1 Axes>"
            ]
          },
          "metadata": {
            "tags": [],
            "needs_background": "light"
          }
        },
        {
          "output_type": "display_data",
          "data": {
            "image/png": "[encoded data removed]",
            "text/plain": [
              "<Figure size 432x288 with 1 Axes>"
            ]
          },
          "metadata": {
            "tags": [],
            "needs_background": "light"
          }
        }
      ]
    },
    {
      "cell_type": "markdown",
      "metadata": {
        "id": "obQi6N4ZShdi",
        "colab_type": "text"
      },
      "source": [
        "This looks like underfitting. In the next notebook, I will aim to improve accuracy by making the classifier more complex."
      ]
    },
    {
      "cell_type": "markdown",
      "metadata": {
        "id": "he3Nw6TOJwjx",
        "colab_type": "text"
      },
      "source": [
        "## Print out validation loss and accuracy"
      ]
    },
    {
      "cell_type": "code",
      "metadata": {
        "id": "SVQtrk7uJdhl",
        "colab_type": "code",
        "colab": {}
      },
      "source": [
        "val_loss, val_acc = model.evaluate_generator(validation_generator, steps=50)"
      ],
      "execution_count": 0,
      "outputs": []
    },
    {
      "cell_type": "code",
      "metadata": {
        "id": "HpdddLi1SUMe",
        "colab_type": "code",
        "outputId": "6de721b0-ef1a-46a6-d00c-90841b9b19c8",
        "colab": {
          "base_uri": "https://localhost:8080/",
          "height": 51
        }
      },
      "source": [
        "print(\"Validation loss:\", val_loss)\n",
        "print(\"Validation accuracy:\", val_acc)"
      ],
      "execution_count": 0,
      "outputs": [
        {
          "output_type": "stream",
          "text": [
            "Validation loss: 0.16161218285560608\n",
            "Validation accuracy: 0.9190000295639038\n"
          ],
          "name": "stdout"
        }
      ]
    },
    {
      "cell_type": "markdown",
      "metadata": {
        "id": "7Ww756WToby8",
        "colab_type": "text"
      },
      "source": [
        "## Save the model"
      ]
    },
    {
      "cell_type": "code",
      "metadata": {
        "id": "0lTUpUdwobKW",
        "colab_type": "code",
        "colab": {}
      },
      "source": [
        "model_fname = 'cats_and_dogs_small_4.h5' \n",
        "model.save(model_fname)"
      ],
      "execution_count": 0,
      "outputs": []
    }
  ]
}