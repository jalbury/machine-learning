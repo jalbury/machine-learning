{
  "nbformat": 4,
  "nbformat_minor": 0,
  "metadata": {
    "colab": {
      "name": "HW4_Problem3a_John_Albury.ipynb",
      "provenance": [],
      "include_colab_link": true
    },
    "kernelspec": {
      "name": "python3",
      "display_name": "Python 3"
    },
    "accelerator": "GPU"
  },
  "cells": [
    {
      "cell_type": "markdown",
      "metadata": {
        "id": "view-in-github",
        "colab_type": "text"
      },
      "source": [
        "<a href=\"https://colab.research.google.com/github/jalbury/machine-learning/blob/master/HW_4/HW4_Problem3a_John_Albury.ipynb\" target=\"_parent\"><img src=\"https://colab.research.google.com/assets/colab-badge.svg\" alt=\"Open In Colab\"/></a>"
      ]
    },
    {
      "cell_type": "markdown",
      "metadata": {
        "id": "JoHqzW0Y5LsM",
        "colab_type": "text"
      },
      "source": [
        "# Description of changes"
      ]
    },
    {
      "cell_type": "markdown",
      "metadata": {
        "id": "daNZpCVO5Pps",
        "colab_type": "text"
      },
      "source": [
        "This is the first of two notebooks that will modify Dr. Wocjan's code to use a different convolution base for feature extraction. Specifically, I changed the convolutional base of the model from [VGG16](https://keras.io/applications/#vgg16) to [InceptionV3](https://keras.io/applications/#inceptionv3)\n",
        "\n",
        "For this first notebook, I used a classifier with two `Dense` layers: one with 256 neurons and one with 128 neurons. The results were a validation loss of 0.32 and a validation accuracy of 0.89. In the next notebook, I will attempt to improve on these results."
      ]
    },
    {
      "cell_type": "markdown",
      "metadata": {
        "id": "KSrgMJ5vKFzQ",
        "colab_type": "text"
      },
      "source": [
        "# Fine-tuning VGG16 "
      ]
    },
    {
      "cell_type": "markdown",
      "metadata": {
        "id": "TIW7bZaAK-Hf",
        "colab_type": "text"
      },
      "source": [
        "This is based on section 5.3 *Using a pretrained convnet* of the book *Deep learning with Python* by Francois Chollet. I have made several changes to the code. I use the data that is already provided by Google. I don't download the data from Kaggle as in the deep learning book."
      ]
    },
    {
      "cell_type": "markdown",
      "metadata": {
        "id": "nsBq__dVo2pj",
        "colab_type": "text"
      },
      "source": [
        "## Feature extraction"
      ]
    },
    {
      "cell_type": "markdown",
      "metadata": {
        "id": "0g6ETAM9o54M",
        "colab_type": "text"
      },
      "source": [
        "Feature extraction consists of using the representations learned by a previous network to extract interesting features from new samples. These features are then run through a new classifier, which is trained from scratch.\n",
        "\n",
        "We will use here the convolutional base of the InceptionV3 model to extract the features. We will feed these features to a densely connected classifier with dropout. We will fine-tune some layers."
      ]
    },
    {
      "cell_type": "markdown",
      "metadata": {
        "id": "BqIG8QHMLNOn",
        "colab_type": "text"
      },
      "source": [
        "## Download the data"
      ]
    },
    {
      "cell_type": "markdown",
      "metadata": {
        "id": "t3I1jd7cKV6_",
        "colab_type": "text"
      },
      "source": [
        "Download the example data, a zip. of 2,000 JPG pictures of cats and dogs and extract it locally in ```/tmp```.\n",
        "\n"
      ]
    },
    {
      "cell_type": "code",
      "metadata": {
        "id": "JWjprHEXJ5Qi",
        "colab_type": "code",
        "outputId": "8e77ebbb-5b4f-4570-ce14-bc020afce393",
        "colab": {
          "base_uri": "https://localhost:8080/",
          "height": 204
        }
      },
      "source": [
        "!wget --no-check-certificate \\\n",
        "    https://storage.googleapis.com/mledu-datasets/cats_and_dogs_filtered.zip \\\n",
        "    -O /tmp/cats_and_dogs_filtered.zip"
      ],
      "execution_count": 3,
      "outputs": [
        {
          "output_type": "stream",
          "text": [
            "--2020-04-18 17:49:10--  https://storage.googleapis.com/mledu-datasets/cats_and_dogs_filtered.zip\n",
            "Resolving storage.googleapis.com (storage.googleapis.com)... 173.194.79.128, 2a00:1450:4013:c04::80\n",
            "Connecting to storage.googleapis.com (storage.googleapis.com)|173.194.79.128|:443... connected.\n",
            "HTTP request sent, awaiting response... 200 OK\n",
            "Length: 68606236 (65M) [application/zip]\n",
            "Saving to: ‘/tmp/cats_and_dogs_filtered.zip’\n",
            "\n",
            "\r          /tmp/cats   0%[                    ]       0  --.-KB/s               \r         /tmp/cats_  28%[====>               ]  18.65M  93.2MB/s               \r        /tmp/cats_a  90%[=================>  ]  59.41M   149MB/s               \r/tmp/cats_and_dogs_ 100%[===================>]  65.43M   159MB/s    in 0.4s    \n",
            "\n",
            "2020-04-18 17:49:10 (159 MB/s) - ‘/tmp/cats_and_dogs_filtered.zip’ saved [68606236/68606236]\n",
            "\n"
          ],
          "name": "stdout"
        }
      ]
    },
    {
      "cell_type": "code",
      "metadata": {
        "id": "WvoHtdA-K6Rw",
        "colab_type": "code",
        "colab": {}
      },
      "source": [
        "import os\n",
        "import zipfile\n",
        "\n",
        "local_zip = '/tmp/cats_and_dogs_filtered.zip'\n",
        "zip_ref = zipfile.ZipFile(local_zip, 'r')\n",
        "zip_ref.extractall('/tmp')\n",
        "zip_ref.close()"
      ],
      "execution_count": 0,
      "outputs": []
    },
    {
      "cell_type": "markdown",
      "metadata": {
        "id": "shZiOBnJMyy_",
        "colab_type": "text"
      },
      "source": [
        "Note that the data provided by Google does not have a test set."
      ]
    },
    {
      "cell_type": "code",
      "metadata": {
        "id": "dL8ikM89LlsH",
        "colab_type": "code",
        "colab": {}
      },
      "source": [
        "base_dir = '/tmp/cats_and_dogs_filtered'\n",
        "train_dir = os.path.join(base_dir, 'train')\n",
        "validation_dir = os.path.join(base_dir, 'validation')\n",
        "\n",
        "# Directory with our training cat pictures\n",
        "train_cats_dir = os.path.join(train_dir, 'cats')\n",
        "\n",
        "# Directory with our training dog pictures\n",
        "train_dogs_dir = os.path.join(train_dir, 'dogs')\n",
        "\n",
        "# Directory with our validation cat pictures\n",
        "validation_cats_dir = os.path.join(validation_dir, 'cats')\n",
        "\n",
        "# Directory with our validation dog pictures\n",
        "validation_dogs_dir = os.path.join(validation_dir, 'dogs')"
      ],
      "execution_count": 0,
      "outputs": []
    },
    {
      "cell_type": "markdown",
      "metadata": {
        "id": "inyP8bcdXnn-",
        "colab_type": "text"
      },
      "source": [
        "## Build network with InceptionV3 convolution base and custom densely connected layers"
      ]
    },
    {
      "cell_type": "markdown",
      "metadata": {
        "id": "kQ48W5T9rHWu",
        "colab_type": "text"
      },
      "source": [
        "### Load the convolutional base"
      ]
    },
    {
      "cell_type": "code",
      "metadata": {
        "id": "Y0FgtANCXm_H",
        "colab_type": "code",
        "colab": {
          "base_uri": "https://localhost:8080/",
          "height": 68
        },
        "outputId": "32e344ba-ac1c-4f9e-ac62-61e2585f1a0d"
      },
      "source": [
        "from keras.applications import InceptionV3\n",
        "\n",
        "conv_base = InceptionV3(\n",
        "    weights='imagenet', \n",
        "    include_top=False, \n",
        "    input_shape=(150, 150, 3))"
      ],
      "execution_count": 6,
      "outputs": [
        {
          "output_type": "stream",
          "text": [
            "Using TensorFlow backend.\n"
          ],
          "name": "stderr"
        },
        {
          "output_type": "stream",
          "text": [
            "Downloading data from https://github.com/fchollet/deep-learning-models/releases/download/v0.5/inception_v3_weights_tf_dim_ordering_tf_kernels_notop.h5\n",
            "87916544/87910968 [==============================] - 3s 0us/step\n"
          ],
          "name": "stdout"
        }
      ]
    },
    {
      "cell_type": "markdown",
      "metadata": {
        "id": "D6OBHOO9q1ou",
        "colab_type": "text"
      },
      "source": [
        "### Freeze the convolutional base"
      ]
    },
    {
      "cell_type": "code",
      "metadata": {
        "id": "UleRo4Dpq6Ld",
        "colab_type": "code",
        "colab": {}
      },
      "source": [
        "conv_base.trainable = False"
      ],
      "execution_count": 0,
      "outputs": []
    },
    {
      "cell_type": "markdown",
      "metadata": {
        "id": "Qfx6PqhPrb7Q",
        "colab_type": "text"
      },
      "source": [
        "### Concatenate the convolutional base and densely connected layers"
      ]
    },
    {
      "cell_type": "code",
      "metadata": {
        "id": "qUpmocDAO3xm",
        "colab_type": "code",
        "colab": {}
      },
      "source": [
        "from keras import layers\n",
        "from keras import models\n",
        "from keras import optimizers\n",
        "\n",
        "model = models.Sequential()\n",
        "model.add(conv_base)\n",
        "model.add(layers.Flatten())\n",
        "model.add(layers.Dense(256, activation='relu'))\n",
        "model.add(layers.Dense(128, activation='relu'))\n",
        "model.add(layers.Dense(1, activation='sigmoid'))"
      ],
      "execution_count": 0,
      "outputs": []
    },
    {
      "cell_type": "code",
      "metadata": {
        "id": "Fh6gZSeAjF7c",
        "colab_type": "code",
        "outputId": "9954f59f-fa12-4897-b28f-e0a645c23dce",
        "colab": {
          "base_uri": "https://localhost:8080/",
          "height": 323
        }
      },
      "source": [
        "model.summary()"
      ],
      "execution_count": 9,
      "outputs": [
        {
          "output_type": "stream",
          "text": [
            "Model: \"sequential_1\"\n",
            "_________________________________________________________________\n",
            "Layer (type)                 Output Shape              Param #   \n",
            "=================================================================\n",
            "inception_v3 (Model)         (None, 3, 3, 2048)        21802784  \n",
            "_________________________________________________________________\n",
            "flatten_1 (Flatten)          (None, 18432)             0         \n",
            "_________________________________________________________________\n",
            "dense_1 (Dense)              (None, 256)               4718848   \n",
            "_________________________________________________________________\n",
            "dense_2 (Dense)              (None, 128)               32896     \n",
            "_________________________________________________________________\n",
            "dense_3 (Dense)              (None, 1)                 129       \n",
            "=================================================================\n",
            "Total params: 26,554,657\n",
            "Trainable params: 4,751,873\n",
            "Non-trainable params: 21,802,784\n",
            "_________________________________________________________________\n"
          ],
          "name": "stdout"
        }
      ]
    },
    {
      "cell_type": "markdown",
      "metadata": {
        "id": "eZjBiddhi5Qj",
        "colab_type": "text"
      },
      "source": [
        "## Train the model end to end with frozen convolutional base"
      ]
    },
    {
      "cell_type": "code",
      "metadata": {
        "id": "tfAQlC2Oi41L",
        "colab_type": "code",
        "outputId": "cf379a18-5b8a-42b5-9d2e-6f3840cecb03",
        "colab": {
          "base_uri": "https://localhost:8080/",
          "height": 1000
        }
      },
      "source": [
        "from keras.preprocessing.image import ImageDataGenerator\n",
        "from keras import optimizers\n",
        "\n",
        "# data augmentation\n",
        "\n",
        "train_datagen = ImageDataGenerator(\n",
        "    rescale=1./255, \n",
        "    rotation_range=40,\n",
        "    width_shift_range=0.2,\n",
        "    height_shift_range=0.2,\n",
        "    shear_range=0.2,\n",
        "    zoom_range=0.2,\n",
        "    horizontal_flip=True,\n",
        "    fill_mode='nearest'\n",
        ")\n",
        "\n",
        "train_generator = train_datagen.flow_from_directory(\n",
        "    train_dir,\n",
        "    target_size=(150, 150),\n",
        "    batch_size=20,\n",
        "    class_mode='binary')\n",
        "\n",
        "validation_datagen = ImageDataGenerator(rescale=1./255)\n",
        "\n",
        "validation_generator = validation_datagen.flow_from_directory(\n",
        "    validation_dir,\n",
        "    target_size=(150, 150),\n",
        "    batch_size=20,\n",
        "    class_mode='binary')\n",
        "\n",
        "# compile model\n",
        "\n",
        "model.compile(\n",
        "    loss='binary_crossentropy', \n",
        "    optimizer=optimizers.RMSprop(lr=2e-5), \n",
        "    metrics=['acc'])\n",
        "\n",
        "# train\n",
        "\n",
        "history = model.fit_generator(\n",
        "    train_generator,\n",
        "    steps_per_epoch=100,\n",
        "    epochs=30,\n",
        "    validation_data=validation_generator,\n",
        "    validation_steps=50\n",
        ")"
      ],
      "execution_count": 10,
      "outputs": [
        {
          "output_type": "stream",
          "text": [
            "Found 2000 images belonging to 2 classes.\n",
            "Found 1000 images belonging to 2 classes.\n",
            "Epoch 1/30\n",
            "100/100 [==============================] - 29s 286ms/step - loss: 0.5925 - acc: 0.6580 - val_loss: 0.2760 - val_acc: 0.9150\n",
            "Epoch 2/30\n",
            "100/100 [==============================] - 17s 174ms/step - loss: 0.5047 - acc: 0.7480 - val_loss: 0.0445 - val_acc: 0.9290\n",
            "Epoch 3/30\n",
            "100/100 [==============================] - 17s 175ms/step - loss: 0.4613 - acc: 0.7795 - val_loss: 0.0080 - val_acc: 0.9460\n",
            "Epoch 4/30\n",
            "100/100 [==============================] - 18s 176ms/step - loss: 0.4449 - acc: 0.7845 - val_loss: 0.1890 - val_acc: 0.9450\n",
            "Epoch 5/30\n",
            "100/100 [==============================] - 18s 175ms/step - loss: 0.4353 - acc: 0.8025 - val_loss: 0.5954 - val_acc: 0.8960\n",
            "Epoch 6/30\n",
            "100/100 [==============================] - 17s 175ms/step - loss: 0.4377 - acc: 0.7985 - val_loss: 0.1824 - val_acc: 0.9430\n",
            "Epoch 7/30\n",
            "100/100 [==============================] - 17s 174ms/step - loss: 0.4034 - acc: 0.8150 - val_loss: 0.9854 - val_acc: 0.9200\n",
            "Epoch 8/30\n",
            "100/100 [==============================] - 18s 177ms/step - loss: 0.4218 - acc: 0.8140 - val_loss: 0.1867 - val_acc: 0.9450\n",
            "Epoch 9/30\n",
            "100/100 [==============================] - 18s 176ms/step - loss: 0.3985 - acc: 0.8230 - val_loss: 0.0556 - val_acc: 0.9340\n",
            "Epoch 10/30\n",
            "100/100 [==============================] - 17s 175ms/step - loss: 0.3977 - acc: 0.8110 - val_loss: 0.0642 - val_acc: 0.9390\n",
            "Epoch 11/30\n",
            "100/100 [==============================] - 18s 175ms/step - loss: 0.3841 - acc: 0.8255 - val_loss: 0.3265 - val_acc: 0.9350\n",
            "Epoch 12/30\n",
            "100/100 [==============================] - 18s 176ms/step - loss: 0.4010 - acc: 0.8180 - val_loss: 0.5609 - val_acc: 0.9420\n",
            "Epoch 13/30\n",
            "100/100 [==============================] - 18s 177ms/step - loss: 0.3839 - acc: 0.8245 - val_loss: 7.9979e-05 - val_acc: 0.9220\n",
            "Epoch 14/30\n",
            "100/100 [==============================] - 17s 174ms/step - loss: 0.3729 - acc: 0.8240 - val_loss: 0.1401 - val_acc: 0.9450\n",
            "Epoch 15/30\n",
            "100/100 [==============================] - 18s 176ms/step - loss: 0.3670 - acc: 0.8300 - val_loss: 0.0050 - val_acc: 0.9480\n",
            "Epoch 16/30\n",
            "100/100 [==============================] - 18s 175ms/step - loss: 0.3678 - acc: 0.8330 - val_loss: 0.2134 - val_acc: 0.9520\n",
            "Epoch 17/30\n",
            "100/100 [==============================] - 18s 177ms/step - loss: 0.3790 - acc: 0.8215 - val_loss: 0.1954 - val_acc: 0.9510\n",
            "Epoch 18/30\n",
            "100/100 [==============================] - 18s 176ms/step - loss: 0.3788 - acc: 0.8280 - val_loss: 6.1521e-05 - val_acc: 0.9550\n",
            "Epoch 19/30\n",
            "100/100 [==============================] - 18s 178ms/step - loss: 0.3665 - acc: 0.8235 - val_loss: 0.1925 - val_acc: 0.9310\n",
            "Epoch 20/30\n",
            "100/100 [==============================] - 18s 176ms/step - loss: 0.3747 - acc: 0.8370 - val_loss: 0.0905 - val_acc: 0.9510\n",
            "Epoch 21/30\n",
            "100/100 [==============================] - 18s 176ms/step - loss: 0.3790 - acc: 0.8200 - val_loss: 0.0401 - val_acc: 0.9480\n",
            "Epoch 22/30\n",
            "100/100 [==============================] - 18s 177ms/step - loss: 0.3584 - acc: 0.8345 - val_loss: 0.3543 - val_acc: 0.9410\n",
            "Epoch 23/30\n",
            "100/100 [==============================] - 18s 176ms/step - loss: 0.3748 - acc: 0.8265 - val_loss: 0.0440 - val_acc: 0.9490\n",
            "Epoch 24/30\n",
            "100/100 [==============================] - 17s 175ms/step - loss: 0.3801 - acc: 0.8350 - val_loss: 0.0430 - val_acc: 0.9470\n",
            "Epoch 25/30\n",
            "100/100 [==============================] - 17s 175ms/step - loss: 0.3527 - acc: 0.8315 - val_loss: 2.8657e-05 - val_acc: 0.9420\n",
            "Epoch 26/30\n",
            "100/100 [==============================] - 18s 177ms/step - loss: 0.3619 - acc: 0.8370 - val_loss: 0.1878 - val_acc: 0.9500\n",
            "Epoch 27/30\n",
            "100/100 [==============================] - 18s 176ms/step - loss: 0.3511 - acc: 0.8405 - val_loss: 0.3044 - val_acc: 0.9540\n",
            "Epoch 28/30\n",
            "100/100 [==============================] - 18s 175ms/step - loss: 0.3528 - acc: 0.8480 - val_loss: 7.2162e-05 - val_acc: 0.9150\n",
            "Epoch 29/30\n",
            "100/100 [==============================] - 18s 176ms/step - loss: 0.3484 - acc: 0.8375 - val_loss: 0.0108 - val_acc: 0.9520\n",
            "Epoch 30/30\n",
            "100/100 [==============================] - 18s 178ms/step - loss: 0.3612 - acc: 0.8345 - val_loss: 0.7402 - val_acc: 0.9450\n"
          ],
          "name": "stdout"
        }
      ]
    },
    {
      "cell_type": "markdown",
      "metadata": {
        "id": "xqRc_vHKc92U",
        "colab_type": "text"
      },
      "source": [
        "## Display curves of loss and accuracy during training"
      ]
    },
    {
      "cell_type": "code",
      "metadata": {
        "id": "ybWwdzz9bwuQ",
        "colab_type": "code",
        "outputId": "104cef51-64d1-4330-b676-eddb6d53c8f2",
        "colab": {
          "base_uri": "https://localhost:8080/",
          "height": 545
        }
      },
      "source": [
        "%matplotlib inline\n",
        "\n",
        "import matplotlib.pyplot as plt\n",
        "\n",
        "acc = history.history['acc']\n",
        "val_acc = history.history['val_acc']\n",
        "\n",
        "loss = history.history['loss']\n",
        "val_loss = history.history['val_loss']\n",
        "\n",
        "epochs = range(1, len(acc) + 1)\n",
        "\n",
        "# training and validation accuracy\n",
        "\n",
        "plt.plot(epochs, acc, 'bo', label='training acc')\n",
        "plt.plot(epochs, val_acc, 'b', label='validation acc')\n",
        "plt.title('training and validation accuracy')\n",
        "plt.legend()\n",
        "\n",
        "plt.figure()\n",
        "\n",
        "# training and validation loss\n",
        "\n",
        "plt.plot(epochs, loss, 'bo', label='training loss')\n",
        "plt.plot(epochs, val_loss, 'b', label='validation loss')\n",
        "plt.title('training and validation loss')\n",
        "plt.legend()\n",
        "\n",
        "plt.show()"
      ],
      "execution_count": 11,
      "outputs": [
        {
          "output_type": "display_data",
          "data": {
            "image/png": "[encoded data removed]",
            "text/plain": [
              "<Figure size 432x288 with 1 Axes>"
            ]
          },
          "metadata": {
            "tags": [],
            "needs_background": "light"
          }
        },
        {
          "output_type": "display_data",
          "data": {
            "image/png": "[encoded data removed]",
            "text/plain": [
              "<Figure size 432x288 with 1 Axes>"
            ]
          },
          "metadata": {
            "tags": [],
            "needs_background": "light"
          }
        }
      ]
    },
    {
      "cell_type": "markdown",
      "metadata": {
        "id": "lOWsxpey8lN0",
        "colab_type": "text"
      },
      "source": [
        "## Fine-tuning"
      ]
    },
    {
      "cell_type": "code",
      "metadata": {
        "id": "PwkVMx8N8qMw",
        "colab_type": "code",
        "colab": {}
      },
      "source": [
        "conv_base.trainable = True\n",
        "\n",
        "set_trainable = False\n",
        "for layer in conv_base.layers:\n",
        "  if layer.name == 'conv2d_188':\n",
        "    set_trainable = True\n",
        "  if set_trainable:\n",
        "    layer.trainable = True\n",
        "  else:\n",
        "    layer.trainable = False"
      ],
      "execution_count": 0,
      "outputs": []
    },
    {
      "cell_type": "code",
      "metadata": {
        "id": "DyN-J7rs9cvo",
        "colab_type": "code",
        "outputId": "5399468b-7811-43ce-c789-b206aafc8aba",
        "colab": {
          "base_uri": "https://localhost:8080/",
          "height": 1000
        }
      },
      "source": [
        "# compile model\n",
        "\n",
        "model.compile(\n",
        "    loss='binary_crossentropy',\n",
        "    #\n",
        "    # choose a smaller learning rate\n",
        "    #\n",
        "    optimizer=optimizers.RMSprop(lr=1e-5), \n",
        "    metrics=['acc'])\n",
        "\n",
        "# train\n",
        "\n",
        "history = model.fit_generator(\n",
        "    train_generator,\n",
        "    steps_per_epoch=100,\n",
        "    epochs=100,\n",
        "    validation_data=validation_generator,\n",
        "    validation_steps=50)"
      ],
      "execution_count": 13,
      "outputs": [
        {
          "output_type": "stream",
          "text": [
            "Epoch 1/100\n",
            "100/100 [==============================] - 24s 242ms/step - loss: 0.3577 - acc: 0.8360 - val_loss: 0.1070 - val_acc: 0.9280\n",
            "Epoch 2/100\n",
            "100/100 [==============================] - 18s 185ms/step - loss: 0.3235 - acc: 0.8545 - val_loss: 0.3288 - val_acc: 0.8970\n",
            "Epoch 3/100\n",
            "100/100 [==============================] - 19s 186ms/step - loss: 0.3455 - acc: 0.8445 - val_loss: 0.3502 - val_acc: 0.8830\n",
            "Epoch 4/100\n",
            "100/100 [==============================] - 19s 188ms/step - loss: 0.3351 - acc: 0.8460 - val_loss: 0.1181 - val_acc: 0.8790\n",
            "Epoch 5/100\n",
            "100/100 [==============================] - 19s 186ms/step - loss: 0.3348 - acc: 0.8485 - val_loss: 0.2316 - val_acc: 0.8940\n",
            "Epoch 6/100\n",
            "100/100 [==============================] - 19s 186ms/step - loss: 0.3435 - acc: 0.8345 - val_loss: 0.1112 - val_acc: 0.8860\n",
            "Epoch 7/100\n",
            "100/100 [==============================] - 19s 186ms/step - loss: 0.3251 - acc: 0.8530 - val_loss: 0.4032 - val_acc: 0.8870\n",
            "Epoch 8/100\n",
            "100/100 [==============================] - 19s 186ms/step - loss: 0.3342 - acc: 0.8430 - val_loss: 0.1189 - val_acc: 0.8750\n",
            "Epoch 9/100\n",
            "100/100 [==============================] - 18s 184ms/step - loss: 0.3385 - acc: 0.8510 - val_loss: 0.3719 - val_acc: 0.8900\n",
            "Epoch 10/100\n",
            "100/100 [==============================] - 18s 184ms/step - loss: 0.3127 - acc: 0.8635 - val_loss: 0.3027 - val_acc: 0.8820\n",
            "Epoch 11/100\n",
            "100/100 [==============================] - 18s 184ms/step - loss: 0.3259 - acc: 0.8600 - val_loss: 0.5268 - val_acc: 0.8780\n",
            "Epoch 12/100\n",
            "100/100 [==============================] - 19s 188ms/step - loss: 0.3528 - acc: 0.8405 - val_loss: 0.1778 - val_acc: 0.8870\n",
            "Epoch 13/100\n",
            "100/100 [==============================] - 18s 184ms/step - loss: 0.3395 - acc: 0.8465 - val_loss: 0.2588 - val_acc: 0.8860\n",
            "Epoch 14/100\n",
            "100/100 [==============================] - 19s 186ms/step - loss: 0.3191 - acc: 0.8545 - val_loss: 0.5528 - val_acc: 0.8930\n",
            "Epoch 15/100\n",
            "100/100 [==============================] - 19s 186ms/step - loss: 0.3361 - acc: 0.8495 - val_loss: 0.0629 - val_acc: 0.8880\n",
            "Epoch 16/100\n",
            "100/100 [==============================] - 19s 187ms/step - loss: 0.3400 - acc: 0.8425 - val_loss: 0.2198 - val_acc: 0.8910\n",
            "Epoch 17/100\n",
            "100/100 [==============================] - 19s 186ms/step - loss: 0.3287 - acc: 0.8500 - val_loss: 0.1099 - val_acc: 0.8840\n",
            "Epoch 18/100\n",
            "100/100 [==============================] - 19s 185ms/step - loss: 0.3344 - acc: 0.8505 - val_loss: 0.2941 - val_acc: 0.8840\n",
            "Epoch 19/100\n",
            "100/100 [==============================] - 18s 184ms/step - loss: 0.3204 - acc: 0.8670 - val_loss: 0.2839 - val_acc: 0.8910\n",
            "Epoch 20/100\n",
            "100/100 [==============================] - 18s 185ms/step - loss: 0.3137 - acc: 0.8615 - val_loss: 0.3273 - val_acc: 0.8900\n",
            "Epoch 21/100\n",
            "100/100 [==============================] - 19s 187ms/step - loss: 0.3277 - acc: 0.8550 - val_loss: 0.1099 - val_acc: 0.8830\n",
            "Epoch 22/100\n",
            "100/100 [==============================] - 18s 181ms/step - loss: 0.3060 - acc: 0.8640 - val_loss: 0.2862 - val_acc: 0.8880\n",
            "Epoch 23/100\n",
            "100/100 [==============================] - 18s 181ms/step - loss: 0.3285 - acc: 0.8475 - val_loss: 0.2641 - val_acc: 0.8750\n",
            "Epoch 24/100\n",
            "100/100 [==============================] - 18s 182ms/step - loss: 0.3212 - acc: 0.8555 - val_loss: 0.0695 - val_acc: 0.8830\n",
            "Epoch 25/100\n",
            "100/100 [==============================] - 18s 181ms/step - loss: 0.3142 - acc: 0.8540 - val_loss: 0.1336 - val_acc: 0.8730\n",
            "Epoch 26/100\n",
            "100/100 [==============================] - 18s 181ms/step - loss: 0.3323 - acc: 0.8495 - val_loss: 0.1519 - val_acc: 0.8860\n",
            "Epoch 27/100\n",
            "100/100 [==============================] - 18s 179ms/step - loss: 0.3165 - acc: 0.8480 - val_loss: 0.1845 - val_acc: 0.8950\n",
            "Epoch 28/100\n",
            "100/100 [==============================] - 18s 179ms/step - loss: 0.2996 - acc: 0.8645 - val_loss: 0.3721 - val_acc: 0.8880\n",
            "Epoch 29/100\n",
            "100/100 [==============================] - 18s 179ms/step - loss: 0.3120 - acc: 0.8615 - val_loss: 0.3628 - val_acc: 0.8950\n",
            "Epoch 30/100\n",
            "100/100 [==============================] - 18s 181ms/step - loss: 0.3320 - acc: 0.8430 - val_loss: 0.5741 - val_acc: 0.8910\n",
            "Epoch 31/100\n",
            "100/100 [==============================] - 18s 181ms/step - loss: 0.3266 - acc: 0.8545 - val_loss: 0.2985 - val_acc: 0.8910\n",
            "Epoch 32/100\n",
            "100/100 [==============================] - 18s 178ms/step - loss: 0.3164 - acc: 0.8640 - val_loss: 0.3135 - val_acc: 0.8980\n",
            "Epoch 33/100\n",
            "100/100 [==============================] - 18s 180ms/step - loss: 0.3120 - acc: 0.8645 - val_loss: 0.1135 - val_acc: 0.8760\n",
            "Epoch 34/100\n",
            "100/100 [==============================] - 18s 183ms/step - loss: 0.3237 - acc: 0.8530 - val_loss: 0.1051 - val_acc: 0.8950\n",
            "Epoch 35/100\n",
            "100/100 [==============================] - 18s 180ms/step - loss: 0.3193 - acc: 0.8580 - val_loss: 0.2520 - val_acc: 0.8980\n",
            "Epoch 36/100\n",
            "100/100 [==============================] - 18s 182ms/step - loss: 0.3190 - acc: 0.8535 - val_loss: 0.2732 - val_acc: 0.8980\n",
            "Epoch 37/100\n",
            "100/100 [==============================] - 18s 182ms/step - loss: 0.3285 - acc: 0.8525 - val_loss: 0.4182 - val_acc: 0.8930\n",
            "Epoch 38/100\n",
            "100/100 [==============================] - 19s 185ms/step - loss: 0.3238 - acc: 0.8470 - val_loss: 0.1543 - val_acc: 0.8870\n",
            "Epoch 39/100\n",
            "100/100 [==============================] - 18s 183ms/step - loss: 0.3125 - acc: 0.8570 - val_loss: 0.1988 - val_acc: 0.8930\n",
            "Epoch 40/100\n",
            "100/100 [==============================] - 18s 184ms/step - loss: 0.3129 - acc: 0.8580 - val_loss: 0.0407 - val_acc: 0.8860\n",
            "Epoch 41/100\n",
            "100/100 [==============================] - 18s 183ms/step - loss: 0.3227 - acc: 0.8575 - val_loss: 0.2750 - val_acc: 0.8860\n",
            "Epoch 42/100\n",
            "100/100 [==============================] - 18s 181ms/step - loss: 0.3201 - acc: 0.8590 - val_loss: 0.2493 - val_acc: 0.8930\n",
            "Epoch 43/100\n",
            "100/100 [==============================] - 18s 185ms/step - loss: 0.2978 - acc: 0.8655 - val_loss: 0.3610 - val_acc: 0.8880\n",
            "Epoch 44/100\n",
            "100/100 [==============================] - 18s 183ms/step - loss: 0.3318 - acc: 0.8460 - val_loss: 0.1932 - val_acc: 0.8710\n",
            "Epoch 45/100\n",
            "100/100 [==============================] - 18s 183ms/step - loss: 0.3163 - acc: 0.8600 - val_loss: 0.1190 - val_acc: 0.8880\n",
            "Epoch 46/100\n",
            "100/100 [==============================] - 18s 182ms/step - loss: 0.3113 - acc: 0.8520 - val_loss: 0.2038 - val_acc: 0.8960\n",
            "Epoch 47/100\n",
            "100/100 [==============================] - 19s 185ms/step - loss: 0.3097 - acc: 0.8580 - val_loss: 0.1095 - val_acc: 0.8720\n",
            "Epoch 48/100\n",
            "100/100 [==============================] - 18s 182ms/step - loss: 0.3078 - acc: 0.8645 - val_loss: 0.2474 - val_acc: 0.8860\n",
            "Epoch 49/100\n",
            "100/100 [==============================] - 18s 182ms/step - loss: 0.3045 - acc: 0.8660 - val_loss: 0.1257 - val_acc: 0.9040\n",
            "Epoch 50/100\n",
            "100/100 [==============================] - 18s 183ms/step - loss: 0.2975 - acc: 0.8630 - val_loss: 0.1486 - val_acc: 0.8760\n",
            "Epoch 51/100\n",
            "100/100 [==============================] - 18s 183ms/step - loss: 0.3034 - acc: 0.8630 - val_loss: 0.4096 - val_acc: 0.8590\n",
            "Epoch 52/100\n",
            "100/100 [==============================] - 18s 184ms/step - loss: 0.3046 - acc: 0.8740 - val_loss: 0.3823 - val_acc: 0.8970\n",
            "Epoch 53/100\n",
            "100/100 [==============================] - 18s 183ms/step - loss: 0.3136 - acc: 0.8595 - val_loss: 0.5466 - val_acc: 0.8850\n",
            "Epoch 54/100\n",
            "100/100 [==============================] - 18s 182ms/step - loss: 0.3156 - acc: 0.8555 - val_loss: 0.2375 - val_acc: 0.8910\n",
            "Epoch 55/100\n",
            "100/100 [==============================] - 18s 185ms/step - loss: 0.3164 - acc: 0.8625 - val_loss: 0.7218 - val_acc: 0.8710\n",
            "Epoch 56/100\n",
            "100/100 [==============================] - 18s 182ms/step - loss: 0.3317 - acc: 0.8480 - val_loss: 0.1194 - val_acc: 0.8770\n",
            "Epoch 57/100\n",
            "100/100 [==============================] - 18s 181ms/step - loss: 0.3085 - acc: 0.8625 - val_loss: 0.2411 - val_acc: 0.8970\n",
            "Epoch 58/100\n",
            "100/100 [==============================] - 18s 179ms/step - loss: 0.2950 - acc: 0.8715 - val_loss: 0.2706 - val_acc: 0.8960\n",
            "Epoch 59/100\n",
            "100/100 [==============================] - 18s 178ms/step - loss: 0.3174 - acc: 0.8605 - val_loss: 0.4310 - val_acc: 0.8930\n",
            "Epoch 60/100\n",
            "100/100 [==============================] - 18s 178ms/step - loss: 0.2909 - acc: 0.8680 - val_loss: 0.1902 - val_acc: 0.8870\n",
            "Epoch 61/100\n",
            "100/100 [==============================] - 18s 180ms/step - loss: 0.3134 - acc: 0.8605 - val_loss: 0.0652 - val_acc: 0.8840\n",
            "Epoch 62/100\n",
            "100/100 [==============================] - 18s 179ms/step - loss: 0.3192 - acc: 0.8645 - val_loss: 0.2579 - val_acc: 0.8940\n",
            "Epoch 63/100\n",
            "100/100 [==============================] - 18s 181ms/step - loss: 0.3063 - acc: 0.8665 - val_loss: 0.2014 - val_acc: 0.8950\n",
            "Epoch 64/100\n",
            "100/100 [==============================] - 18s 181ms/step - loss: 0.3063 - acc: 0.8695 - val_loss: 0.1531 - val_acc: 0.8970\n",
            "Epoch 65/100\n",
            "100/100 [==============================] - 18s 181ms/step - loss: 0.3024 - acc: 0.8540 - val_loss: 0.0567 - val_acc: 0.8990\n",
            "Epoch 66/100\n",
            "100/100 [==============================] - 18s 180ms/step - loss: 0.2902 - acc: 0.8770 - val_loss: 0.3612 - val_acc: 0.8900\n",
            "Epoch 67/100\n",
            "100/100 [==============================] - 18s 180ms/step - loss: 0.2924 - acc: 0.8665 - val_loss: 0.2814 - val_acc: 0.8840\n",
            "Epoch 68/100\n",
            "100/100 [==============================] - 18s 177ms/step - loss: 0.2995 - acc: 0.8670 - val_loss: 0.0446 - val_acc: 0.8950\n",
            "Epoch 69/100\n",
            "100/100 [==============================] - 18s 179ms/step - loss: 0.2927 - acc: 0.8730 - val_loss: 0.1487 - val_acc: 0.8850\n",
            "Epoch 70/100\n",
            "100/100 [==============================] - 18s 179ms/step - loss: 0.3170 - acc: 0.8555 - val_loss: 0.1884 - val_acc: 0.8930\n",
            "Epoch 71/100\n",
            "100/100 [==============================] - 18s 178ms/step - loss: 0.2887 - acc: 0.8735 - val_loss: 0.2238 - val_acc: 0.8830\n",
            "Epoch 72/100\n",
            "100/100 [==============================] - 18s 179ms/step - loss: 0.2989 - acc: 0.8720 - val_loss: 0.0605 - val_acc: 0.8870\n",
            "Epoch 73/100\n",
            "100/100 [==============================] - 18s 179ms/step - loss: 0.3114 - acc: 0.8615 - val_loss: 0.1981 - val_acc: 0.8880\n",
            "Epoch 74/100\n",
            "100/100 [==============================] - 18s 179ms/step - loss: 0.2951 - acc: 0.8710 - val_loss: 0.3737 - val_acc: 0.8930\n",
            "Epoch 75/100\n",
            "100/100 [==============================] - 18s 177ms/step - loss: 0.3072 - acc: 0.8660 - val_loss: 0.3987 - val_acc: 0.8890\n",
            "Epoch 76/100\n",
            "100/100 [==============================] - 18s 177ms/step - loss: 0.3092 - acc: 0.8680 - val_loss: 0.0975 - val_acc: 0.8940\n",
            "Epoch 77/100\n",
            "100/100 [==============================] - 18s 177ms/step - loss: 0.3049 - acc: 0.8635 - val_loss: 0.2762 - val_acc: 0.8840\n",
            "Epoch 78/100\n",
            "100/100 [==============================] - 18s 178ms/step - loss: 0.2886 - acc: 0.8670 - val_loss: 0.2285 - val_acc: 0.8920\n",
            "Epoch 79/100\n",
            "100/100 [==============================] - 18s 178ms/step - loss: 0.3106 - acc: 0.8700 - val_loss: 0.5409 - val_acc: 0.8920\n",
            "Epoch 80/100\n",
            "100/100 [==============================] - 18s 177ms/step - loss: 0.2958 - acc: 0.8645 - val_loss: 0.1249 - val_acc: 0.8980\n",
            "Epoch 81/100\n",
            "100/100 [==============================] - 18s 176ms/step - loss: 0.2969 - acc: 0.8720 - val_loss: 0.2706 - val_acc: 0.8980\n",
            "Epoch 82/100\n",
            "100/100 [==============================] - 18s 176ms/step - loss: 0.3188 - acc: 0.8490 - val_loss: 0.1201 - val_acc: 0.8950\n",
            "Epoch 83/100\n",
            "100/100 [==============================] - 18s 178ms/step - loss: 0.2977 - acc: 0.8650 - val_loss: 0.2697 - val_acc: 0.8910\n",
            "Epoch 84/100\n",
            "100/100 [==============================] - 18s 177ms/step - loss: 0.3025 - acc: 0.8600 - val_loss: 0.1698 - val_acc: 0.8860\n",
            "Epoch 85/100\n",
            "100/100 [==============================] - 18s 176ms/step - loss: 0.2900 - acc: 0.8780 - val_loss: 0.2884 - val_acc: 0.9000\n",
            "Epoch 86/100\n",
            "100/100 [==============================] - 18s 176ms/step - loss: 0.2932 - acc: 0.8745 - val_loss: 0.2706 - val_acc: 0.8980\n",
            "Epoch 87/100\n",
            "100/100 [==============================] - 18s 177ms/step - loss: 0.2808 - acc: 0.8710 - val_loss: 0.6535 - val_acc: 0.8960\n",
            "Epoch 88/100\n",
            "100/100 [==============================] - 18s 178ms/step - loss: 0.3157 - acc: 0.8590 - val_loss: 0.4127 - val_acc: 0.8810\n",
            "Epoch 89/100\n",
            "100/100 [==============================] - 18s 175ms/step - loss: 0.2947 - acc: 0.8735 - val_loss: 0.1073 - val_acc: 0.8980\n",
            "Epoch 90/100\n",
            "100/100 [==============================] - 18s 177ms/step - loss: 0.2984 - acc: 0.8630 - val_loss: 0.0815 - val_acc: 0.9000\n",
            "Epoch 91/100\n",
            "100/100 [==============================] - 18s 176ms/step - loss: 0.2888 - acc: 0.8705 - val_loss: 0.1808 - val_acc: 0.8860\n",
            "Epoch 92/100\n",
            "100/100 [==============================] - 18s 176ms/step - loss: 0.3125 - acc: 0.8600 - val_loss: 0.3600 - val_acc: 0.8920\n",
            "Epoch 93/100\n",
            "100/100 [==============================] - 17s 174ms/step - loss: 0.2983 - acc: 0.8660 - val_loss: 0.0998 - val_acc: 0.8970\n",
            "Epoch 94/100\n",
            "100/100 [==============================] - 18s 175ms/step - loss: 0.2948 - acc: 0.8695 - val_loss: 0.5920 - val_acc: 0.8880\n",
            "Epoch 95/100\n",
            "100/100 [==============================] - 17s 174ms/step - loss: 0.2986 - acc: 0.8680 - val_loss: 0.0716 - val_acc: 0.8920\n",
            "Epoch 96/100\n",
            "100/100 [==============================] - 17s 174ms/step - loss: 0.2887 - acc: 0.8745 - val_loss: 0.2123 - val_acc: 0.8940\n",
            "Epoch 97/100\n",
            "100/100 [==============================] - 17s 175ms/step - loss: 0.2876 - acc: 0.8700 - val_loss: 0.3217 - val_acc: 0.8910\n",
            "Epoch 98/100\n",
            "100/100 [==============================] - 17s 174ms/step - loss: 0.2822 - acc: 0.8750 - val_loss: 0.1035 - val_acc: 0.8940\n",
            "Epoch 99/100\n",
            "100/100 [==============================] - 17s 174ms/step - loss: 0.2910 - acc: 0.8695 - val_loss: 0.0696 - val_acc: 0.8860\n",
            "Epoch 100/100\n",
            "100/100 [==============================] - 17s 174ms/step - loss: 0.2983 - acc: 0.8680 - val_loss: 0.3183 - val_acc: 0.8900\n"
          ],
          "name": "stdout"
        }
      ]
    },
    {
      "cell_type": "markdown",
      "metadata": {
        "id": "eVBQgh5M-Rtz",
        "colab_type": "text"
      },
      "source": [
        "## Display learning curves during fine-tuning"
      ]
    },
    {
      "cell_type": "code",
      "metadata": {
        "id": "mbkIw7Ie-NP4",
        "colab_type": "code",
        "outputId": "011d37d5-9013-430d-c4d5-5ed6c78d488a",
        "colab": {
          "base_uri": "https://localhost:8080/",
          "height": 545
        }
      },
      "source": [
        "%matplotlib inline\n",
        "\n",
        "import matplotlib.pyplot as plt\n",
        "\n",
        "acc = history.history['acc']\n",
        "val_acc = history.history['val_acc']\n",
        "\n",
        "loss = history.history['loss']\n",
        "val_loss = history.history['val_loss']\n",
        "\n",
        "epochs = range(1, len(acc) + 1)\n",
        "\n",
        "# training and validation accuracy\n",
        "\n",
        "plt.plot(epochs, acc, 'bo', label='training acc')\n",
        "plt.plot(epochs, val_acc, 'b', label='validation acc')\n",
        "plt.title('training and validation accuracy')\n",
        "plt.legend()\n",
        "\n",
        "plt.figure()\n",
        "\n",
        "# training and validation loss\n",
        "\n",
        "plt.plot(epochs, loss, 'bo', label='training loss')\n",
        "plt.plot(epochs, val_loss, 'b', label='validation loss')\n",
        "plt.title('training and validation loss')\n",
        "plt.legend()\n",
        "\n",
        "plt.show()"
      ],
      "execution_count": 14,
      "outputs": [
        {
          "output_type": "display_data",
          "data": {
            "image/png": "[encoded data removed]",
            "text/plain": [
              "<Figure size 432x288 with 1 Axes>"
            ]
          },
          "metadata": {
            "tags": [],
            "needs_background": "light"
          }
        },
        {
          "output_type": "display_data",
          "data": {
            "image/png": "[encoded data removed]",
            "text/plain": [
              "<Figure size 432x288 with 1 Axes>"
            ]
          },
          "metadata": {
            "tags": [],
            "needs_background": "light"
          }
        }
      ]
    },
    {
      "cell_type": "markdown",
      "metadata": {
        "id": "obQi6N4ZShdi",
        "colab_type": "text"
      },
      "source": [
        "This looks like underfitting. In the next notebook, I will aim to improve accuracy by making the classifier more complex."
      ]
    },
    {
      "cell_type": "markdown",
      "metadata": {
        "id": "he3Nw6TOJwjx",
        "colab_type": "text"
      },
      "source": [
        "## Print out validation loss and accuracy"
      ]
    },
    {
      "cell_type": "code",
      "metadata": {
        "id": "SVQtrk7uJdhl",
        "colab_type": "code",
        "colab": {}
      },
      "source": [
        "val_loss, val_acc = model.evaluate_generator(validation_generator, steps=50)"
      ],
      "execution_count": 0,
      "outputs": []
    },
    {
      "cell_type": "code",
      "metadata": {
        "id": "HpdddLi1SUMe",
        "colab_type": "code",
        "outputId": "1a4ae8b1-4ddc-4adb-8105-d7f76f58a6d6",
        "colab": {
          "base_uri": "https://localhost:8080/",
          "height": 51
        }
      },
      "source": [
        "print(\"Validation loss:\", val_loss)\n",
        "print(\"Validation accuracy:\", val_acc)"
      ],
      "execution_count": 16,
      "outputs": [
        {
          "output_type": "stream",
          "text": [
            "Validation loss: 0.3183101713657379\n",
            "Validation accuracy: 0.8899999856948853\n"
          ],
          "name": "stdout"
        }
      ]
    }
  ]
}