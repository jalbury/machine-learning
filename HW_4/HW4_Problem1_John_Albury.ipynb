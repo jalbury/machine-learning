{
  "nbformat": 4,
  "nbformat_minor": 0,
  "metadata": {
    "colab": {
      "name": "HW4_Problem1_John_Albury.ipynb",
      "provenance": [],
      "authorship_tag": "ABX9TyON9jGCma3bfJrSNSD7pgop",
      "include_colab_link": true
    },
    "kernelspec": {
      "name": "python3",
      "display_name": "Python 3"
    }
  },
  "cells": [
    {
      "cell_type": "markdown",
      "metadata": {
        "id": "view-in-github",
        "colab_type": "text"
      },
      "source": [
        "<a href=\"https://colab.research.google.com/github/jalbury/machine-learning/blob/master/HW_4/HW4_Problem1_John_Albury.ipynb\" target=\"_parent\"><img src=\"https://colab.research.google.com/assets/colab-badge.svg\" alt=\"Open In Colab\"/></a>"
      ]
    },
    {
      "cell_type": "markdown",
      "metadata": {
        "id": "HWJ-IzK7b72E",
        "colab_type": "text"
      },
      "source": [
        "# Imports"
      ]
    },
    {
      "cell_type": "code",
      "metadata": {
        "id": "_KHyEj4QhtrU",
        "colab_type": "code",
        "colab": {}
      },
      "source": [
        "import numpy as np"
      ],
      "execution_count": 0,
      "outputs": []
    },
    {
      "cell_type": "markdown",
      "metadata": {
        "id": "zwf-o9Qvb_Gi",
        "colab_type": "text"
      },
      "source": [
        "# Problem 1 Description"
      ]
    },
    {
      "cell_type": "markdown",
      "metadata": {
        "id": "w-CZPK6ShufH",
        "colab_type": "text"
      },
      "source": [
        "In this problem, we are asked to implement a function `conv2d` that takes as input an input matrix (`input_mat`) and a kernel matrix (`kernel_mat`) and outputs the result of the convolution (`output_mat`). Valid padding and a stride of 1 are used.\n",
        "\n",
        "All given matrices must be square (if either given matrix is not, an exception is thrown). If the given input matrix is smaller than the given kernel matrix, an exception is thrown.\n",
        "\n",
        "To perform the dot product of two matrices when performing convolution, I used the `np.tensordot()` function."
      ]
    },
    {
      "cell_type": "markdown",
      "metadata": {
        "id": "avCGsfcUcDrM",
        "colab_type": "text"
      },
      "source": [
        "# Solution"
      ]
    },
    {
      "cell_type": "markdown",
      "metadata": {
        "id": "bwm7pbrsl1xc",
        "colab_type": "text"
      },
      "source": [
        "## Implementation"
      ]
    },
    {
      "cell_type": "code",
      "metadata": {
        "id": "yNkDofVph9dZ",
        "colab_type": "code",
        "colab": {}
      },
      "source": [
        "# Custom exception to handle a non-square matrix being given\n",
        "class NonSquareMatrixError(Exception):\n",
        "  def __init__(self, name, shape):\n",
        "    self.name = name\n",
        "    self.shape = shape\n",
        "  def __str__(self):\n",
        "    return \"{} is not a square matrix (has shape {})\".format(self.name,\n",
        "                                                             self.shape)\n",
        "\n",
        "# Custom exception to handle when the given kernel matrix is larger than the\n",
        "# given input matrix\n",
        "class InvalidConvolutionError(Exception):\n",
        "  def __init__(self, input_shape, kernel_shape):\n",
        "    self.input_shape = input_shape\n",
        "    self.kernel_shape = kernel_shape\n",
        "  def __str__(self):\n",
        "    return \"Kernel matrix (shape {}) is larger than input matrix (shape {})\".\\\n",
        "            format(self.kernel_shape, self.input_shape)\n",
        "\n",
        "# Checks that the given array is a square matrix. If it is not, a custom\n",
        "# exception is thrown.\n",
        "def is_square_matrix(mat, mat_name):\n",
        "  if len(mat.shape) != 2 or mat.shape[0] != mat.shape[1]:\n",
        "    raise NonSquareMatrixError(mat_name, mat.shape)\n",
        "\n",
        "# Computes the convolution of a given input matrix using a given kernel matrix\n",
        "def conv2d(input_mat, kernel_mat):\n",
        "  # Make sure that both given arrays are square matrices\n",
        "  is_square_matrix(input_mat, 'Input matrix')\n",
        "  is_square_matrix(kernel_mat, 'Kernel matrix')\n",
        "\n",
        "  # Make sure that input matrix is at least as large as the kernel matrix\n",
        "  if kernel_mat.shape[0] > input_mat.shape[0]:\n",
        "    raise InvalidConvolutionError(input_mat.shape, kernel_mat.shape)\n",
        "\n",
        "  # Get number of rows/columns in input matrix\n",
        "  input_size = input_mat.shape[0]\n",
        "\n",
        "  # Get offsets from center cell that will be used when creating each patch\n",
        "  if kernel_mat.shape[0] % 2 == 0:\n",
        "    patch_top_left_offset = 0\n",
        "    patch_bottom_right_offset = kernel_mat.shape[0] - 1\n",
        "  else:\n",
        "    patch_top_left_offset = int(kernel_mat.shape[0] / 2)\n",
        "    patch_bottom_right_offset = patch_top_left_offset\n",
        "\n",
        "  # Create output matrix for storing convolution result\n",
        "  output_size = input_size - (patch_top_left_offset + patch_bottom_right_offset)\n",
        "  output_mat = np.empty((output_size, output_size))\n",
        "\n",
        "  # Use sliding window to get every possible patch in input matrix and fill up\n",
        "  # cells in output matrix with result of convolution\n",
        "  for i in range(input_size):\n",
        "    for j in range(input_size):\n",
        "      # Get bounds (in terms of input matrix rows and columns) for this patch\n",
        "      min_patch_row = i - patch_top_left_offset\n",
        "      max_patch_row = i + patch_bottom_right_offset\n",
        "      min_patch_col = j - patch_top_left_offset\n",
        "      max_patch_col = j + patch_bottom_right_offset\n",
        "\n",
        "      # If patch of input matrix would include indices that are out of bounds,\n",
        "      # skip this patch\n",
        "      if (min_patch_row < 0 or min_patch_col < 0 or\n",
        "          max_patch_row >= input_size or max_patch_col >= input_size):\n",
        "        continue\n",
        "      \n",
        "      # Get patch from input matrix\n",
        "      patch = input_mat[min_patch_row : max_patch_row + 1, \n",
        "                        min_patch_col : max_patch_col + 1]\n",
        "\n",
        "      # Compute value in output matrix as patch \"dot\" kernel matrix\n",
        "      output_mat[i-patch_top_left_offset, j-patch_top_left_offset] = \\\n",
        "                np.tensordot(patch, kernel_mat)\n",
        "  \n",
        "  return output_mat"
      ],
      "execution_count": 0,
      "outputs": []
    },
    {
      "cell_type": "markdown",
      "metadata": {
        "id": "qDDt2LJbkrgE",
        "colab_type": "text"
      },
      "source": [
        "## Valid matrices given"
      ]
    },
    {
      "cell_type": "code",
      "metadata": {
        "id": "0hAEGVxFX8KO",
        "colab_type": "code",
        "outputId": "573df3d5-2a1e-4012-f6e6-995e82c0c9ed",
        "colab": {
          "base_uri": "https://localhost:8080/",
          "height": 51
        }
      },
      "source": [
        "input_mat = np.array([[1, 2, 3, 4],\n",
        "                      [5, 6, 7, 8],\n",
        "                      [9, 10, 11, 12],\n",
        "                      [13, 14, 15, 16]])\n",
        "kernel_mat = np.array([[1, 0, 1],\n",
        "                       [0, -1, 0],\n",
        "                       [0, 1, 0]])\n",
        "\n",
        "output_mat = conv2d(input_mat, kernel_mat)\n",
        "\n",
        "print(output_mat)"
      ],
      "execution_count": 3,
      "outputs": [
        {
          "output_type": "stream",
          "text": [
            "[[ 8. 10.]\n",
            " [16. 18.]]\n"
          ],
          "name": "stdout"
        }
      ]
    },
    {
      "cell_type": "code",
      "metadata": {
        "id": "Rdu9etPj9gdT",
        "colab_type": "code",
        "colab": {
          "base_uri": "https://localhost:8080/",
          "height": 51
        },
        "outputId": "eb559d7e-e773-4931-e909-f4f3d6cd0878"
      },
      "source": [
        "input_mat = np.array([[4, 7, 9],\n",
        "                      [8, 2, 3],\n",
        "                      [1, 5, 1]])\n",
        "\n",
        "kernel_mat = np.array([[1, 2],\n",
        "                       [-1, 0]])\n",
        "\n",
        "output_mat = conv2d(input_mat, kernel_mat)\n",
        "\n",
        "print(output_mat)"
      ],
      "execution_count": 6,
      "outputs": [
        {
          "output_type": "stream",
          "text": [
            "[[10. 23.]\n",
            " [11.  3.]]\n"
          ],
          "name": "stdout"
        }
      ]
    },
    {
      "cell_type": "markdown",
      "metadata": {
        "id": "eg3dY2T6k6Mc",
        "colab_type": "text"
      },
      "source": [
        "## Non-square matrix given\n",
        "\n"
      ]
    },
    {
      "cell_type": "code",
      "metadata": {
        "id": "-dKrta44lDBd",
        "colab_type": "code",
        "outputId": "c2699255-117d-47e4-e3bc-1efda74e2030",
        "colab": {
          "base_uri": "https://localhost:8080/",
          "height": 375
        }
      },
      "source": [
        "input_mat = np.array([[1, 2, 3, 4],\n",
        "                      [5, 6, 7, 8],\n",
        "                      [9, 10, 11, 12]])\n",
        "kernel_mat = np.array([[1, 0, 1],\n",
        "                       [0, -1, 0],\n",
        "                       [0, 1, 0]])\n",
        "\n",
        "output_mat = conv2d(input_mat, kernel_mat)\n",
        "\n",
        "print(output_mat)"
      ],
      "execution_count": 7,
      "outputs": [
        {
          "output_type": "error",
          "ename": "NonSquareMatrixError",
          "evalue": "ignored",
          "traceback": [
            "\u001b[0;31m---------------------------------------------------------------------------\u001b[0m",
            "\u001b[0;31mNonSquareMatrixError\u001b[0m                      Traceback (most recent call last)",
            "\u001b[0;32m<ipython-input-7-1684a6ad8f1b>\u001b[0m in \u001b[0;36m<module>\u001b[0;34m()\u001b[0m\n\u001b[1;32m      6\u001b[0m                        [0, 1, 0]])\n\u001b[1;32m      7\u001b[0m \u001b[0;34m\u001b[0m\u001b[0m\n\u001b[0;32m----> 8\u001b[0;31m \u001b[0moutput_mat\u001b[0m \u001b[0;34m=\u001b[0m \u001b[0mconv2d\u001b[0m\u001b[0;34m(\u001b[0m\u001b[0minput_mat\u001b[0m\u001b[0;34m,\u001b[0m \u001b[0mkernel_mat\u001b[0m\u001b[0;34m)\u001b[0m\u001b[0;34m\u001b[0m\u001b[0;34m\u001b[0m\u001b[0m\n\u001b[0m\u001b[1;32m      9\u001b[0m \u001b[0;34m\u001b[0m\u001b[0m\n\u001b[1;32m     10\u001b[0m \u001b[0mprint\u001b[0m\u001b[0;34m(\u001b[0m\u001b[0moutput_mat\u001b[0m\u001b[0;34m)\u001b[0m\u001b[0;34m\u001b[0m\u001b[0;34m\u001b[0m\u001b[0m\n",
            "\u001b[0;32m<ipython-input-2-164cb7aaed5d>\u001b[0m in \u001b[0;36mconv2d\u001b[0;34m(input_mat, kernel_mat)\u001b[0m\n\u001b[1;32m     25\u001b[0m \u001b[0;32mdef\u001b[0m \u001b[0mconv2d\u001b[0m\u001b[0;34m(\u001b[0m\u001b[0minput_mat\u001b[0m\u001b[0;34m,\u001b[0m \u001b[0mkernel_mat\u001b[0m\u001b[0;34m)\u001b[0m\u001b[0;34m:\u001b[0m\u001b[0;34m\u001b[0m\u001b[0;34m\u001b[0m\u001b[0m\n\u001b[1;32m     26\u001b[0m   \u001b[0;31m# Make sure that both given arrays are square matrices\u001b[0m\u001b[0;34m\u001b[0m\u001b[0;34m\u001b[0m\u001b[0;34m\u001b[0m\u001b[0m\n\u001b[0;32m---> 27\u001b[0;31m   \u001b[0mis_square_matrix\u001b[0m\u001b[0;34m(\u001b[0m\u001b[0minput_mat\u001b[0m\u001b[0;34m,\u001b[0m \u001b[0;34m'Input matrix'\u001b[0m\u001b[0;34m)\u001b[0m\u001b[0;34m\u001b[0m\u001b[0;34m\u001b[0m\u001b[0m\n\u001b[0m\u001b[1;32m     28\u001b[0m   \u001b[0mis_square_matrix\u001b[0m\u001b[0;34m(\u001b[0m\u001b[0mkernel_mat\u001b[0m\u001b[0;34m,\u001b[0m \u001b[0;34m'Kernel matrix'\u001b[0m\u001b[0;34m)\u001b[0m\u001b[0;34m\u001b[0m\u001b[0;34m\u001b[0m\u001b[0m\n\u001b[1;32m     29\u001b[0m \u001b[0;34m\u001b[0m\u001b[0m\n",
            "\u001b[0;32m<ipython-input-2-164cb7aaed5d>\u001b[0m in \u001b[0;36mis_square_matrix\u001b[0;34m(mat, mat_name)\u001b[0m\n\u001b[1;32m     20\u001b[0m \u001b[0;32mdef\u001b[0m \u001b[0mis_square_matrix\u001b[0m\u001b[0;34m(\u001b[0m\u001b[0mmat\u001b[0m\u001b[0;34m,\u001b[0m \u001b[0mmat_name\u001b[0m\u001b[0;34m)\u001b[0m\u001b[0;34m:\u001b[0m\u001b[0;34m\u001b[0m\u001b[0;34m\u001b[0m\u001b[0m\n\u001b[1;32m     21\u001b[0m   \u001b[0;32mif\u001b[0m \u001b[0mlen\u001b[0m\u001b[0;34m(\u001b[0m\u001b[0mmat\u001b[0m\u001b[0;34m.\u001b[0m\u001b[0mshape\u001b[0m\u001b[0;34m)\u001b[0m \u001b[0;34m!=\u001b[0m \u001b[0;36m2\u001b[0m \u001b[0;32mor\u001b[0m \u001b[0mmat\u001b[0m\u001b[0;34m.\u001b[0m\u001b[0mshape\u001b[0m\u001b[0;34m[\u001b[0m\u001b[0;36m0\u001b[0m\u001b[0;34m]\u001b[0m \u001b[0;34m!=\u001b[0m \u001b[0mmat\u001b[0m\u001b[0;34m.\u001b[0m\u001b[0mshape\u001b[0m\u001b[0;34m[\u001b[0m\u001b[0;36m1\u001b[0m\u001b[0;34m]\u001b[0m\u001b[0;34m:\u001b[0m\u001b[0;34m\u001b[0m\u001b[0;34m\u001b[0m\u001b[0m\n\u001b[0;32m---> 22\u001b[0;31m     \u001b[0;32mraise\u001b[0m \u001b[0mNonSquareMatrixError\u001b[0m\u001b[0;34m(\u001b[0m\u001b[0mmat_name\u001b[0m\u001b[0;34m,\u001b[0m \u001b[0mmat\u001b[0m\u001b[0;34m.\u001b[0m\u001b[0mshape\u001b[0m\u001b[0;34m)\u001b[0m\u001b[0;34m\u001b[0m\u001b[0;34m\u001b[0m\u001b[0m\n\u001b[0m\u001b[1;32m     23\u001b[0m \u001b[0;34m\u001b[0m\u001b[0m\n\u001b[1;32m     24\u001b[0m \u001b[0;31m# Computes the convolution of a given input matrix using a given kernel matrix\u001b[0m\u001b[0;34m\u001b[0m\u001b[0;34m\u001b[0m\u001b[0;34m\u001b[0m\u001b[0m\n",
            "\u001b[0;31mNonSquareMatrixError\u001b[0m: Input matrix is not a square matrix (has shape (3, 4))"
          ]
        }
      ]
    },
    {
      "cell_type": "code",
      "metadata": {
        "id": "VPDESRAJlHJ_",
        "colab_type": "code",
        "outputId": "c17e063d-79f4-4fe3-bf31-2b7d41170888",
        "colab": {
          "base_uri": "https://localhost:8080/",
          "height": 375
        }
      },
      "source": [
        "input_mat = np.array([[1, 2, 3, 4],\n",
        "                      [5, 6, 7, 8],\n",
        "                      [9, 10, 11, 12],\n",
        "                      [13, 14, 15, 16]])\n",
        "kernel_mat = np.array([[1, 0],\n",
        "                       [0, -1],\n",
        "                       [0, 1]])\n",
        "\n",
        "output_mat = conv2d(input_mat, kernel_mat)\n",
        "\n",
        "print(output_mat)"
      ],
      "execution_count": 8,
      "outputs": [
        {
          "output_type": "error",
          "ename": "NonSquareMatrixError",
          "evalue": "ignored",
          "traceback": [
            "\u001b[0;31m---------------------------------------------------------------------------\u001b[0m",
            "\u001b[0;31mNonSquareMatrixError\u001b[0m                      Traceback (most recent call last)",
            "\u001b[0;32m<ipython-input-8-5d0f60357c30>\u001b[0m in \u001b[0;36m<module>\u001b[0;34m()\u001b[0m\n\u001b[1;32m      7\u001b[0m                        [0, 1]])\n\u001b[1;32m      8\u001b[0m \u001b[0;34m\u001b[0m\u001b[0m\n\u001b[0;32m----> 9\u001b[0;31m \u001b[0moutput_mat\u001b[0m \u001b[0;34m=\u001b[0m \u001b[0mconv2d\u001b[0m\u001b[0;34m(\u001b[0m\u001b[0minput_mat\u001b[0m\u001b[0;34m,\u001b[0m \u001b[0mkernel_mat\u001b[0m\u001b[0;34m)\u001b[0m\u001b[0;34m\u001b[0m\u001b[0;34m\u001b[0m\u001b[0m\n\u001b[0m\u001b[1;32m     10\u001b[0m \u001b[0;34m\u001b[0m\u001b[0m\n\u001b[1;32m     11\u001b[0m \u001b[0mprint\u001b[0m\u001b[0;34m(\u001b[0m\u001b[0moutput_mat\u001b[0m\u001b[0;34m)\u001b[0m\u001b[0;34m\u001b[0m\u001b[0;34m\u001b[0m\u001b[0m\n",
            "\u001b[0;32m<ipython-input-2-164cb7aaed5d>\u001b[0m in \u001b[0;36mconv2d\u001b[0;34m(input_mat, kernel_mat)\u001b[0m\n\u001b[1;32m     26\u001b[0m   \u001b[0;31m# Make sure that both given arrays are square matrices\u001b[0m\u001b[0;34m\u001b[0m\u001b[0;34m\u001b[0m\u001b[0;34m\u001b[0m\u001b[0m\n\u001b[1;32m     27\u001b[0m   \u001b[0mis_square_matrix\u001b[0m\u001b[0;34m(\u001b[0m\u001b[0minput_mat\u001b[0m\u001b[0;34m,\u001b[0m \u001b[0;34m'Input matrix'\u001b[0m\u001b[0;34m)\u001b[0m\u001b[0;34m\u001b[0m\u001b[0;34m\u001b[0m\u001b[0m\n\u001b[0;32m---> 28\u001b[0;31m   \u001b[0mis_square_matrix\u001b[0m\u001b[0;34m(\u001b[0m\u001b[0mkernel_mat\u001b[0m\u001b[0;34m,\u001b[0m \u001b[0;34m'Kernel matrix'\u001b[0m\u001b[0;34m)\u001b[0m\u001b[0;34m\u001b[0m\u001b[0;34m\u001b[0m\u001b[0m\n\u001b[0m\u001b[1;32m     29\u001b[0m \u001b[0;34m\u001b[0m\u001b[0m\n\u001b[1;32m     30\u001b[0m   \u001b[0;31m# Make sure that input matrix is at least as large as the kernel matrix\u001b[0m\u001b[0;34m\u001b[0m\u001b[0;34m\u001b[0m\u001b[0;34m\u001b[0m\u001b[0m\n",
            "\u001b[0;32m<ipython-input-2-164cb7aaed5d>\u001b[0m in \u001b[0;36mis_square_matrix\u001b[0;34m(mat, mat_name)\u001b[0m\n\u001b[1;32m     20\u001b[0m \u001b[0;32mdef\u001b[0m \u001b[0mis_square_matrix\u001b[0m\u001b[0;34m(\u001b[0m\u001b[0mmat\u001b[0m\u001b[0;34m,\u001b[0m \u001b[0mmat_name\u001b[0m\u001b[0;34m)\u001b[0m\u001b[0;34m:\u001b[0m\u001b[0;34m\u001b[0m\u001b[0;34m\u001b[0m\u001b[0m\n\u001b[1;32m     21\u001b[0m   \u001b[0;32mif\u001b[0m \u001b[0mlen\u001b[0m\u001b[0;34m(\u001b[0m\u001b[0mmat\u001b[0m\u001b[0;34m.\u001b[0m\u001b[0mshape\u001b[0m\u001b[0;34m)\u001b[0m \u001b[0;34m!=\u001b[0m \u001b[0;36m2\u001b[0m \u001b[0;32mor\u001b[0m \u001b[0mmat\u001b[0m\u001b[0;34m.\u001b[0m\u001b[0mshape\u001b[0m\u001b[0;34m[\u001b[0m\u001b[0;36m0\u001b[0m\u001b[0;34m]\u001b[0m \u001b[0;34m!=\u001b[0m \u001b[0mmat\u001b[0m\u001b[0;34m.\u001b[0m\u001b[0mshape\u001b[0m\u001b[0;34m[\u001b[0m\u001b[0;36m1\u001b[0m\u001b[0;34m]\u001b[0m\u001b[0;34m:\u001b[0m\u001b[0;34m\u001b[0m\u001b[0;34m\u001b[0m\u001b[0m\n\u001b[0;32m---> 22\u001b[0;31m     \u001b[0;32mraise\u001b[0m \u001b[0mNonSquareMatrixError\u001b[0m\u001b[0;34m(\u001b[0m\u001b[0mmat_name\u001b[0m\u001b[0;34m,\u001b[0m \u001b[0mmat\u001b[0m\u001b[0;34m.\u001b[0m\u001b[0mshape\u001b[0m\u001b[0;34m)\u001b[0m\u001b[0;34m\u001b[0m\u001b[0;34m\u001b[0m\u001b[0m\n\u001b[0m\u001b[1;32m     23\u001b[0m \u001b[0;34m\u001b[0m\u001b[0m\n\u001b[1;32m     24\u001b[0m \u001b[0;31m# Computes the convolution of a given input matrix using a given kernel matrix\u001b[0m\u001b[0;34m\u001b[0m\u001b[0;34m\u001b[0m\u001b[0;34m\u001b[0m\u001b[0m\n",
            "\u001b[0;31mNonSquareMatrixError\u001b[0m: Kernel matrix is not a square matrix (has shape (3, 2))"
          ]
        }
      ]
    },
    {
      "cell_type": "markdown",
      "metadata": {
        "id": "BXJ_hnpklLwu",
        "colab_type": "text"
      },
      "source": [
        "## Invalid matrix pair given (kernel matrix larger than input matrix)"
      ]
    },
    {
      "cell_type": "code",
      "metadata": {
        "id": "2pV6ocaVlk6W",
        "colab_type": "code",
        "outputId": "c32ae3ee-9758-4a69-c1a1-adba6bc38e47",
        "colab": {
          "base_uri": "https://localhost:8080/",
          "height": 351
        }
      },
      "source": [
        "input_mat = np.array([[1, 0, 1],\n",
        "                       [0, -1, 0],\n",
        "                       [0, 1, 0]])\n",
        "kernel_mat = np.array([[1, 2, 3, 4],\n",
        "                      [5, 6, 7, 8],\n",
        "                      [9, 10, 11, 12],\n",
        "                      [13, 14, 15, 16]])\n",
        "\n",
        "output_mat = conv2d(input_mat, kernel_mat)\n",
        "\n",
        "print(output_mat)"
      ],
      "execution_count": 9,
      "outputs": [
        {
          "output_type": "error",
          "ename": "InvalidConvolutionError",
          "evalue": "ignored",
          "traceback": [
            "\u001b[0;31m---------------------------------------------------------------------------\u001b[0m",
            "\u001b[0;31mInvalidConvolutionError\u001b[0m                   Traceback (most recent call last)",
            "\u001b[0;32m<ipython-input-9-32a83aad7394>\u001b[0m in \u001b[0;36m<module>\u001b[0;34m()\u001b[0m\n\u001b[1;32m      7\u001b[0m                       [13, 14, 15, 16]])\n\u001b[1;32m      8\u001b[0m \u001b[0;34m\u001b[0m\u001b[0m\n\u001b[0;32m----> 9\u001b[0;31m \u001b[0moutput_mat\u001b[0m \u001b[0;34m=\u001b[0m \u001b[0mconv2d\u001b[0m\u001b[0;34m(\u001b[0m\u001b[0minput_mat\u001b[0m\u001b[0;34m,\u001b[0m \u001b[0mkernel_mat\u001b[0m\u001b[0;34m)\u001b[0m\u001b[0;34m\u001b[0m\u001b[0;34m\u001b[0m\u001b[0m\n\u001b[0m\u001b[1;32m     10\u001b[0m \u001b[0;34m\u001b[0m\u001b[0m\n\u001b[1;32m     11\u001b[0m \u001b[0mprint\u001b[0m\u001b[0;34m(\u001b[0m\u001b[0moutput_mat\u001b[0m\u001b[0;34m)\u001b[0m\u001b[0;34m\u001b[0m\u001b[0;34m\u001b[0m\u001b[0m\n",
            "\u001b[0;32m<ipython-input-2-164cb7aaed5d>\u001b[0m in \u001b[0;36mconv2d\u001b[0;34m(input_mat, kernel_mat)\u001b[0m\n\u001b[1;32m     30\u001b[0m   \u001b[0;31m# Make sure that input matrix is at least as large as the kernel matrix\u001b[0m\u001b[0;34m\u001b[0m\u001b[0;34m\u001b[0m\u001b[0;34m\u001b[0m\u001b[0m\n\u001b[1;32m     31\u001b[0m   \u001b[0;32mif\u001b[0m \u001b[0mkernel_mat\u001b[0m\u001b[0;34m.\u001b[0m\u001b[0mshape\u001b[0m\u001b[0;34m[\u001b[0m\u001b[0;36m0\u001b[0m\u001b[0;34m]\u001b[0m \u001b[0;34m>\u001b[0m \u001b[0minput_mat\u001b[0m\u001b[0;34m.\u001b[0m\u001b[0mshape\u001b[0m\u001b[0;34m[\u001b[0m\u001b[0;36m0\u001b[0m\u001b[0;34m]\u001b[0m\u001b[0;34m:\u001b[0m\u001b[0;34m\u001b[0m\u001b[0;34m\u001b[0m\u001b[0m\n\u001b[0;32m---> 32\u001b[0;31m     \u001b[0;32mraise\u001b[0m \u001b[0mInvalidConvolutionError\u001b[0m\u001b[0;34m(\u001b[0m\u001b[0minput_mat\u001b[0m\u001b[0;34m.\u001b[0m\u001b[0mshape\u001b[0m\u001b[0;34m,\u001b[0m \u001b[0mkernel_mat\u001b[0m\u001b[0;34m.\u001b[0m\u001b[0mshape\u001b[0m\u001b[0;34m)\u001b[0m\u001b[0;34m\u001b[0m\u001b[0;34m\u001b[0m\u001b[0m\n\u001b[0m\u001b[1;32m     33\u001b[0m \u001b[0;34m\u001b[0m\u001b[0m\n\u001b[1;32m     34\u001b[0m   \u001b[0;31m# Get number of rows/columns in input matrix\u001b[0m\u001b[0;34m\u001b[0m\u001b[0;34m\u001b[0m\u001b[0;34m\u001b[0m\u001b[0m\n",
            "\u001b[0;31mInvalidConvolutionError\u001b[0m: Kernel matrix (shape (4, 4)) is larger than input matrix (shape (3, 3))"
          ]
        }
      ]
    }
  ]
}